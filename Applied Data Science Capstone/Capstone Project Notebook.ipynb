{
    "cells": [
        {
            "metadata": {
                "id": "6yyLgGK7oIYR",
                "colab_type": "text"
            },
            "cell_type": "markdown",
            "source": "<h1 align=\"center\"> A Way to Find The Best Place</h1>\n<h2 align=\"center\">Clustering the Neighbourhoods of Bogota</h2>"
        },
        {
            "metadata": {
                "id": "2mGZf__gI-nX",
                "colab_type": "text"
            },
            "cell_type": "markdown",
            "source": "<p align =\"center\"> Richard Alejandro Mora Perilla \n<br>\n<br>\n06 February 2021\n</p>\n\n\n"
        },
        {
            "metadata": {
                "id": "MeV3b1twUm8I",
                "colab_type": "text"
            },
            "cell_type": "markdown",
            "source": "# Introduction\n\n\nNormally when people travel they make a plan or a routine to be able to know certain places of the site to which they are going to travel, however, prior to this, people usually look for those relevant places to which they would like to go according to the opinions or comments of the people who are near there.\n\n# Business Problem\n\nThe problem to be solved is that of which sites could be known according to the good opinions of people from places close to that site, in order to make a decision before making your trip also this data collection can also help to recognize a good place to live in the city.\n\n\n# Data Description\n\nWe require geolocation data for both Bogota. The city's zip codes serve as a starting point. Using the zip codes we use we can find the most popular towns, districts, places and their categories of places.\n\n\n## Bogota\n\nTo derive our solution, We scrape our data from https://es.wikipedia.org/wiki/Anexo:Localidades_de_Bogot%C3%A1\n\nThis wikipedia page has information about all the localities.\n\n1. *town* : Name of the localitie.\n2. *post_code* : Postal codes.\n\n## Foursquare API Data\n\nWe will need data about different venues. In order to gain that information we will use \"Foursquare\" locational information. Foursquare is a location data provider with information about all manner of venues and events within an area of interest. Such information includes venue names, locations, menus and even photos. As such, the foursquare location platform will be used as the sole data source since all the stated required information can be obtained through the API.\n\nThe data retrieved from Foursquare contained information of venues within a specified distance of the longitude and latitude of the postcodes. The information obtained per venue as follows:\n\nNeighborhood\nNeighborhood Latitude\nNeighborhood Longitude\nVenue\nName of the venue e.g. the name of a store or restaurant\nVenue Latitude\nVenue Longitude\nVenue Category"
        },
        {
            "metadata": {
                "id": "grxuaIg4VzqI",
                "colab_type": "text"
            },
            "cell_type": "markdown",
            "source": "# Methodology\n\nWe will be creating our model with the help of Python so we start off by importing all the required packages."
        },
        {
            "metadata": {
                "id": "nLfRKuimJA8l",
                "colab_type": "code",
                "colab": {},
                "executionInfo": {
                    "status": "ok",
                    "timestamp": 1597724127785,
                    "user_tz": -330,
                    "elapsed": 5683,
                    "user": {
                        "displayName": "Thomas George Thomas",
                        "photoUrl": "https://lh3.googleusercontent.com/a-/AOh14GhRjmtno5yCmJOUjYiFNGHi_xP5YZBJ1ZpWGKsZ=s64",
                        "userId": "09561174857978505545"
                    }
                }
            },
            "cell_type": "code",
            "source": "import pandas as pd\nimport requests\nimport numpy as np\nimport matplotlib.cm as cm\nimport matplotlib.colors as colors\nimport folium\nfrom sklearn.cluster import KMeans",
            "execution_count": 1,
            "outputs": []
        },
        {
            "metadata": {
                "id": "GMUK5JXj-v02",
                "colab_type": "text"
            },
            "cell_type": "markdown",
            "source": "### Localities\n\nWe begin to start collecting and refining the data needed for the business solution."
        },
        {
            "metadata": {
                "id": "Gcykox2lACgw",
                "colab_type": "text"
            },
            "cell_type": "markdown",
            "source": "### Data Collection"
        },
        {
            "metadata": {
                "id": "BQabiUfuojRh",
                "colab_type": "text"
            },
            "cell_type": "markdown",
            "source": "To get the localities in Bogota, we start by scraping the list of areas of Bogota wiki page."
        },
        {
            "metadata": {
                "id": "kv-k8uzMJzE7",
                "colab_type": "code",
                "colab": {
                    "base_uri": "https://localhost:8080/",
                    "height": 34
                },
                "executionInfo": {
                    "status": "ok",
                    "timestamp": 1597724127787,
                    "user_tz": -330,
                    "elapsed": 5652,
                    "user": {
                        "displayName": "Thomas George Thomas",
                        "photoUrl": "https://lh3.googleusercontent.com/a-/AOh14GhRjmtno5yCmJOUjYiFNGHi_xP5YZBJ1ZpWGKsZ=s64",
                        "userId": "09561174857978505545"
                    }
                },
                "outputId": "a5cae1cf-8387-4c88-fc39-c4b30e50f374"
            },
            "cell_type": "code",
            "source": "url = \"https://es.wikipedia.org/wiki/Anexo:Localidades_de_Bogot%C3%A1\"\nwiki = requests.get(url)\nwiki",
            "execution_count": 2,
            "outputs": [
                {
                    "output_type": "execute_result",
                    "execution_count": 2,
                    "data": {
                        "text/plain": "<Response [200]>"
                    },
                    "metadata": {}
                }
            ]
        },
        {
            "metadata": {
                "id": "zYL7DqPsor6M",
                "colab_type": "text"
            },
            "cell_type": "markdown",
            "source": "Response 200 means that we are able to make the connection"
        },
        {
            "metadata": {
                "id": "1XTWMxawJ_JX",
                "colab_type": "code",
                "colab": {
                    "base_uri": "https://localhost:8080/",
                    "height": 612
                },
                "executionInfo": {
                    "status": "ok",
                    "timestamp": 1597724129256,
                    "user_tz": -330,
                    "elapsed": 7107,
                    "user": {
                        "displayName": "Thomas George Thomas",
                        "photoUrl": "https://lh3.googleusercontent.com/a-/AOh14GhRjmtno5yCmJOUjYiFNGHi_xP5YZBJ1ZpWGKsZ=s64",
                        "userId": "09561174857978505545"
                    }
                },
                "outputId": "a04670cf-0151-4d18-c710-252b387c53a7"
            },
            "cell_type": "code",
            "source": "wiki_data = pd.read_html(wiki.text)\nwiki_data",
            "execution_count": 3,
            "outputs": [
                {
                    "output_type": "execute_result",
                    "execution_count": 3,
                    "data": {
                        "text/plain": "[    N\u00ba           Localidad C\u00f3digos Postales  Superficie km\u00b2[2]\u200b Poblaci\u00f3n[3]\u200b  \\\n 0    1             Usaqu\u00e9n    110111-110151               65.31       501\u00a0999   \n 1    2           Chapinero    110211-110231               38.15       139\u00a0701   \n 2    3            Santa Fe    110311-110321               45.17       110\u00a0048   \n 3    4       San Crist\u00f3bal    110411-110441               49.09       404\u00a0697   \n 4    5                Usme    110511-110571              215.06       457\u00a0302   \n 5    6          Tunjuelito    110611-110621                9.91       199\u00a0430   \n 6    7                Bosa    110711-110741               23.93       673\u00a0077   \n 7    8             Kennedy    110811-110881               38.59     1 088\u00a0443   \n 8    9            Fontib\u00f3n    110911-110931               33.28       394\u00a0648   \n 9   10            Engativ\u00e1    111011-111071               35.88       887\u00a0080   \n 10  11                Suba    111111-111176              100.56     1 218\u00a0513   \n 11  12      Barrios Unidos    111211-111221               11.90       243\u00a0465   \n 12  13         Teusaquillo    111311-111321               14.19       153\u00a0025   \n 13  14        Los M\u00e1rtires           111411                6.51        99\u00a0119   \n 14  15      Antonio Nari\u00f1o           111511                4.88       109\u00a0176   \n 15  16       Puente Aranda    111611-111631               17.31       258\u00a0287   \n 16  17       La Candelaria           111711                2.06        24\u00a0088   \n 17  18  Rafael Uribe Uribe    111811-111841               13.83       374\u00a0246   \n 18  19      Ciudad Bol\u00edvar    111911-111981              130.00       733\u00a0859   \n 19  20             Sumapaz    112011-112041              780.96         6\u00a0531   \n \n    Densidad hab/km\u00b2  \n 0           7\u00a0686.4  \n 1          3\u00a0661.88  \n 2           2\u00a0436.3  \n 3          8\u00a0243.98  \n 4          2\u00a0126.39  \n 5         20\u00a0124.11  \n 6         28\u00a0126.91  \n 7         28\u00a0205.31  \n 8         11\u00a0858.41  \n 9         24\u00a0723.52  \n 10        12\u00a0117.27  \n 11        20\u00a0459.24  \n 12           10\u00a0784  \n 13        15\u00a0225.65  \n 14        22\u00a0372.12  \n 15        14\u00a0921.25  \n 16         11\u00a0693.2  \n 17        27\u00a0060.44  \n 18         5\u00a0442.83  \n 19             8.36  ]"
                    },
                    "metadata": {}
                }
            ]
        },
        {
            "metadata": {
                "id": "8GEHfe2SowP8",
                "colab_type": "text"
            },
            "cell_type": "markdown",
            "source": "Scraping the webpage gives us all the tables present on the page. We need the 2nd table, so selecting the 2nd table."
        },
        {
            "metadata": {
                "id": "Kpvqvt8SKNKC",
                "colab_type": "code",
                "colab": {
                    "base_uri": "https://localhost:8080/",
                    "height": 419
                },
                "executionInfo": {
                    "status": "ok",
                    "timestamp": 1597724129257,
                    "user_tz": -330,
                    "elapsed": 7095,
                    "user": {
                        "displayName": "Thomas George Thomas",
                        "photoUrl": "https://lh3.googleusercontent.com/a-/AOh14GhRjmtno5yCmJOUjYiFNGHi_xP5YZBJ1ZpWGKsZ=s64",
                        "userId": "09561174857978505545"
                    }
                },
                "outputId": "042ed43d-6187-4f8c-ba96-1e72a18aecc7"
            },
            "cell_type": "code",
            "source": "wiki_data = wiki_data[0]\nwiki_data",
            "execution_count": 4,
            "outputs": [
                {
                    "output_type": "execute_result",
                    "execution_count": 4,
                    "data": {
                        "text/plain": "    N\u00ba           Localidad C\u00f3digos Postales  Superficie km\u00b2[2]\u200b Poblaci\u00f3n[3]\u200b  \\\n0    1             Usaqu\u00e9n    110111-110151               65.31       501\u00a0999   \n1    2           Chapinero    110211-110231               38.15       139\u00a0701   \n2    3            Santa Fe    110311-110321               45.17       110\u00a0048   \n3    4       San Crist\u00f3bal    110411-110441               49.09       404\u00a0697   \n4    5                Usme    110511-110571              215.06       457\u00a0302   \n5    6          Tunjuelito    110611-110621                9.91       199\u00a0430   \n6    7                Bosa    110711-110741               23.93       673\u00a0077   \n7    8             Kennedy    110811-110881               38.59     1 088\u00a0443   \n8    9            Fontib\u00f3n    110911-110931               33.28       394\u00a0648   \n9   10            Engativ\u00e1    111011-111071               35.88       887\u00a0080   \n10  11                Suba    111111-111176              100.56     1 218\u00a0513   \n11  12      Barrios Unidos    111211-111221               11.90       243\u00a0465   \n12  13         Teusaquillo    111311-111321               14.19       153\u00a0025   \n13  14        Los M\u00e1rtires           111411                6.51        99\u00a0119   \n14  15      Antonio Nari\u00f1o           111511                4.88       109\u00a0176   \n15  16       Puente Aranda    111611-111631               17.31       258\u00a0287   \n16  17       La Candelaria           111711                2.06        24\u00a0088   \n17  18  Rafael Uribe Uribe    111811-111841               13.83       374\u00a0246   \n18  19      Ciudad Bol\u00edvar    111911-111981              130.00       733\u00a0859   \n19  20             Sumapaz    112011-112041              780.96         6\u00a0531   \n\n   Densidad hab/km\u00b2  \n0           7\u00a0686.4  \n1          3\u00a0661.88  \n2           2\u00a0436.3  \n3          8\u00a0243.98  \n4          2\u00a0126.39  \n5         20\u00a0124.11  \n6         28\u00a0126.91  \n7         28\u00a0205.31  \n8         11\u00a0858.41  \n9         24\u00a0723.52  \n10        12\u00a0117.27  \n11        20\u00a0459.24  \n12           10\u00a0784  \n13        15\u00a0225.65  \n14        22\u00a0372.12  \n15        14\u00a0921.25  \n16         11\u00a0693.2  \n17        27\u00a0060.44  \n18         5\u00a0442.83  \n19             8.36  ",
                        "text/html": "<div>\n<style scoped>\n    .dataframe tbody tr th:only-of-type {\n        vertical-align: middle;\n    }\n\n    .dataframe tbody tr th {\n        vertical-align: top;\n    }\n\n    .dataframe thead th {\n        text-align: right;\n    }\n</style>\n<table border=\"1\" class=\"dataframe\">\n  <thead>\n    <tr style=\"text-align: right;\">\n      <th></th>\n      <th>N\u00ba</th>\n      <th>Localidad</th>\n      <th>C\u00f3digos Postales</th>\n      <th>Superficie km\u00b2[2]\u200b</th>\n      <th>Poblaci\u00f3n[3]\u200b</th>\n      <th>Densidad hab/km\u00b2</th>\n    </tr>\n  </thead>\n  <tbody>\n    <tr>\n      <th>0</th>\n      <td>1</td>\n      <td>Usaqu\u00e9n</td>\n      <td>110111-110151</td>\n      <td>65.31</td>\n      <td>501\u00a0999</td>\n      <td>7\u00a0686.4</td>\n    </tr>\n    <tr>\n      <th>1</th>\n      <td>2</td>\n      <td>Chapinero</td>\n      <td>110211-110231</td>\n      <td>38.15</td>\n      <td>139\u00a0701</td>\n      <td>3\u00a0661.88</td>\n    </tr>\n    <tr>\n      <th>2</th>\n      <td>3</td>\n      <td>Santa Fe</td>\n      <td>110311-110321</td>\n      <td>45.17</td>\n      <td>110\u00a0048</td>\n      <td>2\u00a0436.3</td>\n    </tr>\n    <tr>\n      <th>3</th>\n      <td>4</td>\n      <td>San Crist\u00f3bal</td>\n      <td>110411-110441</td>\n      <td>49.09</td>\n      <td>404\u00a0697</td>\n      <td>8\u00a0243.98</td>\n    </tr>\n    <tr>\n      <th>4</th>\n      <td>5</td>\n      <td>Usme</td>\n      <td>110511-110571</td>\n      <td>215.06</td>\n      <td>457\u00a0302</td>\n      <td>2\u00a0126.39</td>\n    </tr>\n    <tr>\n      <th>5</th>\n      <td>6</td>\n      <td>Tunjuelito</td>\n      <td>110611-110621</td>\n      <td>9.91</td>\n      <td>199\u00a0430</td>\n      <td>20\u00a0124.11</td>\n    </tr>\n    <tr>\n      <th>6</th>\n      <td>7</td>\n      <td>Bosa</td>\n      <td>110711-110741</td>\n      <td>23.93</td>\n      <td>673\u00a0077</td>\n      <td>28\u00a0126.91</td>\n    </tr>\n    <tr>\n      <th>7</th>\n      <td>8</td>\n      <td>Kennedy</td>\n      <td>110811-110881</td>\n      <td>38.59</td>\n      <td>1 088\u00a0443</td>\n      <td>28\u00a0205.31</td>\n    </tr>\n    <tr>\n      <th>8</th>\n      <td>9</td>\n      <td>Fontib\u00f3n</td>\n      <td>110911-110931</td>\n      <td>33.28</td>\n      <td>394\u00a0648</td>\n      <td>11\u00a0858.41</td>\n    </tr>\n    <tr>\n      <th>9</th>\n      <td>10</td>\n      <td>Engativ\u00e1</td>\n      <td>111011-111071</td>\n      <td>35.88</td>\n      <td>887\u00a0080</td>\n      <td>24\u00a0723.52</td>\n    </tr>\n    <tr>\n      <th>10</th>\n      <td>11</td>\n      <td>Suba</td>\n      <td>111111-111176</td>\n      <td>100.56</td>\n      <td>1 218\u00a0513</td>\n      <td>12\u00a0117.27</td>\n    </tr>\n    <tr>\n      <th>11</th>\n      <td>12</td>\n      <td>Barrios Unidos</td>\n      <td>111211-111221</td>\n      <td>11.90</td>\n      <td>243\u00a0465</td>\n      <td>20\u00a0459.24</td>\n    </tr>\n    <tr>\n      <th>12</th>\n      <td>13</td>\n      <td>Teusaquillo</td>\n      <td>111311-111321</td>\n      <td>14.19</td>\n      <td>153\u00a0025</td>\n      <td>10\u00a0784</td>\n    </tr>\n    <tr>\n      <th>13</th>\n      <td>14</td>\n      <td>Los M\u00e1rtires</td>\n      <td>111411</td>\n      <td>6.51</td>\n      <td>99\u00a0119</td>\n      <td>15\u00a0225.65</td>\n    </tr>\n    <tr>\n      <th>14</th>\n      <td>15</td>\n      <td>Antonio Nari\u00f1o</td>\n      <td>111511</td>\n      <td>4.88</td>\n      <td>109\u00a0176</td>\n      <td>22\u00a0372.12</td>\n    </tr>\n    <tr>\n      <th>15</th>\n      <td>16</td>\n      <td>Puente Aranda</td>\n      <td>111611-111631</td>\n      <td>17.31</td>\n      <td>258\u00a0287</td>\n      <td>14\u00a0921.25</td>\n    </tr>\n    <tr>\n      <th>16</th>\n      <td>17</td>\n      <td>La Candelaria</td>\n      <td>111711</td>\n      <td>2.06</td>\n      <td>24\u00a0088</td>\n      <td>11\u00a0693.2</td>\n    </tr>\n    <tr>\n      <th>17</th>\n      <td>18</td>\n      <td>Rafael Uribe Uribe</td>\n      <td>111811-111841</td>\n      <td>13.83</td>\n      <td>374\u00a0246</td>\n      <td>27\u00a0060.44</td>\n    </tr>\n    <tr>\n      <th>18</th>\n      <td>19</td>\n      <td>Ciudad Bol\u00edvar</td>\n      <td>111911-111981</td>\n      <td>130.00</td>\n      <td>733\u00a0859</td>\n      <td>5\u00a0442.83</td>\n    </tr>\n    <tr>\n      <th>19</th>\n      <td>20</td>\n      <td>Sumapaz</td>\n      <td>112011-112041</td>\n      <td>780.96</td>\n      <td>6\u00a0531</td>\n      <td>8.36</td>\n    </tr>\n  </tbody>\n</table>\n</div>"
                    },
                    "metadata": {}
                }
            ]
        },
        {
            "metadata": {
                "id": "gwvW2aT1pc-a",
                "colab_type": "text"
            },
            "cell_type": "markdown",
            "source": "### Data Preprocessing"
        },
        {
            "metadata": {
                "id": "viTJ-4irzMVC",
                "colab_type": "text"
            },
            "cell_type": "markdown",
            "source": "we remove the spaces in the column titles and then we add _ between words."
        },
        {
            "metadata": {
                "id": "1t3mLV-MwTMk",
                "colab_type": "code",
                "colab": {
                    "base_uri": "https://localhost:8080/",
                    "height": 419
                },
                "executionInfo": {
                    "status": "ok",
                    "timestamp": 1597724129258,
                    "user_tz": -330,
                    "elapsed": 7083,
                    "user": {
                        "displayName": "Thomas George Thomas",
                        "photoUrl": "https://lh3.googleusercontent.com/a-/AOh14GhRjmtno5yCmJOUjYiFNGHi_xP5YZBJ1ZpWGKsZ=s64",
                        "userId": "09561174857978505545"
                    }
                },
                "outputId": "6b7e3287-5924-4eb5-813d-61a4dafdd372"
            },
            "cell_type": "code",
            "source": "wiki_data.rename(columns=lambda x: x.strip().replace(\" \", \"_\"), inplace=True)\nwiki_data",
            "execution_count": 5,
            "outputs": [
                {
                    "output_type": "execute_result",
                    "execution_count": 5,
                    "data": {
                        "text/plain": "    N\u00ba           Localidad C\u00f3digos_Postales  Superficie_km\u00b2[2]\u200b Poblaci\u00f3n[3]\u200b  \\\n0    1             Usaqu\u00e9n    110111-110151               65.31       501\u00a0999   \n1    2           Chapinero    110211-110231               38.15       139\u00a0701   \n2    3            Santa Fe    110311-110321               45.17       110\u00a0048   \n3    4       San Crist\u00f3bal    110411-110441               49.09       404\u00a0697   \n4    5                Usme    110511-110571              215.06       457\u00a0302   \n5    6          Tunjuelito    110611-110621                9.91       199\u00a0430   \n6    7                Bosa    110711-110741               23.93       673\u00a0077   \n7    8             Kennedy    110811-110881               38.59     1 088\u00a0443   \n8    9            Fontib\u00f3n    110911-110931               33.28       394\u00a0648   \n9   10            Engativ\u00e1    111011-111071               35.88       887\u00a0080   \n10  11                Suba    111111-111176              100.56     1 218\u00a0513   \n11  12      Barrios Unidos    111211-111221               11.90       243\u00a0465   \n12  13         Teusaquillo    111311-111321               14.19       153\u00a0025   \n13  14        Los M\u00e1rtires           111411                6.51        99\u00a0119   \n14  15      Antonio Nari\u00f1o           111511                4.88       109\u00a0176   \n15  16       Puente Aranda    111611-111631               17.31       258\u00a0287   \n16  17       La Candelaria           111711                2.06        24\u00a0088   \n17  18  Rafael Uribe Uribe    111811-111841               13.83       374\u00a0246   \n18  19      Ciudad Bol\u00edvar    111911-111981              130.00       733\u00a0859   \n19  20             Sumapaz    112011-112041              780.96         6\u00a0531   \n\n   Densidad_hab/km\u00b2  \n0           7\u00a0686.4  \n1          3\u00a0661.88  \n2           2\u00a0436.3  \n3          8\u00a0243.98  \n4          2\u00a0126.39  \n5         20\u00a0124.11  \n6         28\u00a0126.91  \n7         28\u00a0205.31  \n8         11\u00a0858.41  \n9         24\u00a0723.52  \n10        12\u00a0117.27  \n11        20\u00a0459.24  \n12           10\u00a0784  \n13        15\u00a0225.65  \n14        22\u00a0372.12  \n15        14\u00a0921.25  \n16         11\u00a0693.2  \n17        27\u00a0060.44  \n18         5\u00a0442.83  \n19             8.36  ",
                        "text/html": "<div>\n<style scoped>\n    .dataframe tbody tr th:only-of-type {\n        vertical-align: middle;\n    }\n\n    .dataframe tbody tr th {\n        vertical-align: top;\n    }\n\n    .dataframe thead th {\n        text-align: right;\n    }\n</style>\n<table border=\"1\" class=\"dataframe\">\n  <thead>\n    <tr style=\"text-align: right;\">\n      <th></th>\n      <th>N\u00ba</th>\n      <th>Localidad</th>\n      <th>C\u00f3digos_Postales</th>\n      <th>Superficie_km\u00b2[2]\u200b</th>\n      <th>Poblaci\u00f3n[3]\u200b</th>\n      <th>Densidad_hab/km\u00b2</th>\n    </tr>\n  </thead>\n  <tbody>\n    <tr>\n      <th>0</th>\n      <td>1</td>\n      <td>Usaqu\u00e9n</td>\n      <td>110111-110151</td>\n      <td>65.31</td>\n      <td>501\u00a0999</td>\n      <td>7\u00a0686.4</td>\n    </tr>\n    <tr>\n      <th>1</th>\n      <td>2</td>\n      <td>Chapinero</td>\n      <td>110211-110231</td>\n      <td>38.15</td>\n      <td>139\u00a0701</td>\n      <td>3\u00a0661.88</td>\n    </tr>\n    <tr>\n      <th>2</th>\n      <td>3</td>\n      <td>Santa Fe</td>\n      <td>110311-110321</td>\n      <td>45.17</td>\n      <td>110\u00a0048</td>\n      <td>2\u00a0436.3</td>\n    </tr>\n    <tr>\n      <th>3</th>\n      <td>4</td>\n      <td>San Crist\u00f3bal</td>\n      <td>110411-110441</td>\n      <td>49.09</td>\n      <td>404\u00a0697</td>\n      <td>8\u00a0243.98</td>\n    </tr>\n    <tr>\n      <th>4</th>\n      <td>5</td>\n      <td>Usme</td>\n      <td>110511-110571</td>\n      <td>215.06</td>\n      <td>457\u00a0302</td>\n      <td>2\u00a0126.39</td>\n    </tr>\n    <tr>\n      <th>5</th>\n      <td>6</td>\n      <td>Tunjuelito</td>\n      <td>110611-110621</td>\n      <td>9.91</td>\n      <td>199\u00a0430</td>\n      <td>20\u00a0124.11</td>\n    </tr>\n    <tr>\n      <th>6</th>\n      <td>7</td>\n      <td>Bosa</td>\n      <td>110711-110741</td>\n      <td>23.93</td>\n      <td>673\u00a0077</td>\n      <td>28\u00a0126.91</td>\n    </tr>\n    <tr>\n      <th>7</th>\n      <td>8</td>\n      <td>Kennedy</td>\n      <td>110811-110881</td>\n      <td>38.59</td>\n      <td>1 088\u00a0443</td>\n      <td>28\u00a0205.31</td>\n    </tr>\n    <tr>\n      <th>8</th>\n      <td>9</td>\n      <td>Fontib\u00f3n</td>\n      <td>110911-110931</td>\n      <td>33.28</td>\n      <td>394\u00a0648</td>\n      <td>11\u00a0858.41</td>\n    </tr>\n    <tr>\n      <th>9</th>\n      <td>10</td>\n      <td>Engativ\u00e1</td>\n      <td>111011-111071</td>\n      <td>35.88</td>\n      <td>887\u00a0080</td>\n      <td>24\u00a0723.52</td>\n    </tr>\n    <tr>\n      <th>10</th>\n      <td>11</td>\n      <td>Suba</td>\n      <td>111111-111176</td>\n      <td>100.56</td>\n      <td>1 218\u00a0513</td>\n      <td>12\u00a0117.27</td>\n    </tr>\n    <tr>\n      <th>11</th>\n      <td>12</td>\n      <td>Barrios Unidos</td>\n      <td>111211-111221</td>\n      <td>11.90</td>\n      <td>243\u00a0465</td>\n      <td>20\u00a0459.24</td>\n    </tr>\n    <tr>\n      <th>12</th>\n      <td>13</td>\n      <td>Teusaquillo</td>\n      <td>111311-111321</td>\n      <td>14.19</td>\n      <td>153\u00a0025</td>\n      <td>10\u00a0784</td>\n    </tr>\n    <tr>\n      <th>13</th>\n      <td>14</td>\n      <td>Los M\u00e1rtires</td>\n      <td>111411</td>\n      <td>6.51</td>\n      <td>99\u00a0119</td>\n      <td>15\u00a0225.65</td>\n    </tr>\n    <tr>\n      <th>14</th>\n      <td>15</td>\n      <td>Antonio Nari\u00f1o</td>\n      <td>111511</td>\n      <td>4.88</td>\n      <td>109\u00a0176</td>\n      <td>22\u00a0372.12</td>\n    </tr>\n    <tr>\n      <th>15</th>\n      <td>16</td>\n      <td>Puente Aranda</td>\n      <td>111611-111631</td>\n      <td>17.31</td>\n      <td>258\u00a0287</td>\n      <td>14\u00a0921.25</td>\n    </tr>\n    <tr>\n      <th>16</th>\n      <td>17</td>\n      <td>La Candelaria</td>\n      <td>111711</td>\n      <td>2.06</td>\n      <td>24\u00a0088</td>\n      <td>11\u00a0693.2</td>\n    </tr>\n    <tr>\n      <th>17</th>\n      <td>18</td>\n      <td>Rafael Uribe Uribe</td>\n      <td>111811-111841</td>\n      <td>13.83</td>\n      <td>374\u00a0246</td>\n      <td>27\u00a0060.44</td>\n    </tr>\n    <tr>\n      <th>18</th>\n      <td>19</td>\n      <td>Ciudad Bol\u00edvar</td>\n      <td>111911-111981</td>\n      <td>130.00</td>\n      <td>733\u00a0859</td>\n      <td>5\u00a0442.83</td>\n    </tr>\n    <tr>\n      <th>19</th>\n      <td>20</td>\n      <td>Sumapaz</td>\n      <td>112011-112041</td>\n      <td>780.96</td>\n      <td>6\u00a0531</td>\n      <td>8.36</td>\n    </tr>\n  </tbody>\n</table>\n</div>"
                    },
                    "metadata": {}
                }
            ]
        },
        {
            "metadata": {
                "id": "MFILMLJrzWsB",
                "colab_type": "text"
            },
            "cell_type": "markdown",
            "source": "We see that few columns have no '_' between the words despite applying our function meaning that there are special characters"
        },
        {
            "metadata": {
                "id": "hvAk3yi2AN9U",
                "colab_type": "text"
            },
            "cell_type": "markdown",
            "source": "### Feature Selection"
        },
        {
            "metadata": {
                "id": "aDeZfsxBpW_r",
                "colab_type": "text"
            },
            "cell_type": "markdown",
            "source": "We need only the boroughs, Postal codes, Post town for further steps. We can drop the locations, dial codes and OS grid."
        },
        {
            "metadata": {
                "id": "vyT83o79xQK1",
                "colab_type": "code",
                "colab": {},
                "executionInfo": {
                    "status": "ok",
                    "timestamp": 1597724129259,
                    "user_tz": -330,
                    "elapsed": 7081,
                    "user": {
                        "displayName": "Thomas George Thomas",
                        "photoUrl": "https://lh3.googleusercontent.com/a-/AOh14GhRjmtno5yCmJOUjYiFNGHi_xP5YZBJ1ZpWGKsZ=s64",
                        "userId": "09561174857978505545"
                    }
                }
            },
            "cell_type": "code",
            "source": "df = wiki_data.drop( [ wiki_data.columns[0], wiki_data.columns[3], wiki_data.columns[4], wiki_data.columns[5]], axis=1)",
            "execution_count": 6,
            "outputs": []
        },
        {
            "metadata": {
                "id": "HxSpyKovqgpD",
                "colab_type": "code",
                "colab": {
                    "base_uri": "https://localhost:8080/",
                    "height": 204
                },
                "executionInfo": {
                    "status": "ok",
                    "timestamp": 1597724129260,
                    "user_tz": -330,
                    "elapsed": 7068,
                    "user": {
                        "displayName": "Thomas George Thomas",
                        "photoUrl": "https://lh3.googleusercontent.com/a-/AOh14GhRjmtno5yCmJOUjYiFNGHi_xP5YZBJ1ZpWGKsZ=s64",
                        "userId": "09561174857978505545"
                    }
                },
                "outputId": "c6450886-b8b2-451e-ff6b-7ad05daf8dfb"
            },
            "cell_type": "code",
            "source": "df.head()",
            "execution_count": 7,
            "outputs": [
                {
                    "output_type": "execute_result",
                    "execution_count": 7,
                    "data": {
                        "text/plain": "       Localidad C\u00f3digos_Postales\n0        Usaqu\u00e9n    110111-110151\n1      Chapinero    110211-110231\n2       Santa Fe    110311-110321\n3  San Crist\u00f3bal    110411-110441\n4           Usme    110511-110571",
                        "text/html": "<div>\n<style scoped>\n    .dataframe tbody tr th:only-of-type {\n        vertical-align: middle;\n    }\n\n    .dataframe tbody tr th {\n        vertical-align: top;\n    }\n\n    .dataframe thead th {\n        text-align: right;\n    }\n</style>\n<table border=\"1\" class=\"dataframe\">\n  <thead>\n    <tr style=\"text-align: right;\">\n      <th></th>\n      <th>Localidad</th>\n      <th>C\u00f3digos_Postales</th>\n    </tr>\n  </thead>\n  <tbody>\n    <tr>\n      <th>0</th>\n      <td>Usaqu\u00e9n</td>\n      <td>110111-110151</td>\n    </tr>\n    <tr>\n      <th>1</th>\n      <td>Chapinero</td>\n      <td>110211-110231</td>\n    </tr>\n    <tr>\n      <th>2</th>\n      <td>Santa Fe</td>\n      <td>110311-110321</td>\n    </tr>\n    <tr>\n      <th>3</th>\n      <td>San Crist\u00f3bal</td>\n      <td>110411-110441</td>\n    </tr>\n    <tr>\n      <th>4</th>\n      <td>Usme</td>\n      <td>110511-110571</td>\n    </tr>\n  </tbody>\n</table>\n</div>"
                    },
                    "metadata": {}
                }
            ]
        },
        {
            "metadata": {},
            "cell_type": "markdown",
            "source": "We change the column names for athe english language"
        },
        {
            "metadata": {
                "id": "EIJNAOAwz3no",
                "colab_type": "code",
                "colab": {
                    "base_uri": "https://localhost:8080/",
                    "height": 419
                },
                "executionInfo": {
                    "status": "ok",
                    "timestamp": 1597724129261,
                    "user_tz": -330,
                    "elapsed": 7057,
                    "user": {
                        "displayName": "Thomas George Thomas",
                        "photoUrl": "https://lh3.googleusercontent.com/a-/AOh14GhRjmtno5yCmJOUjYiFNGHi_xP5YZBJ1ZpWGKsZ=s64",
                        "userId": "09561174857978505545"
                    }
                },
                "outputId": "bd1b396b-3f56-4020-fe0e-1f5fbee19ebe"
            },
            "cell_type": "code",
            "source": "df.columns = ['town','post_code']\ndf",
            "execution_count": 8,
            "outputs": [
                {
                    "output_type": "execute_result",
                    "execution_count": 8,
                    "data": {
                        "text/plain": "                  town      post_code\n0              Usaqu\u00e9n  110111-110151\n1            Chapinero  110211-110231\n2             Santa Fe  110311-110321\n3        San Crist\u00f3bal  110411-110441\n4                 Usme  110511-110571\n5           Tunjuelito  110611-110621\n6                 Bosa  110711-110741\n7              Kennedy  110811-110881\n8             Fontib\u00f3n  110911-110931\n9             Engativ\u00e1  111011-111071\n10                Suba  111111-111176\n11      Barrios Unidos  111211-111221\n12         Teusaquillo  111311-111321\n13        Los M\u00e1rtires         111411\n14      Antonio Nari\u00f1o         111511\n15       Puente Aranda  111611-111631\n16       La Candelaria         111711\n17  Rafael Uribe Uribe  111811-111841\n18      Ciudad Bol\u00edvar  111911-111981\n19             Sumapaz  112011-112041",
                        "text/html": "<div>\n<style scoped>\n    .dataframe tbody tr th:only-of-type {\n        vertical-align: middle;\n    }\n\n    .dataframe tbody tr th {\n        vertical-align: top;\n    }\n\n    .dataframe thead th {\n        text-align: right;\n    }\n</style>\n<table border=\"1\" class=\"dataframe\">\n  <thead>\n    <tr style=\"text-align: right;\">\n      <th></th>\n      <th>town</th>\n      <th>post_code</th>\n    </tr>\n  </thead>\n  <tbody>\n    <tr>\n      <th>0</th>\n      <td>Usaqu\u00e9n</td>\n      <td>110111-110151</td>\n    </tr>\n    <tr>\n      <th>1</th>\n      <td>Chapinero</td>\n      <td>110211-110231</td>\n    </tr>\n    <tr>\n      <th>2</th>\n      <td>Santa Fe</td>\n      <td>110311-110321</td>\n    </tr>\n    <tr>\n      <th>3</th>\n      <td>San Crist\u00f3bal</td>\n      <td>110411-110441</td>\n    </tr>\n    <tr>\n      <th>4</th>\n      <td>Usme</td>\n      <td>110511-110571</td>\n    </tr>\n    <tr>\n      <th>5</th>\n      <td>Tunjuelito</td>\n      <td>110611-110621</td>\n    </tr>\n    <tr>\n      <th>6</th>\n      <td>Bosa</td>\n      <td>110711-110741</td>\n    </tr>\n    <tr>\n      <th>7</th>\n      <td>Kennedy</td>\n      <td>110811-110881</td>\n    </tr>\n    <tr>\n      <th>8</th>\n      <td>Fontib\u00f3n</td>\n      <td>110911-110931</td>\n    </tr>\n    <tr>\n      <th>9</th>\n      <td>Engativ\u00e1</td>\n      <td>111011-111071</td>\n    </tr>\n    <tr>\n      <th>10</th>\n      <td>Suba</td>\n      <td>111111-111176</td>\n    </tr>\n    <tr>\n      <th>11</th>\n      <td>Barrios Unidos</td>\n      <td>111211-111221</td>\n    </tr>\n    <tr>\n      <th>12</th>\n      <td>Teusaquillo</td>\n      <td>111311-111321</td>\n    </tr>\n    <tr>\n      <th>13</th>\n      <td>Los M\u00e1rtires</td>\n      <td>111411</td>\n    </tr>\n    <tr>\n      <th>14</th>\n      <td>Antonio Nari\u00f1o</td>\n      <td>111511</td>\n    </tr>\n    <tr>\n      <th>15</th>\n      <td>Puente Aranda</td>\n      <td>111611-111631</td>\n    </tr>\n    <tr>\n      <th>16</th>\n      <td>La Candelaria</td>\n      <td>111711</td>\n    </tr>\n    <tr>\n      <th>17</th>\n      <td>Rafael Uribe Uribe</td>\n      <td>111811-111841</td>\n    </tr>\n    <tr>\n      <th>18</th>\n      <td>Ciudad Bol\u00edvar</td>\n      <td>111911-111981</td>\n    </tr>\n    <tr>\n      <th>19</th>\n      <td>Sumapaz</td>\n      <td>112011-112041</td>\n    </tr>\n  </tbody>\n</table>\n</div>"
                    },
                    "metadata": {}
                }
            ]
        },
        {
            "metadata": {},
            "cell_type": "markdown",
            "source": "We need to limit the postal codes of the localities to only one."
        },
        {
            "metadata": {},
            "cell_type": "code",
            "source": "df['post_code'] = df['post_code'].str.split('-',expand=True)\ndf",
            "execution_count": 9,
            "outputs": [
                {
                    "output_type": "execute_result",
                    "execution_count": 9,
                    "data": {
                        "text/plain": "                  town post_code\n0              Usaqu\u00e9n    110111\n1            Chapinero    110211\n2             Santa Fe    110311\n3        San Crist\u00f3bal    110411\n4                 Usme    110511\n5           Tunjuelito    110611\n6                 Bosa    110711\n7              Kennedy    110811\n8             Fontib\u00f3n    110911\n9             Engativ\u00e1    111011\n10                Suba    111111\n11      Barrios Unidos    111211\n12         Teusaquillo    111311\n13        Los M\u00e1rtires    111411\n14      Antonio Nari\u00f1o    111511\n15       Puente Aranda    111611\n16       La Candelaria    111711\n17  Rafael Uribe Uribe    111811\n18      Ciudad Bol\u00edvar    111911\n19             Sumapaz    112011",
                        "text/html": "<div>\n<style scoped>\n    .dataframe tbody tr th:only-of-type {\n        vertical-align: middle;\n    }\n\n    .dataframe tbody tr th {\n        vertical-align: top;\n    }\n\n    .dataframe thead th {\n        text-align: right;\n    }\n</style>\n<table border=\"1\" class=\"dataframe\">\n  <thead>\n    <tr style=\"text-align: right;\">\n      <th></th>\n      <th>town</th>\n      <th>post_code</th>\n    </tr>\n  </thead>\n  <tbody>\n    <tr>\n      <th>0</th>\n      <td>Usaqu\u00e9n</td>\n      <td>110111</td>\n    </tr>\n    <tr>\n      <th>1</th>\n      <td>Chapinero</td>\n      <td>110211</td>\n    </tr>\n    <tr>\n      <th>2</th>\n      <td>Santa Fe</td>\n      <td>110311</td>\n    </tr>\n    <tr>\n      <th>3</th>\n      <td>San Crist\u00f3bal</td>\n      <td>110411</td>\n    </tr>\n    <tr>\n      <th>4</th>\n      <td>Usme</td>\n      <td>110511</td>\n    </tr>\n    <tr>\n      <th>5</th>\n      <td>Tunjuelito</td>\n      <td>110611</td>\n    </tr>\n    <tr>\n      <th>6</th>\n      <td>Bosa</td>\n      <td>110711</td>\n    </tr>\n    <tr>\n      <th>7</th>\n      <td>Kennedy</td>\n      <td>110811</td>\n    </tr>\n    <tr>\n      <th>8</th>\n      <td>Fontib\u00f3n</td>\n      <td>110911</td>\n    </tr>\n    <tr>\n      <th>9</th>\n      <td>Engativ\u00e1</td>\n      <td>111011</td>\n    </tr>\n    <tr>\n      <th>10</th>\n      <td>Suba</td>\n      <td>111111</td>\n    </tr>\n    <tr>\n      <th>11</th>\n      <td>Barrios Unidos</td>\n      <td>111211</td>\n    </tr>\n    <tr>\n      <th>12</th>\n      <td>Teusaquillo</td>\n      <td>111311</td>\n    </tr>\n    <tr>\n      <th>13</th>\n      <td>Los M\u00e1rtires</td>\n      <td>111411</td>\n    </tr>\n    <tr>\n      <th>14</th>\n      <td>Antonio Nari\u00f1o</td>\n      <td>111511</td>\n    </tr>\n    <tr>\n      <th>15</th>\n      <td>Puente Aranda</td>\n      <td>111611</td>\n    </tr>\n    <tr>\n      <th>16</th>\n      <td>La Candelaria</td>\n      <td>111711</td>\n    </tr>\n    <tr>\n      <th>17</th>\n      <td>Rafael Uribe Uribe</td>\n      <td>111811</td>\n    </tr>\n    <tr>\n      <th>18</th>\n      <td>Ciudad Bol\u00edvar</td>\n      <td>111911</td>\n    </tr>\n    <tr>\n      <th>19</th>\n      <td>Sumapaz</td>\n      <td>112011</td>\n    </tr>\n  </tbody>\n</table>\n</div>"
                    },
                    "metadata": {}
                }
            ]
        },
        {
            "metadata": {
                "id": "xmMnxDkg_eaH",
                "colab_type": "text"
            },
            "cell_type": "markdown",
            "source": "## Geolocations of the localities of Bogota"
        },
        {
            "metadata": {
                "id": "n-T9k7ZH7C42",
                "colab_type": "text"
            },
            "cell_type": "markdown",
            "source": "### ArcGis API"
        },
        {
            "metadata": {
                "id": "8zp57iM_o-G-",
                "colab_type": "text"
            },
            "cell_type": "markdown",
            "source": "We need to get the geographical co-ordinates for the neighbourhoods to plot out map. We will use the arcgis package to do so. "
        },
        {
            "metadata": {
                "id": "QFWqOKw-Hdt4",
                "colab_type": "code",
                "colab": {},
                "executionInfo": {
                    "status": "ok",
                    "timestamp": 1597724185794,
                    "user_tz": -330,
                    "elapsed": 63420,
                    "user": {
                        "displayName": "Thomas George Thomas",
                        "photoUrl": "https://lh3.googleusercontent.com/a-/AOh14GhRjmtno5yCmJOUjYiFNGHi_xP5YZBJ1ZpWGKsZ=s64",
                        "userId": "09561174857978505545"
                    }
                }
            },
            "cell_type": "code",
            "source": "from arcgis.geocoding import geocode\nfrom arcgis.gis import GIS\ngis = GIS()",
            "execution_count": 10,
            "outputs": [
                {
                    "output_type": "stream",
                    "text": "/opt/conda/envs/Python-3.7-main/lib/python3.7/site-packages/arcgis/features/_data/geodataset/utils.py:16: FutureWarning: The pandas.datetime class is deprecated and will be removed from pandas in a future version. Import from datetime module instead.\n  pd.datetime,\n",
                    "name": "stderr"
                }
            ]
        },
        {
            "metadata": {
                "id": "38Ikx-5FxPtZ",
                "colab_type": "text"
            },
            "cell_type": "markdown",
            "source": "Defining Bogota arcgis geocode function to return latitude and longitude"
        },
        {
            "metadata": {
                "id": "fZDxsq1ePBmo",
                "colab_type": "code",
                "colab": {},
                "executionInfo": {
                    "status": "ok",
                    "timestamp": 1597724185795,
                    "user_tz": -330,
                    "elapsed": 63419,
                    "user": {
                        "displayName": "Thomas George Thomas",
                        "photoUrl": "https://lh3.googleusercontent.com/a-/AOh14GhRjmtno5yCmJOUjYiFNGHi_xP5YZBJ1ZpWGKsZ=s64",
                        "userId": "09561174857978505545"
                    }
                }
            },
            "cell_type": "code",
            "source": "def get_x_y_uk(address1):\n   lat_coords = 0\n   lng_coords = 0\n   g = geocode(address='{}, Bogota, Colombia, GBR'.format(address1))[0]\n   lng_coords = g['location']['x']\n   lat_coords = g['location']['y']\n   return str(lat_coords) +\",\"+ str(lng_coords)",
            "execution_count": 11,
            "outputs": []
        },
        {
            "metadata": {
                "id": "BkNM0HGHxYPg",
                "colab_type": "text"
            },
            "cell_type": "markdown",
            "source": "Checking sample data"
        },
        {
            "metadata": {
                "id": "sHhLu7cinqih",
                "colab_type": "code",
                "colab": {},
                "executionInfo": {
                    "status": "ok",
                    "timestamp": 1597724186145,
                    "user_tz": -330,
                    "elapsed": 63766,
                    "user": {
                        "displayName": "Thomas George Thomas",
                        "photoUrl": "https://lh3.googleusercontent.com/a-/AOh14GhRjmtno5yCmJOUjYiFNGHi_xP5YZBJ1ZpWGKsZ=s64",
                        "userId": "09561174857978505545"
                    }
                }
            },
            "cell_type": "code",
            "source": "c = get_x_y_uk('110111')",
            "execution_count": 12,
            "outputs": []
        },
        {
            "metadata": {
                "id": "7Ogchbyrnwju",
                "colab_type": "code",
                "colab": {
                    "base_uri": "https://localhost:8080/",
                    "height": 35
                },
                "executionInfo": {
                    "status": "ok",
                    "timestamp": 1597724186146,
                    "user_tz": -330,
                    "elapsed": 63754,
                    "user": {
                        "displayName": "Thomas George Thomas",
                        "photoUrl": "https://lh3.googleusercontent.com/a-/AOh14GhRjmtno5yCmJOUjYiFNGHi_xP5YZBJ1ZpWGKsZ=s64",
                        "userId": "09561174857978505545"
                    }
                },
                "outputId": "4f426e21-88ae-4b9e-a66c-5f2615939d71"
            },
            "cell_type": "code",
            "source": "c",
            "execution_count": 13,
            "outputs": [
                {
                    "output_type": "execute_result",
                    "execution_count": 13,
                    "data": {
                        "text/plain": "'4.691000000000031,-74.03344796899995'"
                    },
                    "metadata": {}
                }
            ]
        },
        {
            "metadata": {
                "id": "FpZrBiKhxa2c",
                "colab_type": "text"
            },
            "cell_type": "markdown",
            "source": "Looks good, We Copy over the postal codes of Bogota to pass it into the geolocator function that we just defined above"
        },
        {
            "metadata": {
                "id": "r_-hXTxJQQcY",
                "colab_type": "code",
                "colab": {
                    "base_uri": "https://localhost:8080/",
                    "height": 221
                },
                "executionInfo": {
                    "status": "ok",
                    "timestamp": 1597724186148,
                    "user_tz": -330,
                    "elapsed": 63744,
                    "user": {
                        "displayName": "Thomas George Thomas",
                        "photoUrl": "https://lh3.googleusercontent.com/a-/AOh14GhRjmtno5yCmJOUjYiFNGHi_xP5YZBJ1ZpWGKsZ=s64",
                        "userId": "09561174857978505545"
                    }
                },
                "outputId": "1c3fcdb1-ae28-4040-9459-0c5fe25ce9d1"
            },
            "cell_type": "code",
            "source": "coordinates = df['post_code']    \ncoordinates",
            "execution_count": 14,
            "outputs": [
                {
                    "output_type": "execute_result",
                    "execution_count": 14,
                    "data": {
                        "text/plain": "0     110111\n1     110211\n2     110311\n3     110411\n4     110511\n5     110611\n6     110711\n7     110811\n8     110911\n9     111011\n10    111111\n11    111211\n12    111311\n13    111411\n14    111511\n15    111611\n16    111711\n17    111811\n18    111911\n19    112011\nName: post_code, dtype: object"
                    },
                    "metadata": {}
                }
            ]
        },
        {
            "metadata": {
                "id": "FG6kCaJRxq9T",
                "colab_type": "text"
            },
            "cell_type": "markdown",
            "source": "Passing postal codes of Bogota to get the geographical co-ordinates"
        },
        {
            "metadata": {
                "id": "E3EthgS-qipG",
                "colab_type": "code",
                "colab": {
                    "base_uri": "https://localhost:8080/",
                    "height": 221
                },
                "executionInfo": {
                    "status": "ok",
                    "timestamp": 1597724201731,
                    "user_tz": -330,
                    "elapsed": 79313,
                    "user": {
                        "displayName": "Thomas George Thomas",
                        "photoUrl": "https://lh3.googleusercontent.com/a-/AOh14GhRjmtno5yCmJOUjYiFNGHi_xP5YZBJ1ZpWGKsZ=s64",
                        "userId": "09561174857978505545"
                    }
                },
                "outputId": "48cefe94-a908-4b6c-d9d5-fffdd46f2bf1"
            },
            "cell_type": "code",
            "source": "coordinates_latlng_bg = coordinates.apply(lambda x: get_x_y_uk(x))\ncoordinates_latlng_bg",
            "execution_count": 15,
            "outputs": [
                {
                    "output_type": "execute_result",
                    "execution_count": 15,
                    "data": {
                        "text/plain": "0      4.691000000000031,-74.03344796899995\n1      4.667800000000057,-74.02591031199995\n2     4.5902545530000225,-74.02563020599996\n3      4.560310000000072,-74.05352330099998\n4      4.496341219000044,-74.13080999999994\n5      4.584725000000049,-74.14117047199994\n6      4.638727325000048,-74.18991999999997\n7     4.6525550000000635,-74.15529871899997\n8      4.695895000000064,-74.14457572699996\n9      4.724539094000022,-74.11550499999998\n10    4.7080964370000515,-74.06316999999996\n11      4.67783038400006,-74.07160499999998\n12     4.633319682000035,-74.07290770799995\n13     4.604255667000075,-74.08991499999996\n14     4.587130000000059,-74.09692978299995\n15     4.624250000000075,-74.10372384099998\n16     4.599095000000034,-74.07197925799994\n17    4.5797300000000405,-74.11682462899995\n18     4.577027933000068,-74.15146499999997\n19     4.223149782000064,-74.18503057699996\nName: post_code, dtype: object"
                    },
                    "metadata": {}
                }
            ]
        },
        {
            "metadata": {
                "id": "1hNQz4woxxhQ",
                "colab_type": "text"
            },
            "cell_type": "markdown",
            "source": "### Latitude\n\nExtracting the latitude from our previously collected coordinates"
        },
        {
            "metadata": {
                "id": "0l8d15Uhw5kU",
                "colab_type": "code",
                "colab": {
                    "base_uri": "https://localhost:8080/",
                    "height": 221
                },
                "executionInfo": {
                    "status": "ok",
                    "timestamp": 1597724201733,
                    "user_tz": -330,
                    "elapsed": 79303,
                    "user": {
                        "displayName": "Thomas George Thomas",
                        "photoUrl": "https://lh3.googleusercontent.com/a-/AOh14GhRjmtno5yCmJOUjYiFNGHi_xP5YZBJ1ZpWGKsZ=s64",
                        "userId": "09561174857978505545"
                    }
                },
                "outputId": "1a8f244b-c833-4349-ebfb-5a3c143edf58"
            },
            "cell_type": "code",
            "source": "lat = coordinates_latlng_bg.apply(lambda x: x.split(',')[0])\nlat",
            "execution_count": 16,
            "outputs": [
                {
                    "output_type": "execute_result",
                    "execution_count": 16,
                    "data": {
                        "text/plain": "0      4.691000000000031\n1      4.667800000000057\n2     4.5902545530000225\n3      4.560310000000072\n4      4.496341219000044\n5      4.584725000000049\n6      4.638727325000048\n7     4.6525550000000635\n8      4.695895000000064\n9      4.724539094000022\n10    4.7080964370000515\n11      4.67783038400006\n12     4.633319682000035\n13     4.604255667000075\n14     4.587130000000059\n15     4.624250000000075\n16     4.599095000000034\n17    4.5797300000000405\n18     4.577027933000068\n19     4.223149782000064\nName: post_code, dtype: object"
                    },
                    "metadata": {}
                }
            ]
        },
        {
            "metadata": {
                "id": "Wk-20_87xzOr",
                "colab_type": "text"
            },
            "cell_type": "markdown",
            "source": "### Longitude\n\nExtracting the Longitude from our previously collected coordinates"
        },
        {
            "metadata": {
                "id": "X-pmDdpJxCY2",
                "colab_type": "code",
                "colab": {
                    "base_uri": "https://localhost:8080/",
                    "height": 221
                },
                "executionInfo": {
                    "status": "ok",
                    "timestamp": 1597724201734,
                    "user_tz": -330,
                    "elapsed": 79289,
                    "user": {
                        "displayName": "Thomas George Thomas",
                        "photoUrl": "https://lh3.googleusercontent.com/a-/AOh14GhRjmtno5yCmJOUjYiFNGHi_xP5YZBJ1ZpWGKsZ=s64",
                        "userId": "09561174857978505545"
                    }
                },
                "outputId": "3152f7ec-8e87-4970-fa0b-ffe7cad665b4"
            },
            "cell_type": "code",
            "source": "lng = coordinates_latlng_bg.apply(lambda x: x.split(',')[1])\nlng",
            "execution_count": 17,
            "outputs": [
                {
                    "output_type": "execute_result",
                    "execution_count": 17,
                    "data": {
                        "text/plain": "0     -74.03344796899995\n1     -74.02591031199995\n2     -74.02563020599996\n3     -74.05352330099998\n4     -74.13080999999994\n5     -74.14117047199994\n6     -74.18991999999997\n7     -74.15529871899997\n8     -74.14457572699996\n9     -74.11550499999998\n10    -74.06316999999996\n11    -74.07160499999998\n12    -74.07290770799995\n13    -74.08991499999996\n14    -74.09692978299995\n15    -74.10372384099998\n16    -74.07197925799994\n17    -74.11682462899995\n18    -74.15146499999997\n19    -74.18503057699996\nName: post_code, dtype: object"
                    },
                    "metadata": {}
                }
            ]
        },
        {
            "metadata": {
                "id": "lOIVmOI8yDXJ",
                "colab_type": "text"
            },
            "cell_type": "markdown",
            "source": "We now have the geographical co-ordinates of the localities of Bogota."
        },
        {
            "metadata": {
                "id": "ZofYXau1yk_H",
                "colab_type": "code",
                "colab": {
                    "base_uri": "https://localhost:8080/",
                    "height": 419
                },
                "executionInfo": {
                    "status": "ok",
                    "timestamp": 1597724201736,
                    "user_tz": -330,
                    "elapsed": 79278,
                    "user": {
                        "displayName": "Thomas George Thomas",
                        "photoUrl": "https://lh3.googleusercontent.com/a-/AOh14GhRjmtno5yCmJOUjYiFNGHi_xP5YZBJ1ZpWGKsZ=s64",
                        "userId": "09561174857978505545"
                    }
                },
                "outputId": "1bcb947d-abdf-4bf1-9c2d-0d7a7f43ce44"
            },
            "cell_type": "code",
            "source": "bogota = pd.concat([df,lat.astype(float), lng.astype(float)], axis=1)\nbogota.columns= ['town','post_code','latitude','longitude']\nbogota",
            "execution_count": 18,
            "outputs": [
                {
                    "output_type": "execute_result",
                    "execution_count": 18,
                    "data": {
                        "text/plain": "                  town post_code  latitude  longitude\n0              Usaqu\u00e9n    110111  4.691000 -74.033448\n1            Chapinero    110211  4.667800 -74.025910\n2             Santa Fe    110311  4.590255 -74.025630\n3        San Crist\u00f3bal    110411  4.560310 -74.053523\n4                 Usme    110511  4.496341 -74.130810\n5           Tunjuelito    110611  4.584725 -74.141170\n6                 Bosa    110711  4.638727 -74.189920\n7              Kennedy    110811  4.652555 -74.155299\n8             Fontib\u00f3n    110911  4.695895 -74.144576\n9             Engativ\u00e1    111011  4.724539 -74.115505\n10                Suba    111111  4.708096 -74.063170\n11      Barrios Unidos    111211  4.677830 -74.071605\n12         Teusaquillo    111311  4.633320 -74.072908\n13        Los M\u00e1rtires    111411  4.604256 -74.089915\n14      Antonio Nari\u00f1o    111511  4.587130 -74.096930\n15       Puente Aranda    111611  4.624250 -74.103724\n16       La Candelaria    111711  4.599095 -74.071979\n17  Rafael Uribe Uribe    111811  4.579730 -74.116825\n18      Ciudad Bol\u00edvar    111911  4.577028 -74.151465\n19             Sumapaz    112011  4.223150 -74.185031",
                        "text/html": "<div>\n<style scoped>\n    .dataframe tbody tr th:only-of-type {\n        vertical-align: middle;\n    }\n\n    .dataframe tbody tr th {\n        vertical-align: top;\n    }\n\n    .dataframe thead th {\n        text-align: right;\n    }\n</style>\n<table border=\"1\" class=\"dataframe\">\n  <thead>\n    <tr style=\"text-align: right;\">\n      <th></th>\n      <th>town</th>\n      <th>post_code</th>\n      <th>latitude</th>\n      <th>longitude</th>\n    </tr>\n  </thead>\n  <tbody>\n    <tr>\n      <th>0</th>\n      <td>Usaqu\u00e9n</td>\n      <td>110111</td>\n      <td>4.691000</td>\n      <td>-74.033448</td>\n    </tr>\n    <tr>\n      <th>1</th>\n      <td>Chapinero</td>\n      <td>110211</td>\n      <td>4.667800</td>\n      <td>-74.025910</td>\n    </tr>\n    <tr>\n      <th>2</th>\n      <td>Santa Fe</td>\n      <td>110311</td>\n      <td>4.590255</td>\n      <td>-74.025630</td>\n    </tr>\n    <tr>\n      <th>3</th>\n      <td>San Crist\u00f3bal</td>\n      <td>110411</td>\n      <td>4.560310</td>\n      <td>-74.053523</td>\n    </tr>\n    <tr>\n      <th>4</th>\n      <td>Usme</td>\n      <td>110511</td>\n      <td>4.496341</td>\n      <td>-74.130810</td>\n    </tr>\n    <tr>\n      <th>5</th>\n      <td>Tunjuelito</td>\n      <td>110611</td>\n      <td>4.584725</td>\n      <td>-74.141170</td>\n    </tr>\n    <tr>\n      <th>6</th>\n      <td>Bosa</td>\n      <td>110711</td>\n      <td>4.638727</td>\n      <td>-74.189920</td>\n    </tr>\n    <tr>\n      <th>7</th>\n      <td>Kennedy</td>\n      <td>110811</td>\n      <td>4.652555</td>\n      <td>-74.155299</td>\n    </tr>\n    <tr>\n      <th>8</th>\n      <td>Fontib\u00f3n</td>\n      <td>110911</td>\n      <td>4.695895</td>\n      <td>-74.144576</td>\n    </tr>\n    <tr>\n      <th>9</th>\n      <td>Engativ\u00e1</td>\n      <td>111011</td>\n      <td>4.724539</td>\n      <td>-74.115505</td>\n    </tr>\n    <tr>\n      <th>10</th>\n      <td>Suba</td>\n      <td>111111</td>\n      <td>4.708096</td>\n      <td>-74.063170</td>\n    </tr>\n    <tr>\n      <th>11</th>\n      <td>Barrios Unidos</td>\n      <td>111211</td>\n      <td>4.677830</td>\n      <td>-74.071605</td>\n    </tr>\n    <tr>\n      <th>12</th>\n      <td>Teusaquillo</td>\n      <td>111311</td>\n      <td>4.633320</td>\n      <td>-74.072908</td>\n    </tr>\n    <tr>\n      <th>13</th>\n      <td>Los M\u00e1rtires</td>\n      <td>111411</td>\n      <td>4.604256</td>\n      <td>-74.089915</td>\n    </tr>\n    <tr>\n      <th>14</th>\n      <td>Antonio Nari\u00f1o</td>\n      <td>111511</td>\n      <td>4.587130</td>\n      <td>-74.096930</td>\n    </tr>\n    <tr>\n      <th>15</th>\n      <td>Puente Aranda</td>\n      <td>111611</td>\n      <td>4.624250</td>\n      <td>-74.103724</td>\n    </tr>\n    <tr>\n      <th>16</th>\n      <td>La Candelaria</td>\n      <td>111711</td>\n      <td>4.599095</td>\n      <td>-74.071979</td>\n    </tr>\n    <tr>\n      <th>17</th>\n      <td>Rafael Uribe Uribe</td>\n      <td>111811</td>\n      <td>4.579730</td>\n      <td>-74.116825</td>\n    </tr>\n    <tr>\n      <th>18</th>\n      <td>Ciudad Bol\u00edvar</td>\n      <td>111911</td>\n      <td>4.577028</td>\n      <td>-74.151465</td>\n    </tr>\n    <tr>\n      <th>19</th>\n      <td>Sumapaz</td>\n      <td>112011</td>\n      <td>4.223150</td>\n      <td>-74.185031</td>\n    </tr>\n  </tbody>\n</table>\n</div>"
                    },
                    "metadata": {}
                }
            ]
        },
        {
            "metadata": {
                "id": "VJfym93n6MDg",
                "colab_type": "code",
                "colab": {
                    "base_uri": "https://localhost:8080/",
                    "height": 119
                },
                "executionInfo": {
                    "status": "ok",
                    "timestamp": 1597724201737,
                    "user_tz": -330,
                    "elapsed": 79267,
                    "user": {
                        "displayName": "Thomas George Thomas",
                        "photoUrl": "https://lh3.googleusercontent.com/a-/AOh14GhRjmtno5yCmJOUjYiFNGHi_xP5YZBJ1ZpWGKsZ=s64",
                        "userId": "09561174857978505545"
                    }
                },
                "outputId": "4e447870-be7d-483c-e8ce-b826000ed3da"
            },
            "cell_type": "code",
            "source": "bogota.dtypes",
            "execution_count": 19,
            "outputs": [
                {
                    "output_type": "execute_result",
                    "execution_count": 19,
                    "data": {
                        "text/plain": "town          object\npost_code     object\nlatitude     float64\nlongitude    float64\ndtype: object"
                    },
                    "metadata": {}
                }
            ]
        },
        {
            "metadata": {
                "id": "1XLMDLHv8Xn3",
                "colab_type": "text"
            },
            "cell_type": "markdown",
            "source": "### Co-ordinates for Bogota"
        },
        {
            "metadata": {
                "id": "41f8qjYwBWKn",
                "colab_type": "text"
            },
            "cell_type": "markdown",
            "source": "Getting the geocode for Bogota to help visualize it on the map"
        },
        {
            "metadata": {
                "id": "WJ7kEgdYzftU",
                "colab_type": "code",
                "colab": {
                    "base_uri": "https://localhost:8080/",
                    "height": 34
                },
                "executionInfo": {
                    "status": "ok",
                    "timestamp": 1597724201738,
                    "user_tz": -330,
                    "elapsed": 79255,
                    "user": {
                        "displayName": "Thomas George Thomas",
                        "photoUrl": "https://lh3.googleusercontent.com/a-/AOh14GhRjmtno5yCmJOUjYiFNGHi_xP5YZBJ1ZpWGKsZ=s64",
                        "userId": "09561174857978505545"
                    }
                },
                "outputId": "060e2992-6545-4e06-8df9-69b046e54fbe"
            },
            "cell_type": "code",
            "source": "bogota_cood = geocode(address='Bogota, Colombia, GBR')[0]\nbogota_lng_coords = bogota_cood['location']['x']\nbogota_lat_coords = bogota_cood['location']['y']\nbogota_lng_coords",
            "execution_count": 20,
            "outputs": [
                {
                    "output_type": "execute_result",
                    "execution_count": 20,
                    "data": {
                        "text/plain": "-74.06940999999995"
                    },
                    "metadata": {}
                }
            ]
        },
        {
            "metadata": {
                "id": "3I1vBFjn2MHg",
                "colab_type": "code",
                "colab": {
                    "base_uri": "https://localhost:8080/",
                    "height": 34
                },
                "executionInfo": {
                    "status": "ok",
                    "timestamp": 1597724201741,
                    "user_tz": -330,
                    "elapsed": 79245,
                    "user": {
                        "displayName": "Thomas George Thomas",
                        "photoUrl": "https://lh3.googleusercontent.com/a-/AOh14GhRjmtno5yCmJOUjYiFNGHi_xP5YZBJ1ZpWGKsZ=s64",
                        "userId": "09561174857978505545"
                    }
                },
                "outputId": "152e3188-0be4-40b8-d25d-dbfd31d86740"
            },
            "cell_type": "code",
            "source": "bogota_lat_coords",
            "execution_count": 21,
            "outputs": [
                {
                    "output_type": "execute_result",
                    "execution_count": 21,
                    "data": {
                        "text/plain": "4.614960000000053"
                    },
                    "metadata": {}
                }
            ]
        },
        {
            "metadata": {
                "id": "sQ9z3SG6_xz1",
                "colab_type": "text"
            },
            "cell_type": "markdown",
            "source": "## Visualize the Map of Bogota"
        },
        {
            "metadata": {
                "id": "zcHE91lR3pSo",
                "colab_type": "code",
                "colab": {
                    "base_uri": "https://localhost:8080/",
                    "height": 562
                },
                "executionInfo": {
                    "status": "ok",
                    "timestamp": 1597724202881,
                    "user_tz": -330,
                    "elapsed": 80372,
                    "user": {
                        "displayName": "Thomas George Thomas",
                        "photoUrl": "https://lh3.googleusercontent.com/a-/AOh14GhRjmtno5yCmJOUjYiFNGHi_xP5YZBJ1ZpWGKsZ=s64",
                        "userId": "09561174857978505545"
                    }
                },
                "outputId": "218a8a6b-d8d3-4cd4-cbf5-2208fefa287c"
            },
            "cell_type": "code",
            "source": "map_bogota = folium.Map(location=[bogota_lat_coords, bogota_lng_coords], zoom_start=12)\nmap_bogota\n\nfor latitude, longitude, town in zip(bogota['latitude'], bogota['longitude'], bogota['town']):\n    label = '{}'.format(town)\n    label = folium.Popup(label, parse_html=True)\n    folium.CircleMarker(\n        [latitude, longitude],\n        radius=5,\n        popup=label,\n        color='red',\n        fill=True\n        ).add_to(map_bogota)  \n    \nmap_bogota",
            "execution_count": 22,
            "outputs": [
                {
                    "output_type": "execute_result",
                    "execution_count": 22,
                    "data": {
                        "text/plain": "<folium.folium.Map at 0x7f7920599690>",
                        "text/html": "<div style=\"width:100%;\"><div style=\"position:relative;width:100%;height:0;padding-bottom:60%;\"><span style=\"color:#565656\">Make this Notebook Trusted to load map: File -> Trust Notebook</span><iframe src=\"about:blank\" style=\"position:absolute;width:100%;height:100%;left:0;top:0;border:none !important;\" data-html=%3C%21DOCTYPE%20html%3E%0A%3Chead%3E%20%20%20%20%0A%20%20%20%20%3Cmeta%20http-equiv%3D%22content-type%22%20content%3D%22text/html%3B%20charset%3DUTF-8%22%20/%3E%0A%20%20%20%20%0A%20%20%20%20%20%20%20%20%3Cscript%3E%0A%20%20%20%20%20%20%20%20%20%20%20%20L_NO_TOUCH%20%3D%20false%3B%0A%20%20%20%20%20%20%20%20%20%20%20%20L_DISABLE_3D%20%3D%20false%3B%0A%20%20%20%20%20%20%20%20%3C/script%3E%0A%20%20%20%20%0A%20%20%20%20%3Cstyle%3Ehtml%2C%20body%20%7Bwidth%3A%20100%25%3Bheight%3A%20100%25%3Bmargin%3A%200%3Bpadding%3A%200%3B%7D%3C/style%3E%0A%20%20%20%20%3Cstyle%3E%23map%20%7Bposition%3Aabsolute%3Btop%3A0%3Bbottom%3A0%3Bright%3A0%3Bleft%3A0%3B%7D%3C/style%3E%0A%20%20%20%20%3Cscript%20src%3D%22https%3A//cdn.jsdelivr.net/npm/leaflet%401.6.0/dist/leaflet.js%22%3E%3C/script%3E%0A%20%20%20%20%3Cscript%20src%3D%22https%3A//code.jquery.com/jquery-1.12.4.min.js%22%3E%3C/script%3E%0A%20%20%20%20%3Cscript%20src%3D%22https%3A//maxcdn.bootstrapcdn.com/bootstrap/3.2.0/js/bootstrap.min.js%22%3E%3C/script%3E%0A%20%20%20%20%3Cscript%20src%3D%22https%3A//cdnjs.cloudflare.com/ajax/libs/Leaflet.awesome-markers/2.0.2/leaflet.awesome-markers.js%22%3E%3C/script%3E%0A%20%20%20%20%3Clink%20rel%3D%22stylesheet%22%20href%3D%22https%3A//cdn.jsdelivr.net/npm/leaflet%401.6.0/dist/leaflet.css%22/%3E%0A%20%20%20%20%3Clink%20rel%3D%22stylesheet%22%20href%3D%22https%3A//maxcdn.bootstrapcdn.com/bootstrap/3.2.0/css/bootstrap.min.css%22/%3E%0A%20%20%20%20%3Clink%20rel%3D%22stylesheet%22%20href%3D%22https%3A//maxcdn.bootstrapcdn.com/bootstrap/3.2.0/css/bootstrap-theme.min.css%22/%3E%0A%20%20%20%20%3Clink%20rel%3D%22stylesheet%22%20href%3D%22https%3A//maxcdn.bootstrapcdn.com/font-awesome/4.6.3/css/font-awesome.min.css%22/%3E%0A%20%20%20%20%3Clink%20rel%3D%22stylesheet%22%20href%3D%22https%3A//cdnjs.cloudflare.com/ajax/libs/Leaflet.awesome-markers/2.0.2/leaflet.awesome-markers.css%22/%3E%0A%20%20%20%20%3Clink%20rel%3D%22stylesheet%22%20href%3D%22https%3A//cdn.jsdelivr.net/gh/python-visualization/folium/folium/templates/leaflet.awesome.rotate.min.css%22/%3E%0A%20%20%20%20%0A%20%20%20%20%20%20%20%20%20%20%20%20%3Cmeta%20name%3D%22viewport%22%20content%3D%22width%3Ddevice-width%2C%0A%20%20%20%20%20%20%20%20%20%20%20%20%20%20%20%20initial-scale%3D1.0%2C%20maximum-scale%3D1.0%2C%20user-scalable%3Dno%22%20/%3E%0A%20%20%20%20%20%20%20%20%20%20%20%20%3Cstyle%3E%0A%20%20%20%20%20%20%20%20%20%20%20%20%20%20%20%20%23map_52e0a8e6b60d4d2a8f8f5a3081dfaa16%20%7B%0A%20%20%20%20%20%20%20%20%20%20%20%20%20%20%20%20%20%20%20%20position%3A%20relative%3B%0A%20%20%20%20%20%20%20%20%20%20%20%20%20%20%20%20%20%20%20%20width%3A%20100.0%25%3B%0A%20%20%20%20%20%20%20%20%20%20%20%20%20%20%20%20%20%20%20%20height%3A%20100.0%25%3B%0A%20%20%20%20%20%20%20%20%20%20%20%20%20%20%20%20%20%20%20%20left%3A%200.0%25%3B%0A%20%20%20%20%20%20%20%20%20%20%20%20%20%20%20%20%20%20%20%20top%3A%200.0%25%3B%0A%20%20%20%20%20%20%20%20%20%20%20%20%20%20%20%20%7D%0A%20%20%20%20%20%20%20%20%20%20%20%20%3C/style%3E%0A%20%20%20%20%20%20%20%20%0A%3C/head%3E%0A%3Cbody%3E%20%20%20%20%0A%20%20%20%20%0A%20%20%20%20%20%20%20%20%20%20%20%20%3Cdiv%20class%3D%22folium-map%22%20id%3D%22map_52e0a8e6b60d4d2a8f8f5a3081dfaa16%22%20%3E%3C/div%3E%0A%20%20%20%20%20%20%20%20%0A%3C/body%3E%0A%3Cscript%3E%20%20%20%20%0A%20%20%20%20%0A%20%20%20%20%20%20%20%20%20%20%20%20var%20map_52e0a8e6b60d4d2a8f8f5a3081dfaa16%20%3D%20L.map%28%0A%20%20%20%20%20%20%20%20%20%20%20%20%20%20%20%20%22map_52e0a8e6b60d4d2a8f8f5a3081dfaa16%22%2C%0A%20%20%20%20%20%20%20%20%20%20%20%20%20%20%20%20%7B%0A%20%20%20%20%20%20%20%20%20%20%20%20%20%20%20%20%20%20%20%20center%3A%20%5B4.614960000000053%2C%20-74.06940999999995%5D%2C%0A%20%20%20%20%20%20%20%20%20%20%20%20%20%20%20%20%20%20%20%20crs%3A%20L.CRS.EPSG3857%2C%0A%20%20%20%20%20%20%20%20%20%20%20%20%20%20%20%20%20%20%20%20zoom%3A%2012%2C%0A%20%20%20%20%20%20%20%20%20%20%20%20%20%20%20%20%20%20%20%20zoomControl%3A%20true%2C%0A%20%20%20%20%20%20%20%20%20%20%20%20%20%20%20%20%20%20%20%20preferCanvas%3A%20false%2C%0A%20%20%20%20%20%20%20%20%20%20%20%20%20%20%20%20%7D%0A%20%20%20%20%20%20%20%20%20%20%20%20%29%3B%0A%0A%20%20%20%20%20%20%20%20%20%20%20%20%0A%0A%20%20%20%20%20%20%20%20%0A%20%20%20%20%0A%20%20%20%20%20%20%20%20%20%20%20%20var%20tile_layer_334e8c4504084f00b4af4d3b24bf99bb%20%3D%20L.tileLayer%28%0A%20%20%20%20%20%20%20%20%20%20%20%20%20%20%20%20%22https%3A//%7Bs%7D.tile.openstreetmap.org/%7Bz%7D/%7Bx%7D/%7By%7D.png%22%2C%0A%20%20%20%20%20%20%20%20%20%20%20%20%20%20%20%20%7B%22attribution%22%3A%20%22Data%20by%20%5Cu0026copy%3B%20%5Cu003ca%20href%3D%5C%22http%3A//openstreetmap.org%5C%22%5Cu003eOpenStreetMap%5Cu003c/a%5Cu003e%2C%20under%20%5Cu003ca%20href%3D%5C%22http%3A//www.openstreetmap.org/copyright%5C%22%5Cu003eODbL%5Cu003c/a%5Cu003e.%22%2C%20%22detectRetina%22%3A%20false%2C%20%22maxNativeZoom%22%3A%2018%2C%20%22maxZoom%22%3A%2018%2C%20%22minZoom%22%3A%200%2C%20%22noWrap%22%3A%20false%2C%20%22opacity%22%3A%201%2C%20%22subdomains%22%3A%20%22abc%22%2C%20%22tms%22%3A%20false%7D%0A%20%20%20%20%20%20%20%20%20%20%20%20%29.addTo%28map_52e0a8e6b60d4d2a8f8f5a3081dfaa16%29%3B%0A%20%20%20%20%20%20%20%20%0A%20%20%20%20%0A%20%20%20%20%20%20%20%20%20%20%20%20var%20circle_marker_4aabc3a7a97f404589b68248b2b21d9a%20%3D%20L.circleMarker%28%0A%20%20%20%20%20%20%20%20%20%20%20%20%20%20%20%20%5B4.691000000000031%2C%20-74.03344796899995%5D%2C%0A%20%20%20%20%20%20%20%20%20%20%20%20%20%20%20%20%7B%22bubblingMouseEvents%22%3A%20true%2C%20%22color%22%3A%20%22red%22%2C%20%22dashArray%22%3A%20null%2C%20%22dashOffset%22%3A%20null%2C%20%22fill%22%3A%20true%2C%20%22fillColor%22%3A%20%22red%22%2C%20%22fillOpacity%22%3A%200.2%2C%20%22fillRule%22%3A%20%22evenodd%22%2C%20%22lineCap%22%3A%20%22round%22%2C%20%22lineJoin%22%3A%20%22round%22%2C%20%22opacity%22%3A%201.0%2C%20%22radius%22%3A%205%2C%20%22stroke%22%3A%20true%2C%20%22weight%22%3A%203%7D%0A%20%20%20%20%20%20%20%20%20%20%20%20%29.addTo%28map_52e0a8e6b60d4d2a8f8f5a3081dfaa16%29%3B%0A%20%20%20%20%20%20%20%20%0A%20%20%20%20%0A%20%20%20%20%20%20%20%20var%20popup_671191e846f447ef9c2f5621f0e3518a%20%3D%20L.popup%28%7B%22maxWidth%22%3A%20%22100%25%22%7D%29%3B%0A%0A%20%20%20%20%20%20%20%20%0A%20%20%20%20%20%20%20%20%20%20%20%20var%20html_e29f5ec52b904154af2b51d74dd68986%20%3D%20%24%28%60%3Cdiv%20id%3D%22html_e29f5ec52b904154af2b51d74dd68986%22%20style%3D%22width%3A%20100.0%25%3B%20height%3A%20100.0%25%3B%22%3EUsaqu%C3%A9n%3C/div%3E%60%29%5B0%5D%3B%0A%20%20%20%20%20%20%20%20%20%20%20%20popup_671191e846f447ef9c2f5621f0e3518a.setContent%28html_e29f5ec52b904154af2b51d74dd68986%29%3B%0A%20%20%20%20%20%20%20%20%0A%0A%20%20%20%20%20%20%20%20circle_marker_4aabc3a7a97f404589b68248b2b21d9a.bindPopup%28popup_671191e846f447ef9c2f5621f0e3518a%29%0A%20%20%20%20%20%20%20%20%3B%0A%0A%20%20%20%20%20%20%20%20%0A%20%20%20%20%0A%20%20%20%20%0A%20%20%20%20%20%20%20%20%20%20%20%20var%20circle_marker_bc4ccaf9bc3b4519b35bcfb695fa3478%20%3D%20L.circleMarker%28%0A%20%20%20%20%20%20%20%20%20%20%20%20%20%20%20%20%5B4.667800000000057%2C%20-74.02591031199995%5D%2C%0A%20%20%20%20%20%20%20%20%20%20%20%20%20%20%20%20%7B%22bubblingMouseEvents%22%3A%20true%2C%20%22color%22%3A%20%22red%22%2C%20%22dashArray%22%3A%20null%2C%20%22dashOffset%22%3A%20null%2C%20%22fill%22%3A%20true%2C%20%22fillColor%22%3A%20%22red%22%2C%20%22fillOpacity%22%3A%200.2%2C%20%22fillRule%22%3A%20%22evenodd%22%2C%20%22lineCap%22%3A%20%22round%22%2C%20%22lineJoin%22%3A%20%22round%22%2C%20%22opacity%22%3A%201.0%2C%20%22radius%22%3A%205%2C%20%22stroke%22%3A%20true%2C%20%22weight%22%3A%203%7D%0A%20%20%20%20%20%20%20%20%20%20%20%20%29.addTo%28map_52e0a8e6b60d4d2a8f8f5a3081dfaa16%29%3B%0A%20%20%20%20%20%20%20%20%0A%20%20%20%20%0A%20%20%20%20%20%20%20%20var%20popup_f0e75ebc45644a6784f5e704b101a4e6%20%3D%20L.popup%28%7B%22maxWidth%22%3A%20%22100%25%22%7D%29%3B%0A%0A%20%20%20%20%20%20%20%20%0A%20%20%20%20%20%20%20%20%20%20%20%20var%20html_97574ad555a943168cc0696628140cd7%20%3D%20%24%28%60%3Cdiv%20id%3D%22html_97574ad555a943168cc0696628140cd7%22%20style%3D%22width%3A%20100.0%25%3B%20height%3A%20100.0%25%3B%22%3EChapinero%3C/div%3E%60%29%5B0%5D%3B%0A%20%20%20%20%20%20%20%20%20%20%20%20popup_f0e75ebc45644a6784f5e704b101a4e6.setContent%28html_97574ad555a943168cc0696628140cd7%29%3B%0A%20%20%20%20%20%20%20%20%0A%0A%20%20%20%20%20%20%20%20circle_marker_bc4ccaf9bc3b4519b35bcfb695fa3478.bindPopup%28popup_f0e75ebc45644a6784f5e704b101a4e6%29%0A%20%20%20%20%20%20%20%20%3B%0A%0A%20%20%20%20%20%20%20%20%0A%20%20%20%20%0A%20%20%20%20%0A%20%20%20%20%20%20%20%20%20%20%20%20var%20circle_marker_bff164e7f7e7402cb70ab10c8dfedcaa%20%3D%20L.circleMarker%28%0A%20%20%20%20%20%20%20%20%20%20%20%20%20%20%20%20%5B4.5902545530000225%2C%20-74.02563020599996%5D%2C%0A%20%20%20%20%20%20%20%20%20%20%20%20%20%20%20%20%7B%22bubblingMouseEvents%22%3A%20true%2C%20%22color%22%3A%20%22red%22%2C%20%22dashArray%22%3A%20null%2C%20%22dashOffset%22%3A%20null%2C%20%22fill%22%3A%20true%2C%20%22fillColor%22%3A%20%22red%22%2C%20%22fillOpacity%22%3A%200.2%2C%20%22fillRule%22%3A%20%22evenodd%22%2C%20%22lineCap%22%3A%20%22round%22%2C%20%22lineJoin%22%3A%20%22round%22%2C%20%22opacity%22%3A%201.0%2C%20%22radius%22%3A%205%2C%20%22stroke%22%3A%20true%2C%20%22weight%22%3A%203%7D%0A%20%20%20%20%20%20%20%20%20%20%20%20%29.addTo%28map_52e0a8e6b60d4d2a8f8f5a3081dfaa16%29%3B%0A%20%20%20%20%20%20%20%20%0A%20%20%20%20%0A%20%20%20%20%20%20%20%20var%20popup_246faa845f8b4260b0613cdb499fcdd2%20%3D%20L.popup%28%7B%22maxWidth%22%3A%20%22100%25%22%7D%29%3B%0A%0A%20%20%20%20%20%20%20%20%0A%20%20%20%20%20%20%20%20%20%20%20%20var%20html_f396cb9cd8d145eda56d8c6600f74074%20%3D%20%24%28%60%3Cdiv%20id%3D%22html_f396cb9cd8d145eda56d8c6600f74074%22%20style%3D%22width%3A%20100.0%25%3B%20height%3A%20100.0%25%3B%22%3ESanta%20Fe%3C/div%3E%60%29%5B0%5D%3B%0A%20%20%20%20%20%20%20%20%20%20%20%20popup_246faa845f8b4260b0613cdb499fcdd2.setContent%28html_f396cb9cd8d145eda56d8c6600f74074%29%3B%0A%20%20%20%20%20%20%20%20%0A%0A%20%20%20%20%20%20%20%20circle_marker_bff164e7f7e7402cb70ab10c8dfedcaa.bindPopup%28popup_246faa845f8b4260b0613cdb499fcdd2%29%0A%20%20%20%20%20%20%20%20%3B%0A%0A%20%20%20%20%20%20%20%20%0A%20%20%20%20%0A%20%20%20%20%0A%20%20%20%20%20%20%20%20%20%20%20%20var%20circle_marker_b7b80b7572c44724803b974703c2df25%20%3D%20L.circleMarker%28%0A%20%20%20%20%20%20%20%20%20%20%20%20%20%20%20%20%5B4.560310000000072%2C%20-74.05352330099998%5D%2C%0A%20%20%20%20%20%20%20%20%20%20%20%20%20%20%20%20%7B%22bubblingMouseEvents%22%3A%20true%2C%20%22color%22%3A%20%22red%22%2C%20%22dashArray%22%3A%20null%2C%20%22dashOffset%22%3A%20null%2C%20%22fill%22%3A%20true%2C%20%22fillColor%22%3A%20%22red%22%2C%20%22fillOpacity%22%3A%200.2%2C%20%22fillRule%22%3A%20%22evenodd%22%2C%20%22lineCap%22%3A%20%22round%22%2C%20%22lineJoin%22%3A%20%22round%22%2C%20%22opacity%22%3A%201.0%2C%20%22radius%22%3A%205%2C%20%22stroke%22%3A%20true%2C%20%22weight%22%3A%203%7D%0A%20%20%20%20%20%20%20%20%20%20%20%20%29.addTo%28map_52e0a8e6b60d4d2a8f8f5a3081dfaa16%29%3B%0A%20%20%20%20%20%20%20%20%0A%20%20%20%20%0A%20%20%20%20%20%20%20%20var%20popup_b62191c978b941ff97e86eb6665134e9%20%3D%20L.popup%28%7B%22maxWidth%22%3A%20%22100%25%22%7D%29%3B%0A%0A%20%20%20%20%20%20%20%20%0A%20%20%20%20%20%20%20%20%20%20%20%20var%20html_327f5b7b797f4680b72276def6f241e0%20%3D%20%24%28%60%3Cdiv%20id%3D%22html_327f5b7b797f4680b72276def6f241e0%22%20style%3D%22width%3A%20100.0%25%3B%20height%3A%20100.0%25%3B%22%3ESan%20Crist%C3%B3bal%3C/div%3E%60%29%5B0%5D%3B%0A%20%20%20%20%20%20%20%20%20%20%20%20popup_b62191c978b941ff97e86eb6665134e9.setContent%28html_327f5b7b797f4680b72276def6f241e0%29%3B%0A%20%20%20%20%20%20%20%20%0A%0A%20%20%20%20%20%20%20%20circle_marker_b7b80b7572c44724803b974703c2df25.bindPopup%28popup_b62191c978b941ff97e86eb6665134e9%29%0A%20%20%20%20%20%20%20%20%3B%0A%0A%20%20%20%20%20%20%20%20%0A%20%20%20%20%0A%20%20%20%20%0A%20%20%20%20%20%20%20%20%20%20%20%20var%20circle_marker_fa65e8c46fe149bf97e163c9c443252b%20%3D%20L.circleMarker%28%0A%20%20%20%20%20%20%20%20%20%20%20%20%20%20%20%20%5B4.496341219000044%2C%20-74.13080999999994%5D%2C%0A%20%20%20%20%20%20%20%20%20%20%20%20%20%20%20%20%7B%22bubblingMouseEvents%22%3A%20true%2C%20%22color%22%3A%20%22red%22%2C%20%22dashArray%22%3A%20null%2C%20%22dashOffset%22%3A%20null%2C%20%22fill%22%3A%20true%2C%20%22fillColor%22%3A%20%22red%22%2C%20%22fillOpacity%22%3A%200.2%2C%20%22fillRule%22%3A%20%22evenodd%22%2C%20%22lineCap%22%3A%20%22round%22%2C%20%22lineJoin%22%3A%20%22round%22%2C%20%22opacity%22%3A%201.0%2C%20%22radius%22%3A%205%2C%20%22stroke%22%3A%20true%2C%20%22weight%22%3A%203%7D%0A%20%20%20%20%20%20%20%20%20%20%20%20%29.addTo%28map_52e0a8e6b60d4d2a8f8f5a3081dfaa16%29%3B%0A%20%20%20%20%20%20%20%20%0A%20%20%20%20%0A%20%20%20%20%20%20%20%20var%20popup_de3a5b909a5a4e1b84861e71380d3036%20%3D%20L.popup%28%7B%22maxWidth%22%3A%20%22100%25%22%7D%29%3B%0A%0A%20%20%20%20%20%20%20%20%0A%20%20%20%20%20%20%20%20%20%20%20%20var%20html_5b03f5bd45834bddad09aa40f8bfb761%20%3D%20%24%28%60%3Cdiv%20id%3D%22html_5b03f5bd45834bddad09aa40f8bfb761%22%20style%3D%22width%3A%20100.0%25%3B%20height%3A%20100.0%25%3B%22%3EUsme%3C/div%3E%60%29%5B0%5D%3B%0A%20%20%20%20%20%20%20%20%20%20%20%20popup_de3a5b909a5a4e1b84861e71380d3036.setContent%28html_5b03f5bd45834bddad09aa40f8bfb761%29%3B%0A%20%20%20%20%20%20%20%20%0A%0A%20%20%20%20%20%20%20%20circle_marker_fa65e8c46fe149bf97e163c9c443252b.bindPopup%28popup_de3a5b909a5a4e1b84861e71380d3036%29%0A%20%20%20%20%20%20%20%20%3B%0A%0A%20%20%20%20%20%20%20%20%0A%20%20%20%20%0A%20%20%20%20%0A%20%20%20%20%20%20%20%20%20%20%20%20var%20circle_marker_c50fb1a1f15141c2b2ba4034c3bc4b65%20%3D%20L.circleMarker%28%0A%20%20%20%20%20%20%20%20%20%20%20%20%20%20%20%20%5B4.584725000000049%2C%20-74.14117047199994%5D%2C%0A%20%20%20%20%20%20%20%20%20%20%20%20%20%20%20%20%7B%22bubblingMouseEvents%22%3A%20true%2C%20%22color%22%3A%20%22red%22%2C%20%22dashArray%22%3A%20null%2C%20%22dashOffset%22%3A%20null%2C%20%22fill%22%3A%20true%2C%20%22fillColor%22%3A%20%22red%22%2C%20%22fillOpacity%22%3A%200.2%2C%20%22fillRule%22%3A%20%22evenodd%22%2C%20%22lineCap%22%3A%20%22round%22%2C%20%22lineJoin%22%3A%20%22round%22%2C%20%22opacity%22%3A%201.0%2C%20%22radius%22%3A%205%2C%20%22stroke%22%3A%20true%2C%20%22weight%22%3A%203%7D%0A%20%20%20%20%20%20%20%20%20%20%20%20%29.addTo%28map_52e0a8e6b60d4d2a8f8f5a3081dfaa16%29%3B%0A%20%20%20%20%20%20%20%20%0A%20%20%20%20%0A%20%20%20%20%20%20%20%20var%20popup_e24974558e294f2dab85069cc2e82f9a%20%3D%20L.popup%28%7B%22maxWidth%22%3A%20%22100%25%22%7D%29%3B%0A%0A%20%20%20%20%20%20%20%20%0A%20%20%20%20%20%20%20%20%20%20%20%20var%20html_2845ab87b55a43a1805c62aef19c4533%20%3D%20%24%28%60%3Cdiv%20id%3D%22html_2845ab87b55a43a1805c62aef19c4533%22%20style%3D%22width%3A%20100.0%25%3B%20height%3A%20100.0%25%3B%22%3ETunjuelito%3C/div%3E%60%29%5B0%5D%3B%0A%20%20%20%20%20%20%20%20%20%20%20%20popup_e24974558e294f2dab85069cc2e82f9a.setContent%28html_2845ab87b55a43a1805c62aef19c4533%29%3B%0A%20%20%20%20%20%20%20%20%0A%0A%20%20%20%20%20%20%20%20circle_marker_c50fb1a1f15141c2b2ba4034c3bc4b65.bindPopup%28popup_e24974558e294f2dab85069cc2e82f9a%29%0A%20%20%20%20%20%20%20%20%3B%0A%0A%20%20%20%20%20%20%20%20%0A%20%20%20%20%0A%20%20%20%20%0A%20%20%20%20%20%20%20%20%20%20%20%20var%20circle_marker_18d671b33c534ca68688057c15347803%20%3D%20L.circleMarker%28%0A%20%20%20%20%20%20%20%20%20%20%20%20%20%20%20%20%5B4.638727325000048%2C%20-74.18991999999997%5D%2C%0A%20%20%20%20%20%20%20%20%20%20%20%20%20%20%20%20%7B%22bubblingMouseEvents%22%3A%20true%2C%20%22color%22%3A%20%22red%22%2C%20%22dashArray%22%3A%20null%2C%20%22dashOffset%22%3A%20null%2C%20%22fill%22%3A%20true%2C%20%22fillColor%22%3A%20%22red%22%2C%20%22fillOpacity%22%3A%200.2%2C%20%22fillRule%22%3A%20%22evenodd%22%2C%20%22lineCap%22%3A%20%22round%22%2C%20%22lineJoin%22%3A%20%22round%22%2C%20%22opacity%22%3A%201.0%2C%20%22radius%22%3A%205%2C%20%22stroke%22%3A%20true%2C%20%22weight%22%3A%203%7D%0A%20%20%20%20%20%20%20%20%20%20%20%20%29.addTo%28map_52e0a8e6b60d4d2a8f8f5a3081dfaa16%29%3B%0A%20%20%20%20%20%20%20%20%0A%20%20%20%20%0A%20%20%20%20%20%20%20%20var%20popup_4a9ced6896c0411c92799648dd3c77bc%20%3D%20L.popup%28%7B%22maxWidth%22%3A%20%22100%25%22%7D%29%3B%0A%0A%20%20%20%20%20%20%20%20%0A%20%20%20%20%20%20%20%20%20%20%20%20var%20html_201e55bd9d0e49b1a0704db4c2176e70%20%3D%20%24%28%60%3Cdiv%20id%3D%22html_201e55bd9d0e49b1a0704db4c2176e70%22%20style%3D%22width%3A%20100.0%25%3B%20height%3A%20100.0%25%3B%22%3EBosa%3C/div%3E%60%29%5B0%5D%3B%0A%20%20%20%20%20%20%20%20%20%20%20%20popup_4a9ced6896c0411c92799648dd3c77bc.setContent%28html_201e55bd9d0e49b1a0704db4c2176e70%29%3B%0A%20%20%20%20%20%20%20%20%0A%0A%20%20%20%20%20%20%20%20circle_marker_18d671b33c534ca68688057c15347803.bindPopup%28popup_4a9ced6896c0411c92799648dd3c77bc%29%0A%20%20%20%20%20%20%20%20%3B%0A%0A%20%20%20%20%20%20%20%20%0A%20%20%20%20%0A%20%20%20%20%0A%20%20%20%20%20%20%20%20%20%20%20%20var%20circle_marker_bef1c824560a4a0ea880a6f8390b616e%20%3D%20L.circleMarker%28%0A%20%20%20%20%20%20%20%20%20%20%20%20%20%20%20%20%5B4.6525550000000635%2C%20-74.15529871899997%5D%2C%0A%20%20%20%20%20%20%20%20%20%20%20%20%20%20%20%20%7B%22bubblingMouseEvents%22%3A%20true%2C%20%22color%22%3A%20%22red%22%2C%20%22dashArray%22%3A%20null%2C%20%22dashOffset%22%3A%20null%2C%20%22fill%22%3A%20true%2C%20%22fillColor%22%3A%20%22red%22%2C%20%22fillOpacity%22%3A%200.2%2C%20%22fillRule%22%3A%20%22evenodd%22%2C%20%22lineCap%22%3A%20%22round%22%2C%20%22lineJoin%22%3A%20%22round%22%2C%20%22opacity%22%3A%201.0%2C%20%22radius%22%3A%205%2C%20%22stroke%22%3A%20true%2C%20%22weight%22%3A%203%7D%0A%20%20%20%20%20%20%20%20%20%20%20%20%29.addTo%28map_52e0a8e6b60d4d2a8f8f5a3081dfaa16%29%3B%0A%20%20%20%20%20%20%20%20%0A%20%20%20%20%0A%20%20%20%20%20%20%20%20var%20popup_833a199855f54deda74b881bfee8f5e8%20%3D%20L.popup%28%7B%22maxWidth%22%3A%20%22100%25%22%7D%29%3B%0A%0A%20%20%20%20%20%20%20%20%0A%20%20%20%20%20%20%20%20%20%20%20%20var%20html_52f3946a858b497388e8456ab6fc161f%20%3D%20%24%28%60%3Cdiv%20id%3D%22html_52f3946a858b497388e8456ab6fc161f%22%20style%3D%22width%3A%20100.0%25%3B%20height%3A%20100.0%25%3B%22%3EKennedy%3C/div%3E%60%29%5B0%5D%3B%0A%20%20%20%20%20%20%20%20%20%20%20%20popup_833a199855f54deda74b881bfee8f5e8.setContent%28html_52f3946a858b497388e8456ab6fc161f%29%3B%0A%20%20%20%20%20%20%20%20%0A%0A%20%20%20%20%20%20%20%20circle_marker_bef1c824560a4a0ea880a6f8390b616e.bindPopup%28popup_833a199855f54deda74b881bfee8f5e8%29%0A%20%20%20%20%20%20%20%20%3B%0A%0A%20%20%20%20%20%20%20%20%0A%20%20%20%20%0A%20%20%20%20%0A%20%20%20%20%20%20%20%20%20%20%20%20var%20circle_marker_a942e68c74ee4de6912db3054b050514%20%3D%20L.circleMarker%28%0A%20%20%20%20%20%20%20%20%20%20%20%20%20%20%20%20%5B4.695895000000064%2C%20-74.14457572699996%5D%2C%0A%20%20%20%20%20%20%20%20%20%20%20%20%20%20%20%20%7B%22bubblingMouseEvents%22%3A%20true%2C%20%22color%22%3A%20%22red%22%2C%20%22dashArray%22%3A%20null%2C%20%22dashOffset%22%3A%20null%2C%20%22fill%22%3A%20true%2C%20%22fillColor%22%3A%20%22red%22%2C%20%22fillOpacity%22%3A%200.2%2C%20%22fillRule%22%3A%20%22evenodd%22%2C%20%22lineCap%22%3A%20%22round%22%2C%20%22lineJoin%22%3A%20%22round%22%2C%20%22opacity%22%3A%201.0%2C%20%22radius%22%3A%205%2C%20%22stroke%22%3A%20true%2C%20%22weight%22%3A%203%7D%0A%20%20%20%20%20%20%20%20%20%20%20%20%29.addTo%28map_52e0a8e6b60d4d2a8f8f5a3081dfaa16%29%3B%0A%20%20%20%20%20%20%20%20%0A%20%20%20%20%0A%20%20%20%20%20%20%20%20var%20popup_c50eb3b64d27455584e87765e1bbc7e6%20%3D%20L.popup%28%7B%22maxWidth%22%3A%20%22100%25%22%7D%29%3B%0A%0A%20%20%20%20%20%20%20%20%0A%20%20%20%20%20%20%20%20%20%20%20%20var%20html_590f2e3d4c174e9f83e511559b286c1c%20%3D%20%24%28%60%3Cdiv%20id%3D%22html_590f2e3d4c174e9f83e511559b286c1c%22%20style%3D%22width%3A%20100.0%25%3B%20height%3A%20100.0%25%3B%22%3EFontib%C3%B3n%3C/div%3E%60%29%5B0%5D%3B%0A%20%20%20%20%20%20%20%20%20%20%20%20popup_c50eb3b64d27455584e87765e1bbc7e6.setContent%28html_590f2e3d4c174e9f83e511559b286c1c%29%3B%0A%20%20%20%20%20%20%20%20%0A%0A%20%20%20%20%20%20%20%20circle_marker_a942e68c74ee4de6912db3054b050514.bindPopup%28popup_c50eb3b64d27455584e87765e1bbc7e6%29%0A%20%20%20%20%20%20%20%20%3B%0A%0A%20%20%20%20%20%20%20%20%0A%20%20%20%20%0A%20%20%20%20%0A%20%20%20%20%20%20%20%20%20%20%20%20var%20circle_marker_5837b3959d1b4a769b69af3bd3719177%20%3D%20L.circleMarker%28%0A%20%20%20%20%20%20%20%20%20%20%20%20%20%20%20%20%5B4.724539094000022%2C%20-74.11550499999998%5D%2C%0A%20%20%20%20%20%20%20%20%20%20%20%20%20%20%20%20%7B%22bubblingMouseEvents%22%3A%20true%2C%20%22color%22%3A%20%22red%22%2C%20%22dashArray%22%3A%20null%2C%20%22dashOffset%22%3A%20null%2C%20%22fill%22%3A%20true%2C%20%22fillColor%22%3A%20%22red%22%2C%20%22fillOpacity%22%3A%200.2%2C%20%22fillRule%22%3A%20%22evenodd%22%2C%20%22lineCap%22%3A%20%22round%22%2C%20%22lineJoin%22%3A%20%22round%22%2C%20%22opacity%22%3A%201.0%2C%20%22radius%22%3A%205%2C%20%22stroke%22%3A%20true%2C%20%22weight%22%3A%203%7D%0A%20%20%20%20%20%20%20%20%20%20%20%20%29.addTo%28map_52e0a8e6b60d4d2a8f8f5a3081dfaa16%29%3B%0A%20%20%20%20%20%20%20%20%0A%20%20%20%20%0A%20%20%20%20%20%20%20%20var%20popup_fd2adc8453774772ba80f7c2d174886c%20%3D%20L.popup%28%7B%22maxWidth%22%3A%20%22100%25%22%7D%29%3B%0A%0A%20%20%20%20%20%20%20%20%0A%20%20%20%20%20%20%20%20%20%20%20%20var%20html_721791b47deb4fee9effed9cd62db8eb%20%3D%20%24%28%60%3Cdiv%20id%3D%22html_721791b47deb4fee9effed9cd62db8eb%22%20style%3D%22width%3A%20100.0%25%3B%20height%3A%20100.0%25%3B%22%3EEngativ%C3%A1%3C/div%3E%60%29%5B0%5D%3B%0A%20%20%20%20%20%20%20%20%20%20%20%20popup_fd2adc8453774772ba80f7c2d174886c.setContent%28html_721791b47deb4fee9effed9cd62db8eb%29%3B%0A%20%20%20%20%20%20%20%20%0A%0A%20%20%20%20%20%20%20%20circle_marker_5837b3959d1b4a769b69af3bd3719177.bindPopup%28popup_fd2adc8453774772ba80f7c2d174886c%29%0A%20%20%20%20%20%20%20%20%3B%0A%0A%20%20%20%20%20%20%20%20%0A%20%20%20%20%0A%20%20%20%20%0A%20%20%20%20%20%20%20%20%20%20%20%20var%20circle_marker_baaf642f01b94ad38801ae67fb6f2bb7%20%3D%20L.circleMarker%28%0A%20%20%20%20%20%20%20%20%20%20%20%20%20%20%20%20%5B4.7080964370000515%2C%20-74.06316999999996%5D%2C%0A%20%20%20%20%20%20%20%20%20%20%20%20%20%20%20%20%7B%22bubblingMouseEvents%22%3A%20true%2C%20%22color%22%3A%20%22red%22%2C%20%22dashArray%22%3A%20null%2C%20%22dashOffset%22%3A%20null%2C%20%22fill%22%3A%20true%2C%20%22fillColor%22%3A%20%22red%22%2C%20%22fillOpacity%22%3A%200.2%2C%20%22fillRule%22%3A%20%22evenodd%22%2C%20%22lineCap%22%3A%20%22round%22%2C%20%22lineJoin%22%3A%20%22round%22%2C%20%22opacity%22%3A%201.0%2C%20%22radius%22%3A%205%2C%20%22stroke%22%3A%20true%2C%20%22weight%22%3A%203%7D%0A%20%20%20%20%20%20%20%20%20%20%20%20%29.addTo%28map_52e0a8e6b60d4d2a8f8f5a3081dfaa16%29%3B%0A%20%20%20%20%20%20%20%20%0A%20%20%20%20%0A%20%20%20%20%20%20%20%20var%20popup_99c12d2d6eea4407b1b9eb1e516fb62a%20%3D%20L.popup%28%7B%22maxWidth%22%3A%20%22100%25%22%7D%29%3B%0A%0A%20%20%20%20%20%20%20%20%0A%20%20%20%20%20%20%20%20%20%20%20%20var%20html_3e9f70e02c85457fb8369009702bf982%20%3D%20%24%28%60%3Cdiv%20id%3D%22html_3e9f70e02c85457fb8369009702bf982%22%20style%3D%22width%3A%20100.0%25%3B%20height%3A%20100.0%25%3B%22%3ESuba%3C/div%3E%60%29%5B0%5D%3B%0A%20%20%20%20%20%20%20%20%20%20%20%20popup_99c12d2d6eea4407b1b9eb1e516fb62a.setContent%28html_3e9f70e02c85457fb8369009702bf982%29%3B%0A%20%20%20%20%20%20%20%20%0A%0A%20%20%20%20%20%20%20%20circle_marker_baaf642f01b94ad38801ae67fb6f2bb7.bindPopup%28popup_99c12d2d6eea4407b1b9eb1e516fb62a%29%0A%20%20%20%20%20%20%20%20%3B%0A%0A%20%20%20%20%20%20%20%20%0A%20%20%20%20%0A%20%20%20%20%0A%20%20%20%20%20%20%20%20%20%20%20%20var%20circle_marker_1ffaf1df12874a0988720e8cec6770b6%20%3D%20L.circleMarker%28%0A%20%20%20%20%20%20%20%20%20%20%20%20%20%20%20%20%5B4.67783038400006%2C%20-74.07160499999998%5D%2C%0A%20%20%20%20%20%20%20%20%20%20%20%20%20%20%20%20%7B%22bubblingMouseEvents%22%3A%20true%2C%20%22color%22%3A%20%22red%22%2C%20%22dashArray%22%3A%20null%2C%20%22dashOffset%22%3A%20null%2C%20%22fill%22%3A%20true%2C%20%22fillColor%22%3A%20%22red%22%2C%20%22fillOpacity%22%3A%200.2%2C%20%22fillRule%22%3A%20%22evenodd%22%2C%20%22lineCap%22%3A%20%22round%22%2C%20%22lineJoin%22%3A%20%22round%22%2C%20%22opacity%22%3A%201.0%2C%20%22radius%22%3A%205%2C%20%22stroke%22%3A%20true%2C%20%22weight%22%3A%203%7D%0A%20%20%20%20%20%20%20%20%20%20%20%20%29.addTo%28map_52e0a8e6b60d4d2a8f8f5a3081dfaa16%29%3B%0A%20%20%20%20%20%20%20%20%0A%20%20%20%20%0A%20%20%20%20%20%20%20%20var%20popup_b0e6f80801ae4015bd7a9523840d437a%20%3D%20L.popup%28%7B%22maxWidth%22%3A%20%22100%25%22%7D%29%3B%0A%0A%20%20%20%20%20%20%20%20%0A%20%20%20%20%20%20%20%20%20%20%20%20var%20html_0a94bbc1f5e242ae907345a9614e3c94%20%3D%20%24%28%60%3Cdiv%20id%3D%22html_0a94bbc1f5e242ae907345a9614e3c94%22%20style%3D%22width%3A%20100.0%25%3B%20height%3A%20100.0%25%3B%22%3EBarrios%20Unidos%3C/div%3E%60%29%5B0%5D%3B%0A%20%20%20%20%20%20%20%20%20%20%20%20popup_b0e6f80801ae4015bd7a9523840d437a.setContent%28html_0a94bbc1f5e242ae907345a9614e3c94%29%3B%0A%20%20%20%20%20%20%20%20%0A%0A%20%20%20%20%20%20%20%20circle_marker_1ffaf1df12874a0988720e8cec6770b6.bindPopup%28popup_b0e6f80801ae4015bd7a9523840d437a%29%0A%20%20%20%20%20%20%20%20%3B%0A%0A%20%20%20%20%20%20%20%20%0A%20%20%20%20%0A%20%20%20%20%0A%20%20%20%20%20%20%20%20%20%20%20%20var%20circle_marker_62371066689e4a768c4c19534c988e1c%20%3D%20L.circleMarker%28%0A%20%20%20%20%20%20%20%20%20%20%20%20%20%20%20%20%5B4.633319682000035%2C%20-74.07290770799995%5D%2C%0A%20%20%20%20%20%20%20%20%20%20%20%20%20%20%20%20%7B%22bubblingMouseEvents%22%3A%20true%2C%20%22color%22%3A%20%22red%22%2C%20%22dashArray%22%3A%20null%2C%20%22dashOffset%22%3A%20null%2C%20%22fill%22%3A%20true%2C%20%22fillColor%22%3A%20%22red%22%2C%20%22fillOpacity%22%3A%200.2%2C%20%22fillRule%22%3A%20%22evenodd%22%2C%20%22lineCap%22%3A%20%22round%22%2C%20%22lineJoin%22%3A%20%22round%22%2C%20%22opacity%22%3A%201.0%2C%20%22radius%22%3A%205%2C%20%22stroke%22%3A%20true%2C%20%22weight%22%3A%203%7D%0A%20%20%20%20%20%20%20%20%20%20%20%20%29.addTo%28map_52e0a8e6b60d4d2a8f8f5a3081dfaa16%29%3B%0A%20%20%20%20%20%20%20%20%0A%20%20%20%20%0A%20%20%20%20%20%20%20%20var%20popup_6cdf12e86c324d6fa71f68478e3484ed%20%3D%20L.popup%28%7B%22maxWidth%22%3A%20%22100%25%22%7D%29%3B%0A%0A%20%20%20%20%20%20%20%20%0A%20%20%20%20%20%20%20%20%20%20%20%20var%20html_8aa43a7fdcde472a995601136f854f55%20%3D%20%24%28%60%3Cdiv%20id%3D%22html_8aa43a7fdcde472a995601136f854f55%22%20style%3D%22width%3A%20100.0%25%3B%20height%3A%20100.0%25%3B%22%3ETeusaquillo%3C/div%3E%60%29%5B0%5D%3B%0A%20%20%20%20%20%20%20%20%20%20%20%20popup_6cdf12e86c324d6fa71f68478e3484ed.setContent%28html_8aa43a7fdcde472a995601136f854f55%29%3B%0A%20%20%20%20%20%20%20%20%0A%0A%20%20%20%20%20%20%20%20circle_marker_62371066689e4a768c4c19534c988e1c.bindPopup%28popup_6cdf12e86c324d6fa71f68478e3484ed%29%0A%20%20%20%20%20%20%20%20%3B%0A%0A%20%20%20%20%20%20%20%20%0A%20%20%20%20%0A%20%20%20%20%0A%20%20%20%20%20%20%20%20%20%20%20%20var%20circle_marker_be186d01141f4658a7dfefea36bbe516%20%3D%20L.circleMarker%28%0A%20%20%20%20%20%20%20%20%20%20%20%20%20%20%20%20%5B4.604255667000075%2C%20-74.08991499999996%5D%2C%0A%20%20%20%20%20%20%20%20%20%20%20%20%20%20%20%20%7B%22bubblingMouseEvents%22%3A%20true%2C%20%22color%22%3A%20%22red%22%2C%20%22dashArray%22%3A%20null%2C%20%22dashOffset%22%3A%20null%2C%20%22fill%22%3A%20true%2C%20%22fillColor%22%3A%20%22red%22%2C%20%22fillOpacity%22%3A%200.2%2C%20%22fillRule%22%3A%20%22evenodd%22%2C%20%22lineCap%22%3A%20%22round%22%2C%20%22lineJoin%22%3A%20%22round%22%2C%20%22opacity%22%3A%201.0%2C%20%22radius%22%3A%205%2C%20%22stroke%22%3A%20true%2C%20%22weight%22%3A%203%7D%0A%20%20%20%20%20%20%20%20%20%20%20%20%29.addTo%28map_52e0a8e6b60d4d2a8f8f5a3081dfaa16%29%3B%0A%20%20%20%20%20%20%20%20%0A%20%20%20%20%0A%20%20%20%20%20%20%20%20var%20popup_2bf1acb6e44c478b99f74dfc06502821%20%3D%20L.popup%28%7B%22maxWidth%22%3A%20%22100%25%22%7D%29%3B%0A%0A%20%20%20%20%20%20%20%20%0A%20%20%20%20%20%20%20%20%20%20%20%20var%20html_c0cac602c8664abea1a2f1610e5a3e5c%20%3D%20%24%28%60%3Cdiv%20id%3D%22html_c0cac602c8664abea1a2f1610e5a3e5c%22%20style%3D%22width%3A%20100.0%25%3B%20height%3A%20100.0%25%3B%22%3ELos%20M%C3%A1rtires%3C/div%3E%60%29%5B0%5D%3B%0A%20%20%20%20%20%20%20%20%20%20%20%20popup_2bf1acb6e44c478b99f74dfc06502821.setContent%28html_c0cac602c8664abea1a2f1610e5a3e5c%29%3B%0A%20%20%20%20%20%20%20%20%0A%0A%20%20%20%20%20%20%20%20circle_marker_be186d01141f4658a7dfefea36bbe516.bindPopup%28popup_2bf1acb6e44c478b99f74dfc06502821%29%0A%20%20%20%20%20%20%20%20%3B%0A%0A%20%20%20%20%20%20%20%20%0A%20%20%20%20%0A%20%20%20%20%0A%20%20%20%20%20%20%20%20%20%20%20%20var%20circle_marker_61b86f81bb364fbeb2f91b8b875acb33%20%3D%20L.circleMarker%28%0A%20%20%20%20%20%20%20%20%20%20%20%20%20%20%20%20%5B4.587130000000059%2C%20-74.09692978299995%5D%2C%0A%20%20%20%20%20%20%20%20%20%20%20%20%20%20%20%20%7B%22bubblingMouseEvents%22%3A%20true%2C%20%22color%22%3A%20%22red%22%2C%20%22dashArray%22%3A%20null%2C%20%22dashOffset%22%3A%20null%2C%20%22fill%22%3A%20true%2C%20%22fillColor%22%3A%20%22red%22%2C%20%22fillOpacity%22%3A%200.2%2C%20%22fillRule%22%3A%20%22evenodd%22%2C%20%22lineCap%22%3A%20%22round%22%2C%20%22lineJoin%22%3A%20%22round%22%2C%20%22opacity%22%3A%201.0%2C%20%22radius%22%3A%205%2C%20%22stroke%22%3A%20true%2C%20%22weight%22%3A%203%7D%0A%20%20%20%20%20%20%20%20%20%20%20%20%29.addTo%28map_52e0a8e6b60d4d2a8f8f5a3081dfaa16%29%3B%0A%20%20%20%20%20%20%20%20%0A%20%20%20%20%0A%20%20%20%20%20%20%20%20var%20popup_ccc67789f9614940bd5256508a85efb6%20%3D%20L.popup%28%7B%22maxWidth%22%3A%20%22100%25%22%7D%29%3B%0A%0A%20%20%20%20%20%20%20%20%0A%20%20%20%20%20%20%20%20%20%20%20%20var%20html_16e209098dc64611aa72e50bf55b1772%20%3D%20%24%28%60%3Cdiv%20id%3D%22html_16e209098dc64611aa72e50bf55b1772%22%20style%3D%22width%3A%20100.0%25%3B%20height%3A%20100.0%25%3B%22%3EAntonio%20Nari%C3%B1o%3C/div%3E%60%29%5B0%5D%3B%0A%20%20%20%20%20%20%20%20%20%20%20%20popup_ccc67789f9614940bd5256508a85efb6.setContent%28html_16e209098dc64611aa72e50bf55b1772%29%3B%0A%20%20%20%20%20%20%20%20%0A%0A%20%20%20%20%20%20%20%20circle_marker_61b86f81bb364fbeb2f91b8b875acb33.bindPopup%28popup_ccc67789f9614940bd5256508a85efb6%29%0A%20%20%20%20%20%20%20%20%3B%0A%0A%20%20%20%20%20%20%20%20%0A%20%20%20%20%0A%20%20%20%20%0A%20%20%20%20%20%20%20%20%20%20%20%20var%20circle_marker_def878727ae341b889fabbe6b6edd9d2%20%3D%20L.circleMarker%28%0A%20%20%20%20%20%20%20%20%20%20%20%20%20%20%20%20%5B4.624250000000075%2C%20-74.10372384099998%5D%2C%0A%20%20%20%20%20%20%20%20%20%20%20%20%20%20%20%20%7B%22bubblingMouseEvents%22%3A%20true%2C%20%22color%22%3A%20%22red%22%2C%20%22dashArray%22%3A%20null%2C%20%22dashOffset%22%3A%20null%2C%20%22fill%22%3A%20true%2C%20%22fillColor%22%3A%20%22red%22%2C%20%22fillOpacity%22%3A%200.2%2C%20%22fillRule%22%3A%20%22evenodd%22%2C%20%22lineCap%22%3A%20%22round%22%2C%20%22lineJoin%22%3A%20%22round%22%2C%20%22opacity%22%3A%201.0%2C%20%22radius%22%3A%205%2C%20%22stroke%22%3A%20true%2C%20%22weight%22%3A%203%7D%0A%20%20%20%20%20%20%20%20%20%20%20%20%29.addTo%28map_52e0a8e6b60d4d2a8f8f5a3081dfaa16%29%3B%0A%20%20%20%20%20%20%20%20%0A%20%20%20%20%0A%20%20%20%20%20%20%20%20var%20popup_b6785cc36fb8463e976bdbbc3b0f5540%20%3D%20L.popup%28%7B%22maxWidth%22%3A%20%22100%25%22%7D%29%3B%0A%0A%20%20%20%20%20%20%20%20%0A%20%20%20%20%20%20%20%20%20%20%20%20var%20html_b5ccdfb6a69845e3b361a25b21be69f0%20%3D%20%24%28%60%3Cdiv%20id%3D%22html_b5ccdfb6a69845e3b361a25b21be69f0%22%20style%3D%22width%3A%20100.0%25%3B%20height%3A%20100.0%25%3B%22%3EPuente%20Aranda%3C/div%3E%60%29%5B0%5D%3B%0A%20%20%20%20%20%20%20%20%20%20%20%20popup_b6785cc36fb8463e976bdbbc3b0f5540.setContent%28html_b5ccdfb6a69845e3b361a25b21be69f0%29%3B%0A%20%20%20%20%20%20%20%20%0A%0A%20%20%20%20%20%20%20%20circle_marker_def878727ae341b889fabbe6b6edd9d2.bindPopup%28popup_b6785cc36fb8463e976bdbbc3b0f5540%29%0A%20%20%20%20%20%20%20%20%3B%0A%0A%20%20%20%20%20%20%20%20%0A%20%20%20%20%0A%20%20%20%20%0A%20%20%20%20%20%20%20%20%20%20%20%20var%20circle_marker_a0d5227d6853471e9d42e2c96558001f%20%3D%20L.circleMarker%28%0A%20%20%20%20%20%20%20%20%20%20%20%20%20%20%20%20%5B4.599095000000034%2C%20-74.07197925799994%5D%2C%0A%20%20%20%20%20%20%20%20%20%20%20%20%20%20%20%20%7B%22bubblingMouseEvents%22%3A%20true%2C%20%22color%22%3A%20%22red%22%2C%20%22dashArray%22%3A%20null%2C%20%22dashOffset%22%3A%20null%2C%20%22fill%22%3A%20true%2C%20%22fillColor%22%3A%20%22red%22%2C%20%22fillOpacity%22%3A%200.2%2C%20%22fillRule%22%3A%20%22evenodd%22%2C%20%22lineCap%22%3A%20%22round%22%2C%20%22lineJoin%22%3A%20%22round%22%2C%20%22opacity%22%3A%201.0%2C%20%22radius%22%3A%205%2C%20%22stroke%22%3A%20true%2C%20%22weight%22%3A%203%7D%0A%20%20%20%20%20%20%20%20%20%20%20%20%29.addTo%28map_52e0a8e6b60d4d2a8f8f5a3081dfaa16%29%3B%0A%20%20%20%20%20%20%20%20%0A%20%20%20%20%0A%20%20%20%20%20%20%20%20var%20popup_1226638694cc4230893f5af40b5a28ab%20%3D%20L.popup%28%7B%22maxWidth%22%3A%20%22100%25%22%7D%29%3B%0A%0A%20%20%20%20%20%20%20%20%0A%20%20%20%20%20%20%20%20%20%20%20%20var%20html_4b3d0c50c52049718fe5f4105124b6d1%20%3D%20%24%28%60%3Cdiv%20id%3D%22html_4b3d0c50c52049718fe5f4105124b6d1%22%20style%3D%22width%3A%20100.0%25%3B%20height%3A%20100.0%25%3B%22%3ELa%20Candelaria%3C/div%3E%60%29%5B0%5D%3B%0A%20%20%20%20%20%20%20%20%20%20%20%20popup_1226638694cc4230893f5af40b5a28ab.setContent%28html_4b3d0c50c52049718fe5f4105124b6d1%29%3B%0A%20%20%20%20%20%20%20%20%0A%0A%20%20%20%20%20%20%20%20circle_marker_a0d5227d6853471e9d42e2c96558001f.bindPopup%28popup_1226638694cc4230893f5af40b5a28ab%29%0A%20%20%20%20%20%20%20%20%3B%0A%0A%20%20%20%20%20%20%20%20%0A%20%20%20%20%0A%20%20%20%20%0A%20%20%20%20%20%20%20%20%20%20%20%20var%20circle_marker_6b43d24b6e7848f2a9f0d46c22060c2b%20%3D%20L.circleMarker%28%0A%20%20%20%20%20%20%20%20%20%20%20%20%20%20%20%20%5B4.5797300000000405%2C%20-74.11682462899995%5D%2C%0A%20%20%20%20%20%20%20%20%20%20%20%20%20%20%20%20%7B%22bubblingMouseEvents%22%3A%20true%2C%20%22color%22%3A%20%22red%22%2C%20%22dashArray%22%3A%20null%2C%20%22dashOffset%22%3A%20null%2C%20%22fill%22%3A%20true%2C%20%22fillColor%22%3A%20%22red%22%2C%20%22fillOpacity%22%3A%200.2%2C%20%22fillRule%22%3A%20%22evenodd%22%2C%20%22lineCap%22%3A%20%22round%22%2C%20%22lineJoin%22%3A%20%22round%22%2C%20%22opacity%22%3A%201.0%2C%20%22radius%22%3A%205%2C%20%22stroke%22%3A%20true%2C%20%22weight%22%3A%203%7D%0A%20%20%20%20%20%20%20%20%20%20%20%20%29.addTo%28map_52e0a8e6b60d4d2a8f8f5a3081dfaa16%29%3B%0A%20%20%20%20%20%20%20%20%0A%20%20%20%20%0A%20%20%20%20%20%20%20%20var%20popup_78045a9b5fcb4a7f8c1fb1a37f2fc6c6%20%3D%20L.popup%28%7B%22maxWidth%22%3A%20%22100%25%22%7D%29%3B%0A%0A%20%20%20%20%20%20%20%20%0A%20%20%20%20%20%20%20%20%20%20%20%20var%20html_04a9bb0899354220ad11db4d82f5fd89%20%3D%20%24%28%60%3Cdiv%20id%3D%22html_04a9bb0899354220ad11db4d82f5fd89%22%20style%3D%22width%3A%20100.0%25%3B%20height%3A%20100.0%25%3B%22%3ERafael%20Uribe%20Uribe%3C/div%3E%60%29%5B0%5D%3B%0A%20%20%20%20%20%20%20%20%20%20%20%20popup_78045a9b5fcb4a7f8c1fb1a37f2fc6c6.setContent%28html_04a9bb0899354220ad11db4d82f5fd89%29%3B%0A%20%20%20%20%20%20%20%20%0A%0A%20%20%20%20%20%20%20%20circle_marker_6b43d24b6e7848f2a9f0d46c22060c2b.bindPopup%28popup_78045a9b5fcb4a7f8c1fb1a37f2fc6c6%29%0A%20%20%20%20%20%20%20%20%3B%0A%0A%20%20%20%20%20%20%20%20%0A%20%20%20%20%0A%20%20%20%20%0A%20%20%20%20%20%20%20%20%20%20%20%20var%20circle_marker_a7ad50ca12d141398821ced171ae1fe9%20%3D%20L.circleMarker%28%0A%20%20%20%20%20%20%20%20%20%20%20%20%20%20%20%20%5B4.577027933000068%2C%20-74.15146499999997%5D%2C%0A%20%20%20%20%20%20%20%20%20%20%20%20%20%20%20%20%7B%22bubblingMouseEvents%22%3A%20true%2C%20%22color%22%3A%20%22red%22%2C%20%22dashArray%22%3A%20null%2C%20%22dashOffset%22%3A%20null%2C%20%22fill%22%3A%20true%2C%20%22fillColor%22%3A%20%22red%22%2C%20%22fillOpacity%22%3A%200.2%2C%20%22fillRule%22%3A%20%22evenodd%22%2C%20%22lineCap%22%3A%20%22round%22%2C%20%22lineJoin%22%3A%20%22round%22%2C%20%22opacity%22%3A%201.0%2C%20%22radius%22%3A%205%2C%20%22stroke%22%3A%20true%2C%20%22weight%22%3A%203%7D%0A%20%20%20%20%20%20%20%20%20%20%20%20%29.addTo%28map_52e0a8e6b60d4d2a8f8f5a3081dfaa16%29%3B%0A%20%20%20%20%20%20%20%20%0A%20%20%20%20%0A%20%20%20%20%20%20%20%20var%20popup_a5b33ff915ec4ec7a9a80ee52dbceaca%20%3D%20L.popup%28%7B%22maxWidth%22%3A%20%22100%25%22%7D%29%3B%0A%0A%20%20%20%20%20%20%20%20%0A%20%20%20%20%20%20%20%20%20%20%20%20var%20html_5ce933b8a2e2499288f18b70397c642f%20%3D%20%24%28%60%3Cdiv%20id%3D%22html_5ce933b8a2e2499288f18b70397c642f%22%20style%3D%22width%3A%20100.0%25%3B%20height%3A%20100.0%25%3B%22%3ECiudad%20Bol%C3%ADvar%3C/div%3E%60%29%5B0%5D%3B%0A%20%20%20%20%20%20%20%20%20%20%20%20popup_a5b33ff915ec4ec7a9a80ee52dbceaca.setContent%28html_5ce933b8a2e2499288f18b70397c642f%29%3B%0A%20%20%20%20%20%20%20%20%0A%0A%20%20%20%20%20%20%20%20circle_marker_a7ad50ca12d141398821ced171ae1fe9.bindPopup%28popup_a5b33ff915ec4ec7a9a80ee52dbceaca%29%0A%20%20%20%20%20%20%20%20%3B%0A%0A%20%20%20%20%20%20%20%20%0A%20%20%20%20%0A%20%20%20%20%0A%20%20%20%20%20%20%20%20%20%20%20%20var%20circle_marker_7cc5a5eb403645db853b58442f61275d%20%3D%20L.circleMarker%28%0A%20%20%20%20%20%20%20%20%20%20%20%20%20%20%20%20%5B4.223149782000064%2C%20-74.18503057699996%5D%2C%0A%20%20%20%20%20%20%20%20%20%20%20%20%20%20%20%20%7B%22bubblingMouseEvents%22%3A%20true%2C%20%22color%22%3A%20%22red%22%2C%20%22dashArray%22%3A%20null%2C%20%22dashOffset%22%3A%20null%2C%20%22fill%22%3A%20true%2C%20%22fillColor%22%3A%20%22red%22%2C%20%22fillOpacity%22%3A%200.2%2C%20%22fillRule%22%3A%20%22evenodd%22%2C%20%22lineCap%22%3A%20%22round%22%2C%20%22lineJoin%22%3A%20%22round%22%2C%20%22opacity%22%3A%201.0%2C%20%22radius%22%3A%205%2C%20%22stroke%22%3A%20true%2C%20%22weight%22%3A%203%7D%0A%20%20%20%20%20%20%20%20%20%20%20%20%29.addTo%28map_52e0a8e6b60d4d2a8f8f5a3081dfaa16%29%3B%0A%20%20%20%20%20%20%20%20%0A%20%20%20%20%0A%20%20%20%20%20%20%20%20var%20popup_ff8affdfd1284f9998fe6d9e83ff7357%20%3D%20L.popup%28%7B%22maxWidth%22%3A%20%22100%25%22%7D%29%3B%0A%0A%20%20%20%20%20%20%20%20%0A%20%20%20%20%20%20%20%20%20%20%20%20var%20html_a9070bde458c48c9b70f745c5c53915e%20%3D%20%24%28%60%3Cdiv%20id%3D%22html_a9070bde458c48c9b70f745c5c53915e%22%20style%3D%22width%3A%20100.0%25%3B%20height%3A%20100.0%25%3B%22%3ESumapaz%3C/div%3E%60%29%5B0%5D%3B%0A%20%20%20%20%20%20%20%20%20%20%20%20popup_ff8affdfd1284f9998fe6d9e83ff7357.setContent%28html_a9070bde458c48c9b70f745c5c53915e%29%3B%0A%20%20%20%20%20%20%20%20%0A%0A%20%20%20%20%20%20%20%20circle_marker_7cc5a5eb403645db853b58442f61275d.bindPopup%28popup_ff8affdfd1284f9998fe6d9e83ff7357%29%0A%20%20%20%20%20%20%20%20%3B%0A%0A%20%20%20%20%20%20%20%20%0A%20%20%20%20%0A%3C/script%3E onload=\"this.contentDocument.open();this.contentDocument.write(    decodeURIComponent(this.getAttribute('data-html')));this.contentDocument.close();\" allowfullscreen webkitallowfullscreen mozallowfullscreen></iframe></div></div>"
                    },
                    "metadata": {}
                }
            ]
        },
        {
            "metadata": {
                "id": "tcKxngW_BuEG",
                "colab_type": "text"
            },
            "cell_type": "markdown",
            "source": "### Venues in Bogota"
        },
        {
            "metadata": {
                "id": "eamBBk_l4S3R",
                "colab_type": "code",
                "colab": {},
                "executionInfo": {
                    "status": "ok",
                    "timestamp": 1597724393070,
                    "user_tz": -330,
                    "elapsed": 1435,
                    "user": {
                        "displayName": "Thomas George Thomas",
                        "photoUrl": "https://lh3.googleusercontent.com/a-/AOh14GhRjmtno5yCmJOUjYiFNGHi_xP5YZBJ1ZpWGKsZ=s64",
                        "userId": "09561174857978505545"
                    }
                }
            },
            "cell_type": "code",
            "source": "CLIENT_ID = 'FADCITXW01LZDVD3MM4UIIKXDT51PBNUTYRMVS3TO0RL3PQE' \nCLIENT_SECRET = 'XEJWEUHARX20SHWMVOZM2NVXBWATPN5BXNRJLNZPCAK4U4KD'\nVERSION = '20180605' # Foursquare API version",
            "execution_count": 23,
            "outputs": []
        },
        {
            "metadata": {
                "id": "xD096Lmt4gyd",
                "colab_type": "code",
                "colab": {},
                "executionInfo": {
                    "status": "ok",
                    "timestamp": 1597726123089,
                    "user_tz": -330,
                    "elapsed": 1114,
                    "user": {
                        "displayName": "Thomas George Thomas",
                        "photoUrl": "https://lh3.googleusercontent.com/a-/AOh14GhRjmtno5yCmJOUjYiFNGHi_xP5YZBJ1ZpWGKsZ=s64",
                        "userId": "09561174857978505545"
                    }
                }
            },
            "cell_type": "code",
            "source": "LIMIT=100\n\ndef getVenues(names, latitudes, longitudes, radius=500):\n    \n    venues_list=[]\n    for name, lat, lng in zip(names, latitudes, longitudes):\n        print(name)\n            \n        # create the API request URL\n        url = 'https://api.foursquare.com/v2/venues/explore?&client_id={}&client_secret={}&v={}&ll={},{}&radius={}&limit={}'.format(\n            CLIENT_ID, \n            CLIENT_SECRET, \n            VERSION, \n            lat, \n            lng, \n            radius,\n            LIMIT\n            )\n            \n        # make the GET request\n        results = requests.get(url).json()[\"response\"]['groups'][0]['items']\n        \n        # return only relevant information for each nearby venue\n        venues_list.append([(\n            name, \n            lat, \n            lng, \n            v['venue']['name'], \n            v['venue']['categories'][0]['name']) for v in results])\n\n    venues = pd.DataFrame([item for venue_list in venues_list for item in venue_list])\n    venues.columns = ['Localities', \n                  'Latitude', \n                  'Longitude', \n                  'Venue', \n                  'Venue Category']\n    \n    return(venues)",
            "execution_count": 24,
            "outputs": []
        },
        {
            "metadata": {
                "id": "eWpYH9fMHDwF",
                "colab_type": "text"
            },
            "cell_type": "markdown",
            "source": "Getting the venues in Bogota"
        },
        {
            "metadata": {
                "id": "HuvqArTbGrTC",
                "colab_type": "code",
                "colab": {
                    "base_uri": "https://localhost:8080/",
                    "height": 1000
                },
                "executionInfo": {
                    "status": "ok",
                    "timestamp": 1597726342090,
                    "user_tz": -330,
                    "elapsed": 136742,
                    "user": {
                        "displayName": "Thomas George Thomas",
                        "photoUrl": "https://lh3.googleusercontent.com/a-/AOh14GhRjmtno5yCmJOUjYiFNGHi_xP5YZBJ1ZpWGKsZ=s64",
                        "userId": "09561174857978505545"
                    }
                },
                "outputId": "474a8938-d650-452f-f5be-c29287a1f4d1"
            },
            "cell_type": "code",
            "source": "venues_bogota = getVenues(bogota['town'], bogota['latitude'], bogota['longitude'])",
            "execution_count": 25,
            "outputs": [
                {
                    "output_type": "stream",
                    "text": "Usaqu\u00e9n\nChapinero\nSanta Fe\nSan Crist\u00f3bal\nUsme\nTunjuelito\nBosa\nKennedy\nFontib\u00f3n\nEngativ\u00e1\nSuba\nBarrios Unidos\nTeusaquillo\nLos M\u00e1rtires\nAntonio Nari\u00f1o\nPuente Aranda\nLa Candelaria\nRafael Uribe Uribe\nCiudad Bol\u00edvar\nSumapaz\n",
                    "name": "stdout"
                }
            ]
        },
        {
            "metadata": {
                "id": "dqgUl-l7Hwl2",
                "colab_type": "code",
                "colab": {
                    "base_uri": "https://localhost:8080/",
                    "height": 204
                },
                "executionInfo": {
                    "status": "ok",
                    "timestamp": 1597726412333,
                    "user_tz": -330,
                    "elapsed": 886,
                    "user": {
                        "displayName": "Thomas George Thomas",
                        "photoUrl": "https://lh3.googleusercontent.com/a-/AOh14GhRjmtno5yCmJOUjYiFNGHi_xP5YZBJ1ZpWGKsZ=s64",
                        "userId": "09561174857978505545"
                    }
                },
                "outputId": "72827337-f22d-4883-8908-d2140824878f"
            },
            "cell_type": "code",
            "source": "venues_bogota.head()",
            "execution_count": 26,
            "outputs": [
                {
                    "output_type": "execute_result",
                    "execution_count": 26,
                    "data": {
                        "text/plain": "  Localities  Latitude  Longitude                                      Venue  \\\n0    Usaqu\u00e9n     4.691 -74.033448  Hotel NH Collection Bogot\u00e1 Hacienda Royal   \n1    Usaqu\u00e9n     4.691 -74.033448                           Juan Vald\u00e9z Caf\u00e9   \n2    Usaqu\u00e9n     4.691 -74.033448                  Parque Publico Usaqu\u00e9n II   \n3    Usaqu\u00e9n     4.691 -74.033448                             W Bogot\u00e1 Hotel   \n4    Usaqu\u00e9n     4.691 -74.033448                          Bodytech Hacienda   \n\n   Venue Category  \n0           Hotel  \n1     Coffee Shop  \n2         Dog Run  \n3           Hotel  \n4  Gymnastics Gym  ",
                        "text/html": "<div>\n<style scoped>\n    .dataframe tbody tr th:only-of-type {\n        vertical-align: middle;\n    }\n\n    .dataframe tbody tr th {\n        vertical-align: top;\n    }\n\n    .dataframe thead th {\n        text-align: right;\n    }\n</style>\n<table border=\"1\" class=\"dataframe\">\n  <thead>\n    <tr style=\"text-align: right;\">\n      <th></th>\n      <th>Localities</th>\n      <th>Latitude</th>\n      <th>Longitude</th>\n      <th>Venue</th>\n      <th>Venue Category</th>\n    </tr>\n  </thead>\n  <tbody>\n    <tr>\n      <th>0</th>\n      <td>Usaqu\u00e9n</td>\n      <td>4.691</td>\n      <td>-74.033448</td>\n      <td>Hotel NH Collection Bogot\u00e1 Hacienda Royal</td>\n      <td>Hotel</td>\n    </tr>\n    <tr>\n      <th>1</th>\n      <td>Usaqu\u00e9n</td>\n      <td>4.691</td>\n      <td>-74.033448</td>\n      <td>Juan Vald\u00e9z Caf\u00e9</td>\n      <td>Coffee Shop</td>\n    </tr>\n    <tr>\n      <th>2</th>\n      <td>Usaqu\u00e9n</td>\n      <td>4.691</td>\n      <td>-74.033448</td>\n      <td>Parque Publico Usaqu\u00e9n II</td>\n      <td>Dog Run</td>\n    </tr>\n    <tr>\n      <th>3</th>\n      <td>Usaqu\u00e9n</td>\n      <td>4.691</td>\n      <td>-74.033448</td>\n      <td>W Bogot\u00e1 Hotel</td>\n      <td>Hotel</td>\n    </tr>\n    <tr>\n      <th>4</th>\n      <td>Usaqu\u00e9n</td>\n      <td>4.691</td>\n      <td>-74.033448</td>\n      <td>Bodytech Hacienda</td>\n      <td>Gymnastics Gym</td>\n    </tr>\n  </tbody>\n</table>\n</div>"
                    },
                    "metadata": {}
                }
            ]
        },
        {
            "metadata": {},
            "cell_type": "code",
            "source": "venues_bogota.shape",
            "execution_count": 27,
            "outputs": [
                {
                    "output_type": "execute_result",
                    "execution_count": 27,
                    "data": {
                        "text/plain": "(248, 5)"
                    },
                    "metadata": {}
                }
            ]
        },
        {
            "metadata": {},
            "cell_type": "markdown",
            "source": "We have 248 results."
        },
        {
            "metadata": {
                "id": "Wo9iDUvQEDBO",
                "colab_type": "text"
            },
            "cell_type": "markdown",
            "source": "### Grouping by Venue Categories"
        },
        {
            "metadata": {
                "id": "l7C-eb6QH5rT",
                "colab_type": "code",
                "colab": {
                    "base_uri": "https://localhost:8080/",
                    "height": 569
                },
                "executionInfo": {
                    "status": "ok",
                    "timestamp": 1597726437144,
                    "user_tz": -330,
                    "elapsed": 923,
                    "user": {
                        "displayName": "Thomas George Thomas",
                        "photoUrl": "https://lh3.googleusercontent.com/a-/AOh14GhRjmtno5yCmJOUjYiFNGHi_xP5YZBJ1ZpWGKsZ=s64",
                        "userId": "09561174857978505545"
                    }
                },
                "outputId": "d4ad63f8-6e11-4274-f8fb-796b8f2632d8"
            },
            "cell_type": "code",
            "source": "venues_bogota.groupby('Venue Category').max()",
            "execution_count": 28,
            "outputs": [
                {
                    "output_type": "execute_result",
                    "execution_count": 28,
                    "data": {
                        "text/plain": "                                  Localities  Latitude  Longitude  \\\nVenue Category                                                      \nAirport                             Fontib\u00f3n  4.695895 -74.144576   \nAirport Lounge                      Fontib\u00f3n  4.695895 -74.144576   \nAirport Service                     Fontib\u00f3n  4.695895 -74.144576   \nAirport Terminal                    Fontib\u00f3n  4.695895 -74.144576   \nArcade                         La Candelaria  4.599095 -74.071979   \n...                                      ...       ...        ...   \nSushi Restaurant                     Usaqu\u00e9n  4.691000 -74.033448   \nTheater                        La Candelaria  4.599095 -74.071979   \nTheme Restaurant                    Fontib\u00f3n  4.695895 -74.144576   \nToy / Game Store                    Engativ\u00e1  4.724539 -74.115505   \nVegetarian / Vegan Restaurant  La Candelaria  4.599095 -74.071979   \n\n                                                                           Venue  \nVenue Category                                                                    \nAirport                        Aeropuerto Internacional El Dorado (BOG) (Aero...  \nAirport Lounge                                                    Sala VIP LATAM  \nAirport Service                               International Connections Security  \nAirport Terminal                                                         Gate 92  \nArcade                                                              Teatro Odeon  \n...                                                                          ...  \nSushi Restaurant                                                Sushisan Usaqu\u00e9n  \nTheater                                                             Teatro Col\u00f3n  \nTheme Restaurant                                                 Andr\u00e9s Paradero  \nToy / Game Store                                               Pepe Ganga Outlet  \nVegetarian / Vegan Restaurant                                  Quinua y Amaranto  \n\n[96 rows x 4 columns]",
                        "text/html": "<div>\n<style scoped>\n    .dataframe tbody tr th:only-of-type {\n        vertical-align: middle;\n    }\n\n    .dataframe tbody tr th {\n        vertical-align: top;\n    }\n\n    .dataframe thead th {\n        text-align: right;\n    }\n</style>\n<table border=\"1\" class=\"dataframe\">\n  <thead>\n    <tr style=\"text-align: right;\">\n      <th></th>\n      <th>Localities</th>\n      <th>Latitude</th>\n      <th>Longitude</th>\n      <th>Venue</th>\n    </tr>\n    <tr>\n      <th>Venue Category</th>\n      <th></th>\n      <th></th>\n      <th></th>\n      <th></th>\n    </tr>\n  </thead>\n  <tbody>\n    <tr>\n      <th>Airport</th>\n      <td>Fontib\u00f3n</td>\n      <td>4.695895</td>\n      <td>-74.144576</td>\n      <td>Aeropuerto Internacional El Dorado (BOG) (Aero...</td>\n    </tr>\n    <tr>\n      <th>Airport Lounge</th>\n      <td>Fontib\u00f3n</td>\n      <td>4.695895</td>\n      <td>-74.144576</td>\n      <td>Sala VIP LATAM</td>\n    </tr>\n    <tr>\n      <th>Airport Service</th>\n      <td>Fontib\u00f3n</td>\n      <td>4.695895</td>\n      <td>-74.144576</td>\n      <td>International Connections Security</td>\n    </tr>\n    <tr>\n      <th>Airport Terminal</th>\n      <td>Fontib\u00f3n</td>\n      <td>4.695895</td>\n      <td>-74.144576</td>\n      <td>Gate 92</td>\n    </tr>\n    <tr>\n      <th>Arcade</th>\n      <td>La Candelaria</td>\n      <td>4.599095</td>\n      <td>-74.071979</td>\n      <td>Teatro Odeon</td>\n    </tr>\n    <tr>\n      <th>...</th>\n      <td>...</td>\n      <td>...</td>\n      <td>...</td>\n      <td>...</td>\n    </tr>\n    <tr>\n      <th>Sushi Restaurant</th>\n      <td>Usaqu\u00e9n</td>\n      <td>4.691000</td>\n      <td>-74.033448</td>\n      <td>Sushisan Usaqu\u00e9n</td>\n    </tr>\n    <tr>\n      <th>Theater</th>\n      <td>La Candelaria</td>\n      <td>4.599095</td>\n      <td>-74.071979</td>\n      <td>Teatro Col\u00f3n</td>\n    </tr>\n    <tr>\n      <th>Theme Restaurant</th>\n      <td>Fontib\u00f3n</td>\n      <td>4.695895</td>\n      <td>-74.144576</td>\n      <td>Andr\u00e9s Paradero</td>\n    </tr>\n    <tr>\n      <th>Toy / Game Store</th>\n      <td>Engativ\u00e1</td>\n      <td>4.724539</td>\n      <td>-74.115505</td>\n      <td>Pepe Ganga Outlet</td>\n    </tr>\n    <tr>\n      <th>Vegetarian / Vegan Restaurant</th>\n      <td>La Candelaria</td>\n      <td>4.599095</td>\n      <td>-74.071979</td>\n      <td>Quinua y Amaranto</td>\n    </tr>\n  </tbody>\n</table>\n<p>96 rows \u00d7 4 columns</p>\n</div>"
                    },
                    "metadata": {}
                }
            ]
        },
        {
            "metadata": {
                "id": "R9Ey4DrVIyZO",
                "colab_type": "text"
            },
            "cell_type": "markdown",
            "source": "### One Hot Encoding "
        },
        {
            "metadata": {
                "id": "vbxYMxCuImr-",
                "colab_type": "code",
                "colab": {
                    "base_uri": "https://localhost:8080/",
                    "height": 490
                },
                "executionInfo": {
                    "status": "ok",
                    "timestamp": 1597726455086,
                    "user_tz": -330,
                    "elapsed": 908,
                    "user": {
                        "displayName": "Thomas George Thomas",
                        "photoUrl": "https://lh3.googleusercontent.com/a-/AOh14GhRjmtno5yCmJOUjYiFNGHi_xP5YZBJ1ZpWGKsZ=s64",
                        "userId": "09561174857978505545"
                    }
                },
                "outputId": "23a7c858-e7ab-4be3-8215-bf49fa5c12f9"
            },
            "cell_type": "code",
            "source": "bogota_ohe = pd.get_dummies(venues_bogota[['Venue Category']], prefix=\"\", prefix_sep=\"\")\nbogota_ohe",
            "execution_count": 29,
            "outputs": [
                {
                    "output_type": "execute_result",
                    "execution_count": 29,
                    "data": {
                        "text/plain": "     Airport  Airport Lounge  Airport Service  Airport Terminal  Arcade  \\\n0          0               0                0                 0       0   \n1          0               0                0                 0       0   \n2          0               0                0                 0       0   \n3          0               0                0                 0       0   \n4          0               0                0                 0       0   \n..       ...             ...              ...               ...     ...   \n243        0               0                0                 0       0   \n244        0               0                0                 0       0   \n245        0               0                0                 0       0   \n246        0               0                0                 0       0   \n247        0               0                0                 0       0   \n\n     Argentinian Restaurant  Art Museum  Asian Restaurant  Auto Garage  \\\n0                         0           0                 0            0   \n1                         0           0                 0            0   \n2                         0           0                 0            0   \n3                         0           0                 0            0   \n4                         0           0                 0            0   \n..                      ...         ...               ...          ...   \n243                       0           0                 0            0   \n244                       0           0                 0            0   \n245                       0           0                 0            0   \n246                       0           0                 0            0   \n247                       0           0                 0            1   \n\n     BBQ Joint  ...  Shop & Service  Shopping Mall  Snack Place  \\\n0            0  ...               0              0            0   \n1            0  ...               0              0            0   \n2            0  ...               0              0            0   \n3            0  ...               0              0            0   \n4            0  ...               0              0            0   \n..         ...  ...             ...            ...          ...   \n243          0  ...               0              0            0   \n244          0  ...               0              0            0   \n245          0  ...               0              0            0   \n246          0  ...               0              0            0   \n247          0  ...               0              0            0   \n\n     South American Restaurant  Steakhouse  Sushi Restaurant  Theater  \\\n0                            0           0                 0        0   \n1                            0           0                 0        0   \n2                            0           0                 0        0   \n3                            0           0                 0        0   \n4                            0           0                 0        0   \n..                         ...         ...               ...      ...   \n243                          0           0                 0        0   \n244                          0           0                 0        0   \n245                          0           0                 0        0   \n246                          0           0                 0        0   \n247                          0           0                 0        0   \n\n     Theme Restaurant  Toy / Game Store  Vegetarian / Vegan Restaurant  \n0                   0                 0                              0  \n1                   0                 0                              0  \n2                   0                 0                              0  \n3                   0                 0                              0  \n4                   0                 0                              0  \n..                ...               ...                            ...  \n243                 0                 0                              0  \n244                 0                 0                              0  \n245                 0                 0                              0  \n246                 0                 0                              0  \n247                 0                 0                              0  \n\n[248 rows x 96 columns]",
                        "text/html": "<div>\n<style scoped>\n    .dataframe tbody tr th:only-of-type {\n        vertical-align: middle;\n    }\n\n    .dataframe tbody tr th {\n        vertical-align: top;\n    }\n\n    .dataframe thead th {\n        text-align: right;\n    }\n</style>\n<table border=\"1\" class=\"dataframe\">\n  <thead>\n    <tr style=\"text-align: right;\">\n      <th></th>\n      <th>Airport</th>\n      <th>Airport Lounge</th>\n      <th>Airport Service</th>\n      <th>Airport Terminal</th>\n      <th>Arcade</th>\n      <th>Argentinian Restaurant</th>\n      <th>Art Museum</th>\n      <th>Asian Restaurant</th>\n      <th>Auto Garage</th>\n      <th>BBQ Joint</th>\n      <th>...</th>\n      <th>Shop &amp; Service</th>\n      <th>Shopping Mall</th>\n      <th>Snack Place</th>\n      <th>South American Restaurant</th>\n      <th>Steakhouse</th>\n      <th>Sushi Restaurant</th>\n      <th>Theater</th>\n      <th>Theme Restaurant</th>\n      <th>Toy / Game Store</th>\n      <th>Vegetarian / Vegan Restaurant</th>\n    </tr>\n  </thead>\n  <tbody>\n    <tr>\n      <th>0</th>\n      <td>0</td>\n      <td>0</td>\n      <td>0</td>\n      <td>0</td>\n      <td>0</td>\n      <td>0</td>\n      <td>0</td>\n      <td>0</td>\n      <td>0</td>\n      <td>0</td>\n      <td>...</td>\n      <td>0</td>\n      <td>0</td>\n      <td>0</td>\n      <td>0</td>\n      <td>0</td>\n      <td>0</td>\n      <td>0</td>\n      <td>0</td>\n      <td>0</td>\n      <td>0</td>\n    </tr>\n    <tr>\n      <th>1</th>\n      <td>0</td>\n      <td>0</td>\n      <td>0</td>\n      <td>0</td>\n      <td>0</td>\n      <td>0</td>\n      <td>0</td>\n      <td>0</td>\n      <td>0</td>\n      <td>0</td>\n      <td>...</td>\n      <td>0</td>\n      <td>0</td>\n      <td>0</td>\n      <td>0</td>\n      <td>0</td>\n      <td>0</td>\n      <td>0</td>\n      <td>0</td>\n      <td>0</td>\n      <td>0</td>\n    </tr>\n    <tr>\n      <th>2</th>\n      <td>0</td>\n      <td>0</td>\n      <td>0</td>\n      <td>0</td>\n      <td>0</td>\n      <td>0</td>\n      <td>0</td>\n      <td>0</td>\n      <td>0</td>\n      <td>0</td>\n      <td>...</td>\n      <td>0</td>\n      <td>0</td>\n      <td>0</td>\n      <td>0</td>\n      <td>0</td>\n      <td>0</td>\n      <td>0</td>\n      <td>0</td>\n      <td>0</td>\n      <td>0</td>\n    </tr>\n    <tr>\n      <th>3</th>\n      <td>0</td>\n      <td>0</td>\n      <td>0</td>\n      <td>0</td>\n      <td>0</td>\n      <td>0</td>\n      <td>0</td>\n      <td>0</td>\n      <td>0</td>\n      <td>0</td>\n      <td>...</td>\n      <td>0</td>\n      <td>0</td>\n      <td>0</td>\n      <td>0</td>\n      <td>0</td>\n      <td>0</td>\n      <td>0</td>\n      <td>0</td>\n      <td>0</td>\n      <td>0</td>\n    </tr>\n    <tr>\n      <th>4</th>\n      <td>0</td>\n      <td>0</td>\n      <td>0</td>\n      <td>0</td>\n      <td>0</td>\n      <td>0</td>\n      <td>0</td>\n      <td>0</td>\n      <td>0</td>\n      <td>0</td>\n      <td>...</td>\n      <td>0</td>\n      <td>0</td>\n      <td>0</td>\n      <td>0</td>\n      <td>0</td>\n      <td>0</td>\n      <td>0</td>\n      <td>0</td>\n      <td>0</td>\n      <td>0</td>\n    </tr>\n    <tr>\n      <th>...</th>\n      <td>...</td>\n      <td>...</td>\n      <td>...</td>\n      <td>...</td>\n      <td>...</td>\n      <td>...</td>\n      <td>...</td>\n      <td>...</td>\n      <td>...</td>\n      <td>...</td>\n      <td>...</td>\n      <td>...</td>\n      <td>...</td>\n      <td>...</td>\n      <td>...</td>\n      <td>...</td>\n      <td>...</td>\n      <td>...</td>\n      <td>...</td>\n      <td>...</td>\n      <td>...</td>\n    </tr>\n    <tr>\n      <th>243</th>\n      <td>0</td>\n      <td>0</td>\n      <td>0</td>\n      <td>0</td>\n      <td>0</td>\n      <td>0</td>\n      <td>0</td>\n      <td>0</td>\n      <td>0</td>\n      <td>0</td>\n      <td>...</td>\n      <td>0</td>\n      <td>0</td>\n      <td>0</td>\n      <td>0</td>\n      <td>0</td>\n      <td>0</td>\n      <td>0</td>\n      <td>0</td>\n      <td>0</td>\n      <td>0</td>\n    </tr>\n    <tr>\n      <th>244</th>\n      <td>0</td>\n      <td>0</td>\n      <td>0</td>\n      <td>0</td>\n      <td>0</td>\n      <td>0</td>\n      <td>0</td>\n      <td>0</td>\n      <td>0</td>\n      <td>0</td>\n      <td>...</td>\n      <td>0</td>\n      <td>0</td>\n      <td>0</td>\n      <td>0</td>\n      <td>0</td>\n      <td>0</td>\n      <td>0</td>\n      <td>0</td>\n      <td>0</td>\n      <td>0</td>\n    </tr>\n    <tr>\n      <th>245</th>\n      <td>0</td>\n      <td>0</td>\n      <td>0</td>\n      <td>0</td>\n      <td>0</td>\n      <td>0</td>\n      <td>0</td>\n      <td>0</td>\n      <td>0</td>\n      <td>0</td>\n      <td>...</td>\n      <td>0</td>\n      <td>0</td>\n      <td>0</td>\n      <td>0</td>\n      <td>0</td>\n      <td>0</td>\n      <td>0</td>\n      <td>0</td>\n      <td>0</td>\n      <td>0</td>\n    </tr>\n    <tr>\n      <th>246</th>\n      <td>0</td>\n      <td>0</td>\n      <td>0</td>\n      <td>0</td>\n      <td>0</td>\n      <td>0</td>\n      <td>0</td>\n      <td>0</td>\n      <td>0</td>\n      <td>0</td>\n      <td>...</td>\n      <td>0</td>\n      <td>0</td>\n      <td>0</td>\n      <td>0</td>\n      <td>0</td>\n      <td>0</td>\n      <td>0</td>\n      <td>0</td>\n      <td>0</td>\n      <td>0</td>\n    </tr>\n    <tr>\n      <th>247</th>\n      <td>0</td>\n      <td>0</td>\n      <td>0</td>\n      <td>0</td>\n      <td>0</td>\n      <td>0</td>\n      <td>0</td>\n      <td>0</td>\n      <td>1</td>\n      <td>0</td>\n      <td>...</td>\n      <td>0</td>\n      <td>0</td>\n      <td>0</td>\n      <td>0</td>\n      <td>0</td>\n      <td>0</td>\n      <td>0</td>\n      <td>0</td>\n      <td>0</td>\n      <td>0</td>\n    </tr>\n  </tbody>\n</table>\n<p>248 rows \u00d7 96 columns</p>\n</div>"
                    },
                    "metadata": {}
                }
            ]
        },
        {
            "metadata": {
                "id": "JKIDAIdVJKOC",
                "colab_type": "text"
            },
            "cell_type": "markdown",
            "source": "Adding localities into the mix."
        },
        {
            "metadata": {
                "id": "w5rnh3BCJNKQ",
                "colab_type": "code",
                "colab": {
                    "base_uri": "https://localhost:8080/",
                    "height": 389
                },
                "executionInfo": {
                    "status": "ok",
                    "timestamp": 1597726459179,
                    "user_tz": -330,
                    "elapsed": 868,
                    "user": {
                        "displayName": "Thomas George Thomas",
                        "photoUrl": "https://lh3.googleusercontent.com/a-/AOh14GhRjmtno5yCmJOUjYiFNGHi_xP5YZBJ1ZpWGKsZ=s64",
                        "userId": "09561174857978505545"
                    }
                },
                "outputId": "c7c4dbab-af11-477c-a6f4-1cc4a22dcb69"
            },
            "cell_type": "code",
            "source": "bogota_ohe['Localities'] = venues_bogota['Localities'] \n\n# put the column \"Localities\" at first\nfixed_columns = [bogota_ohe.columns[-1]] + list(bogota_ohe.columns[:-1])\nbogota_ohe = bogota_ohe[fixed_columns]\n\nbogota_ohe",
            "execution_count": 30,
            "outputs": [
                {
                    "output_type": "execute_result",
                    "execution_count": 30,
                    "data": {
                        "text/plain": "             Localities  Airport  Airport Lounge  Airport Service  \\\n0               Usaqu\u00e9n        0               0                0   \n1               Usaqu\u00e9n        0               0                0   \n2               Usaqu\u00e9n        0               0                0   \n3               Usaqu\u00e9n        0               0                0   \n4               Usaqu\u00e9n        0               0                0   \n..                  ...      ...             ...              ...   \n243  Rafael Uribe Uribe        0               0                0   \n244      Ciudad Bol\u00edvar        0               0                0   \n245      Ciudad Bol\u00edvar        0               0                0   \n246      Ciudad Bol\u00edvar        0               0                0   \n247      Ciudad Bol\u00edvar        0               0                0   \n\n     Airport Terminal  Arcade  Argentinian Restaurant  Art Museum  \\\n0                   0       0                       0           0   \n1                   0       0                       0           0   \n2                   0       0                       0           0   \n3                   0       0                       0           0   \n4                   0       0                       0           0   \n..                ...     ...                     ...         ...   \n243                 0       0                       0           0   \n244                 0       0                       0           0   \n245                 0       0                       0           0   \n246                 0       0                       0           0   \n247                 0       0                       0           0   \n\n     Asian Restaurant  Auto Garage  ...  Shop & Service  Shopping Mall  \\\n0                   0            0  ...               0              0   \n1                   0            0  ...               0              0   \n2                   0            0  ...               0              0   \n3                   0            0  ...               0              0   \n4                   0            0  ...               0              0   \n..                ...          ...  ...             ...            ...   \n243                 0            0  ...               0              0   \n244                 0            0  ...               0              0   \n245                 0            0  ...               0              0   \n246                 0            0  ...               0              0   \n247                 0            1  ...               0              0   \n\n     Snack Place  South American Restaurant  Steakhouse  Sushi Restaurant  \\\n0              0                          0           0                 0   \n1              0                          0           0                 0   \n2              0                          0           0                 0   \n3              0                          0           0                 0   \n4              0                          0           0                 0   \n..           ...                        ...         ...               ...   \n243            0                          0           0                 0   \n244            0                          0           0                 0   \n245            0                          0           0                 0   \n246            0                          0           0                 0   \n247            0                          0           0                 0   \n\n     Theater  Theme Restaurant  Toy / Game Store  \\\n0          0                 0                 0   \n1          0                 0                 0   \n2          0                 0                 0   \n3          0                 0                 0   \n4          0                 0                 0   \n..       ...               ...               ...   \n243        0                 0                 0   \n244        0                 0                 0   \n245        0                 0                 0   \n246        0                 0                 0   \n247        0                 0                 0   \n\n     Vegetarian / Vegan Restaurant  \n0                                0  \n1                                0  \n2                                0  \n3                                0  \n4                                0  \n..                             ...  \n243                              0  \n244                              0  \n245                              0  \n246                              0  \n247                              0  \n\n[248 rows x 97 columns]",
                        "text/html": "<div>\n<style scoped>\n    .dataframe tbody tr th:only-of-type {\n        vertical-align: middle;\n    }\n\n    .dataframe tbody tr th {\n        vertical-align: top;\n    }\n\n    .dataframe thead th {\n        text-align: right;\n    }\n</style>\n<table border=\"1\" class=\"dataframe\">\n  <thead>\n    <tr style=\"text-align: right;\">\n      <th></th>\n      <th>Localities</th>\n      <th>Airport</th>\n      <th>Airport Lounge</th>\n      <th>Airport Service</th>\n      <th>Airport Terminal</th>\n      <th>Arcade</th>\n      <th>Argentinian Restaurant</th>\n      <th>Art Museum</th>\n      <th>Asian Restaurant</th>\n      <th>Auto Garage</th>\n      <th>...</th>\n      <th>Shop &amp; Service</th>\n      <th>Shopping Mall</th>\n      <th>Snack Place</th>\n      <th>South American Restaurant</th>\n      <th>Steakhouse</th>\n      <th>Sushi Restaurant</th>\n      <th>Theater</th>\n      <th>Theme Restaurant</th>\n      <th>Toy / Game Store</th>\n      <th>Vegetarian / Vegan Restaurant</th>\n    </tr>\n  </thead>\n  <tbody>\n    <tr>\n      <th>0</th>\n      <td>Usaqu\u00e9n</td>\n      <td>0</td>\n      <td>0</td>\n      <td>0</td>\n      <td>0</td>\n      <td>0</td>\n      <td>0</td>\n      <td>0</td>\n      <td>0</td>\n      <td>0</td>\n      <td>...</td>\n      <td>0</td>\n      <td>0</td>\n      <td>0</td>\n      <td>0</td>\n      <td>0</td>\n      <td>0</td>\n      <td>0</td>\n      <td>0</td>\n      <td>0</td>\n      <td>0</td>\n    </tr>\n    <tr>\n      <th>1</th>\n      <td>Usaqu\u00e9n</td>\n      <td>0</td>\n      <td>0</td>\n      <td>0</td>\n      <td>0</td>\n      <td>0</td>\n      <td>0</td>\n      <td>0</td>\n      <td>0</td>\n      <td>0</td>\n      <td>...</td>\n      <td>0</td>\n      <td>0</td>\n      <td>0</td>\n      <td>0</td>\n      <td>0</td>\n      <td>0</td>\n      <td>0</td>\n      <td>0</td>\n      <td>0</td>\n      <td>0</td>\n    </tr>\n    <tr>\n      <th>2</th>\n      <td>Usaqu\u00e9n</td>\n      <td>0</td>\n      <td>0</td>\n      <td>0</td>\n      <td>0</td>\n      <td>0</td>\n      <td>0</td>\n      <td>0</td>\n      <td>0</td>\n      <td>0</td>\n      <td>...</td>\n      <td>0</td>\n      <td>0</td>\n      <td>0</td>\n      <td>0</td>\n      <td>0</td>\n      <td>0</td>\n      <td>0</td>\n      <td>0</td>\n      <td>0</td>\n      <td>0</td>\n    </tr>\n    <tr>\n      <th>3</th>\n      <td>Usaqu\u00e9n</td>\n      <td>0</td>\n      <td>0</td>\n      <td>0</td>\n      <td>0</td>\n      <td>0</td>\n      <td>0</td>\n      <td>0</td>\n      <td>0</td>\n      <td>0</td>\n      <td>...</td>\n      <td>0</td>\n      <td>0</td>\n      <td>0</td>\n      <td>0</td>\n      <td>0</td>\n      <td>0</td>\n      <td>0</td>\n      <td>0</td>\n      <td>0</td>\n      <td>0</td>\n    </tr>\n    <tr>\n      <th>4</th>\n      <td>Usaqu\u00e9n</td>\n      <td>0</td>\n      <td>0</td>\n      <td>0</td>\n      <td>0</td>\n      <td>0</td>\n      <td>0</td>\n      <td>0</td>\n      <td>0</td>\n      <td>0</td>\n      <td>...</td>\n      <td>0</td>\n      <td>0</td>\n      <td>0</td>\n      <td>0</td>\n      <td>0</td>\n      <td>0</td>\n      <td>0</td>\n      <td>0</td>\n      <td>0</td>\n      <td>0</td>\n    </tr>\n    <tr>\n      <th>...</th>\n      <td>...</td>\n      <td>...</td>\n      <td>...</td>\n      <td>...</td>\n      <td>...</td>\n      <td>...</td>\n      <td>...</td>\n      <td>...</td>\n      <td>...</td>\n      <td>...</td>\n      <td>...</td>\n      <td>...</td>\n      <td>...</td>\n      <td>...</td>\n      <td>...</td>\n      <td>...</td>\n      <td>...</td>\n      <td>...</td>\n      <td>...</td>\n      <td>...</td>\n      <td>...</td>\n    </tr>\n    <tr>\n      <th>243</th>\n      <td>Rafael Uribe Uribe</td>\n      <td>0</td>\n      <td>0</td>\n      <td>0</td>\n      <td>0</td>\n      <td>0</td>\n      <td>0</td>\n      <td>0</td>\n      <td>0</td>\n      <td>0</td>\n      <td>...</td>\n      <td>0</td>\n      <td>0</td>\n      <td>0</td>\n      <td>0</td>\n      <td>0</td>\n      <td>0</td>\n      <td>0</td>\n      <td>0</td>\n      <td>0</td>\n      <td>0</td>\n    </tr>\n    <tr>\n      <th>244</th>\n      <td>Ciudad Bol\u00edvar</td>\n      <td>0</td>\n      <td>0</td>\n      <td>0</td>\n      <td>0</td>\n      <td>0</td>\n      <td>0</td>\n      <td>0</td>\n      <td>0</td>\n      <td>0</td>\n      <td>...</td>\n      <td>0</td>\n      <td>0</td>\n      <td>0</td>\n      <td>0</td>\n      <td>0</td>\n      <td>0</td>\n      <td>0</td>\n      <td>0</td>\n      <td>0</td>\n      <td>0</td>\n    </tr>\n    <tr>\n      <th>245</th>\n      <td>Ciudad Bol\u00edvar</td>\n      <td>0</td>\n      <td>0</td>\n      <td>0</td>\n      <td>0</td>\n      <td>0</td>\n      <td>0</td>\n      <td>0</td>\n      <td>0</td>\n      <td>0</td>\n      <td>...</td>\n      <td>0</td>\n      <td>0</td>\n      <td>0</td>\n      <td>0</td>\n      <td>0</td>\n      <td>0</td>\n      <td>0</td>\n      <td>0</td>\n      <td>0</td>\n      <td>0</td>\n    </tr>\n    <tr>\n      <th>246</th>\n      <td>Ciudad Bol\u00edvar</td>\n      <td>0</td>\n      <td>0</td>\n      <td>0</td>\n      <td>0</td>\n      <td>0</td>\n      <td>0</td>\n      <td>0</td>\n      <td>0</td>\n      <td>0</td>\n      <td>...</td>\n      <td>0</td>\n      <td>0</td>\n      <td>0</td>\n      <td>0</td>\n      <td>0</td>\n      <td>0</td>\n      <td>0</td>\n      <td>0</td>\n      <td>0</td>\n      <td>0</td>\n    </tr>\n    <tr>\n      <th>247</th>\n      <td>Ciudad Bol\u00edvar</td>\n      <td>0</td>\n      <td>0</td>\n      <td>0</td>\n      <td>0</td>\n      <td>0</td>\n      <td>0</td>\n      <td>0</td>\n      <td>0</td>\n      <td>1</td>\n      <td>...</td>\n      <td>0</td>\n      <td>0</td>\n      <td>0</td>\n      <td>0</td>\n      <td>0</td>\n      <td>0</td>\n      <td>0</td>\n      <td>0</td>\n      <td>0</td>\n      <td>0</td>\n    </tr>\n  </tbody>\n</table>\n<p>248 rows \u00d7 97 columns</p>\n</div>"
                    },
                    "metadata": {}
                }
            ]
        },
        {
            "metadata": {
                "id": "A82meMzmJc6S",
                "colab_type": "text"
            },
            "cell_type": "markdown",
            "source": "### Venue categories"
        },
        {
            "metadata": {
                "id": "KoyGDi5eJdbu",
                "colab_type": "code",
                "colab": {
                    "base_uri": "https://localhost:8080/",
                    "height": 355
                },
                "executionInfo": {
                    "status": "ok",
                    "timestamp": 1597726463943,
                    "user_tz": -330,
                    "elapsed": 943,
                    "user": {
                        "displayName": "Thomas George Thomas",
                        "photoUrl": "https://lh3.googleusercontent.com/a-/AOh14GhRjmtno5yCmJOUjYiFNGHi_xP5YZBJ1ZpWGKsZ=s64",
                        "userId": "09561174857978505545"
                    }
                },
                "outputId": "d2da698d-0b97-46f4-b804-f541e77f6b26"
            },
            "cell_type": "code",
            "source": "bogota_gp = bogota_ohe.groupby('Localities').mean().reset_index()\nbogota_gp",
            "execution_count": 31,
            "outputs": [
                {
                    "output_type": "execute_result",
                    "execution_count": 31,
                    "data": {
                        "text/plain": "            Localities   Airport  Airport Lounge  Airport Service  \\\n0       Antonio Nari\u00f1o  0.000000        0.000000         0.000000   \n1       Barrios Unidos  0.000000        0.000000         0.000000   \n2                 Bosa  0.000000        0.000000         0.000000   \n3            Chapinero  0.000000        0.000000         0.000000   \n4       Ciudad Bol\u00edvar  0.000000        0.000000         0.000000   \n5             Engativ\u00e1  0.000000        0.000000         0.000000   \n6             Fontib\u00f3n  0.026316        0.131579         0.026316   \n7              Kennedy  0.000000        0.000000         0.000000   \n8        La Candelaria  0.000000        0.000000         0.000000   \n9         Los M\u00e1rtires  0.000000        0.000000         0.000000   \n10       Puente Aranda  0.000000        0.000000         0.000000   \n11  Rafael Uribe Uribe  0.000000        0.000000         0.000000   \n12                Suba  0.000000        0.000000         0.000000   \n13         Teusaquillo  0.000000        0.000000         0.000000   \n14          Tunjuelito  0.000000        0.000000         0.000000   \n15             Usaqu\u00e9n  0.000000        0.000000         0.000000   \n\n    Airport Terminal    Arcade  Argentinian Restaurant  Art Museum  \\\n0           0.000000  0.000000                0.000000    0.000000   \n1           0.000000  0.000000                0.000000    0.000000   \n2           0.000000  0.000000                0.000000    0.000000   \n3           0.000000  0.000000                0.000000    0.000000   \n4           0.000000  0.000000                0.000000    0.000000   \n5           0.000000  0.000000                0.000000    0.000000   \n6           0.026316  0.000000                0.000000    0.000000   \n7           0.000000  0.000000                0.000000    0.000000   \n8           0.000000  0.012821                0.025641    0.025641   \n9           0.000000  0.000000                0.000000    0.000000   \n10          0.000000  0.000000                0.000000    0.000000   \n11          0.000000  0.000000                0.000000    0.000000   \n12          0.000000  0.000000                0.000000    0.000000   \n13          0.000000  0.000000                0.000000    0.000000   \n14          0.000000  0.000000                0.000000    0.000000   \n15          0.000000  0.000000                0.000000    0.000000   \n\n    Asian Restaurant  Auto Garage  ...  Shop & Service  Shopping Mall  \\\n0           0.000000         0.00  ...        0.000000          0.050   \n1           0.000000         0.00  ...        0.000000          0.000   \n2           0.000000         0.00  ...        0.000000          0.250   \n3           0.000000         0.00  ...        0.000000          0.000   \n4           0.000000         0.25  ...        0.000000          0.000   \n5           0.000000         0.00  ...        0.083333          0.000   \n6           0.000000         0.00  ...        0.000000          0.000   \n7           0.000000         0.00  ...        0.000000          0.200   \n8           0.000000         0.00  ...        0.000000          0.000   \n9           0.000000         0.00  ...        0.000000          0.375   \n10          0.000000         0.00  ...        0.000000          0.000   \n11          0.000000         0.00  ...        0.000000          0.000   \n12          0.000000         0.00  ...        0.000000          0.000   \n13          0.000000         0.00  ...        0.000000          0.000   \n14          0.000000         0.00  ...        0.000000          0.000   \n15          0.090909         0.00  ...        0.000000          0.000   \n\n    Snack Place  South American Restaurant  Steakhouse  Sushi Restaurant  \\\n0      0.000000                   0.000000    0.000000          0.000000   \n1      0.000000                   0.000000    0.000000          0.000000   \n2      0.000000                   0.000000    0.000000          0.000000   \n3      0.000000                   0.000000    0.000000          0.000000   \n4      0.000000                   0.000000    0.000000          0.000000   \n5      0.000000                   0.000000    0.000000          0.000000   \n6      0.026316                   0.000000    0.000000          0.000000   \n7      0.000000                   0.000000    0.000000          0.000000   \n8      0.025641                   0.012821    0.000000          0.012821   \n9      0.000000                   0.000000    0.000000          0.000000   \n10     0.000000                   0.000000    0.000000          0.000000   \n11     0.000000                   0.000000    0.000000          0.000000   \n12     0.000000                   0.000000    0.000000          0.000000   \n13     0.000000                   0.000000    0.000000          0.000000   \n14     0.000000                   0.000000    0.000000          0.000000   \n15     0.000000                   0.000000    0.060606          0.030303   \n\n     Theater  Theme Restaurant  Toy / Game Store  \\\n0   0.000000          0.000000          0.000000   \n1   0.000000          0.000000          0.000000   \n2   0.000000          0.000000          0.000000   \n3   0.000000          0.000000          0.000000   \n4   0.000000          0.000000          0.000000   \n5   0.000000          0.000000          0.083333   \n6   0.000000          0.026316          0.000000   \n7   0.000000          0.000000          0.000000   \n8   0.012821          0.000000          0.000000   \n9   0.000000          0.000000          0.000000   \n10  0.000000          0.000000          0.000000   \n11  0.000000          0.000000          0.000000   \n12  0.000000          0.000000          0.000000   \n13  0.000000          0.000000          0.000000   \n14  0.000000          0.000000          0.000000   \n15  0.000000          0.000000          0.000000   \n\n    Vegetarian / Vegan Restaurant  \n0                        0.000000  \n1                        0.000000  \n2                        0.000000  \n3                        0.000000  \n4                        0.000000  \n5                        0.000000  \n6                        0.000000  \n7                        0.000000  \n8                        0.025641  \n9                        0.000000  \n10                       0.000000  \n11                       0.000000  \n12                       0.000000  \n13                       0.000000  \n14                       0.000000  \n15                       0.000000  \n\n[16 rows x 97 columns]",
                        "text/html": "<div>\n<style scoped>\n    .dataframe tbody tr th:only-of-type {\n        vertical-align: middle;\n    }\n\n    .dataframe tbody tr th {\n        vertical-align: top;\n    }\n\n    .dataframe thead th {\n        text-align: right;\n    }\n</style>\n<table border=\"1\" class=\"dataframe\">\n  <thead>\n    <tr style=\"text-align: right;\">\n      <th></th>\n      <th>Localities</th>\n      <th>Airport</th>\n      <th>Airport Lounge</th>\n      <th>Airport Service</th>\n      <th>Airport Terminal</th>\n      <th>Arcade</th>\n      <th>Argentinian Restaurant</th>\n      <th>Art Museum</th>\n      <th>Asian Restaurant</th>\n      <th>Auto Garage</th>\n      <th>...</th>\n      <th>Shop &amp; Service</th>\n      <th>Shopping Mall</th>\n      <th>Snack Place</th>\n      <th>South American Restaurant</th>\n      <th>Steakhouse</th>\n      <th>Sushi Restaurant</th>\n      <th>Theater</th>\n      <th>Theme Restaurant</th>\n      <th>Toy / Game Store</th>\n      <th>Vegetarian / Vegan Restaurant</th>\n    </tr>\n  </thead>\n  <tbody>\n    <tr>\n      <th>0</th>\n      <td>Antonio Nari\u00f1o</td>\n      <td>0.000000</td>\n      <td>0.000000</td>\n      <td>0.000000</td>\n      <td>0.000000</td>\n      <td>0.000000</td>\n      <td>0.000000</td>\n      <td>0.000000</td>\n      <td>0.000000</td>\n      <td>0.00</td>\n      <td>...</td>\n      <td>0.000000</td>\n      <td>0.050</td>\n      <td>0.000000</td>\n      <td>0.000000</td>\n      <td>0.000000</td>\n      <td>0.000000</td>\n      <td>0.000000</td>\n      <td>0.000000</td>\n      <td>0.000000</td>\n      <td>0.000000</td>\n    </tr>\n    <tr>\n      <th>1</th>\n      <td>Barrios Unidos</td>\n      <td>0.000000</td>\n      <td>0.000000</td>\n      <td>0.000000</td>\n      <td>0.000000</td>\n      <td>0.000000</td>\n      <td>0.000000</td>\n      <td>0.000000</td>\n      <td>0.000000</td>\n      <td>0.00</td>\n      <td>...</td>\n      <td>0.000000</td>\n      <td>0.000</td>\n      <td>0.000000</td>\n      <td>0.000000</td>\n      <td>0.000000</td>\n      <td>0.000000</td>\n      <td>0.000000</td>\n      <td>0.000000</td>\n      <td>0.000000</td>\n      <td>0.000000</td>\n    </tr>\n    <tr>\n      <th>2</th>\n      <td>Bosa</td>\n      <td>0.000000</td>\n      <td>0.000000</td>\n      <td>0.000000</td>\n      <td>0.000000</td>\n      <td>0.000000</td>\n      <td>0.000000</td>\n      <td>0.000000</td>\n      <td>0.000000</td>\n      <td>0.00</td>\n      <td>...</td>\n      <td>0.000000</td>\n      <td>0.250</td>\n      <td>0.000000</td>\n      <td>0.000000</td>\n      <td>0.000000</td>\n      <td>0.000000</td>\n      <td>0.000000</td>\n      <td>0.000000</td>\n      <td>0.000000</td>\n      <td>0.000000</td>\n    </tr>\n    <tr>\n      <th>3</th>\n      <td>Chapinero</td>\n      <td>0.000000</td>\n      <td>0.000000</td>\n      <td>0.000000</td>\n      <td>0.000000</td>\n      <td>0.000000</td>\n      <td>0.000000</td>\n      <td>0.000000</td>\n      <td>0.000000</td>\n      <td>0.00</td>\n      <td>...</td>\n      <td>0.000000</td>\n      <td>0.000</td>\n      <td>0.000000</td>\n      <td>0.000000</td>\n      <td>0.000000</td>\n      <td>0.000000</td>\n      <td>0.000000</td>\n      <td>0.000000</td>\n      <td>0.000000</td>\n      <td>0.000000</td>\n    </tr>\n    <tr>\n      <th>4</th>\n      <td>Ciudad Bol\u00edvar</td>\n      <td>0.000000</td>\n      <td>0.000000</td>\n      <td>0.000000</td>\n      <td>0.000000</td>\n      <td>0.000000</td>\n      <td>0.000000</td>\n      <td>0.000000</td>\n      <td>0.000000</td>\n      <td>0.25</td>\n      <td>...</td>\n      <td>0.000000</td>\n      <td>0.000</td>\n      <td>0.000000</td>\n      <td>0.000000</td>\n      <td>0.000000</td>\n      <td>0.000000</td>\n      <td>0.000000</td>\n      <td>0.000000</td>\n      <td>0.000000</td>\n      <td>0.000000</td>\n    </tr>\n    <tr>\n      <th>5</th>\n      <td>Engativ\u00e1</td>\n      <td>0.000000</td>\n      <td>0.000000</td>\n      <td>0.000000</td>\n      <td>0.000000</td>\n      <td>0.000000</td>\n      <td>0.000000</td>\n      <td>0.000000</td>\n      <td>0.000000</td>\n      <td>0.00</td>\n      <td>...</td>\n      <td>0.083333</td>\n      <td>0.000</td>\n      <td>0.000000</td>\n      <td>0.000000</td>\n      <td>0.000000</td>\n      <td>0.000000</td>\n      <td>0.000000</td>\n      <td>0.000000</td>\n      <td>0.083333</td>\n      <td>0.000000</td>\n    </tr>\n    <tr>\n      <th>6</th>\n      <td>Fontib\u00f3n</td>\n      <td>0.026316</td>\n      <td>0.131579</td>\n      <td>0.026316</td>\n      <td>0.026316</td>\n      <td>0.000000</td>\n      <td>0.000000</td>\n      <td>0.000000</td>\n      <td>0.000000</td>\n      <td>0.00</td>\n      <td>...</td>\n      <td>0.000000</td>\n      <td>0.000</td>\n      <td>0.026316</td>\n      <td>0.000000</td>\n      <td>0.000000</td>\n      <td>0.000000</td>\n      <td>0.000000</td>\n      <td>0.026316</td>\n      <td>0.000000</td>\n      <td>0.000000</td>\n    </tr>\n    <tr>\n      <th>7</th>\n      <td>Kennedy</td>\n      <td>0.000000</td>\n      <td>0.000000</td>\n      <td>0.000000</td>\n      <td>0.000000</td>\n      <td>0.000000</td>\n      <td>0.000000</td>\n      <td>0.000000</td>\n      <td>0.000000</td>\n      <td>0.00</td>\n      <td>...</td>\n      <td>0.000000</td>\n      <td>0.200</td>\n      <td>0.000000</td>\n      <td>0.000000</td>\n      <td>0.000000</td>\n      <td>0.000000</td>\n      <td>0.000000</td>\n      <td>0.000000</td>\n      <td>0.000000</td>\n      <td>0.000000</td>\n    </tr>\n    <tr>\n      <th>8</th>\n      <td>La Candelaria</td>\n      <td>0.000000</td>\n      <td>0.000000</td>\n      <td>0.000000</td>\n      <td>0.000000</td>\n      <td>0.012821</td>\n      <td>0.025641</td>\n      <td>0.025641</td>\n      <td>0.000000</td>\n      <td>0.00</td>\n      <td>...</td>\n      <td>0.000000</td>\n      <td>0.000</td>\n      <td>0.025641</td>\n      <td>0.012821</td>\n      <td>0.000000</td>\n      <td>0.012821</td>\n      <td>0.012821</td>\n      <td>0.000000</td>\n      <td>0.000000</td>\n      <td>0.025641</td>\n    </tr>\n    <tr>\n      <th>9</th>\n      <td>Los M\u00e1rtires</td>\n      <td>0.000000</td>\n      <td>0.000000</td>\n      <td>0.000000</td>\n      <td>0.000000</td>\n      <td>0.000000</td>\n      <td>0.000000</td>\n      <td>0.000000</td>\n      <td>0.000000</td>\n      <td>0.00</td>\n      <td>...</td>\n      <td>0.000000</td>\n      <td>0.375</td>\n      <td>0.000000</td>\n      <td>0.000000</td>\n      <td>0.000000</td>\n      <td>0.000000</td>\n      <td>0.000000</td>\n      <td>0.000000</td>\n      <td>0.000000</td>\n      <td>0.000000</td>\n    </tr>\n    <tr>\n      <th>10</th>\n      <td>Puente Aranda</td>\n      <td>0.000000</td>\n      <td>0.000000</td>\n      <td>0.000000</td>\n      <td>0.000000</td>\n      <td>0.000000</td>\n      <td>0.000000</td>\n      <td>0.000000</td>\n      <td>0.000000</td>\n      <td>0.00</td>\n      <td>...</td>\n      <td>0.000000</td>\n      <td>0.000</td>\n      <td>0.000000</td>\n      <td>0.000000</td>\n      <td>0.000000</td>\n      <td>0.000000</td>\n      <td>0.000000</td>\n      <td>0.000000</td>\n      <td>0.000000</td>\n      <td>0.000000</td>\n    </tr>\n    <tr>\n      <th>11</th>\n      <td>Rafael Uribe Uribe</td>\n      <td>0.000000</td>\n      <td>0.000000</td>\n      <td>0.000000</td>\n      <td>0.000000</td>\n      <td>0.000000</td>\n      <td>0.000000</td>\n      <td>0.000000</td>\n      <td>0.000000</td>\n      <td>0.00</td>\n      <td>...</td>\n      <td>0.000000</td>\n      <td>0.000</td>\n      <td>0.000000</td>\n      <td>0.000000</td>\n      <td>0.000000</td>\n      <td>0.000000</td>\n      <td>0.000000</td>\n      <td>0.000000</td>\n      <td>0.000000</td>\n      <td>0.000000</td>\n    </tr>\n    <tr>\n      <th>12</th>\n      <td>Suba</td>\n      <td>0.000000</td>\n      <td>0.000000</td>\n      <td>0.000000</td>\n      <td>0.000000</td>\n      <td>0.000000</td>\n      <td>0.000000</td>\n      <td>0.000000</td>\n      <td>0.000000</td>\n      <td>0.00</td>\n      <td>...</td>\n      <td>0.000000</td>\n      <td>0.000</td>\n      <td>0.000000</td>\n      <td>0.000000</td>\n      <td>0.000000</td>\n      <td>0.000000</td>\n      <td>0.000000</td>\n      <td>0.000000</td>\n      <td>0.000000</td>\n      <td>0.000000</td>\n    </tr>\n    <tr>\n      <th>13</th>\n      <td>Teusaquillo</td>\n      <td>0.000000</td>\n      <td>0.000000</td>\n      <td>0.000000</td>\n      <td>0.000000</td>\n      <td>0.000000</td>\n      <td>0.000000</td>\n      <td>0.000000</td>\n      <td>0.000000</td>\n      <td>0.00</td>\n      <td>...</td>\n      <td>0.000000</td>\n      <td>0.000</td>\n      <td>0.000000</td>\n      <td>0.000000</td>\n      <td>0.000000</td>\n      <td>0.000000</td>\n      <td>0.000000</td>\n      <td>0.000000</td>\n      <td>0.000000</td>\n      <td>0.000000</td>\n    </tr>\n    <tr>\n      <th>14</th>\n      <td>Tunjuelito</td>\n      <td>0.000000</td>\n      <td>0.000000</td>\n      <td>0.000000</td>\n      <td>0.000000</td>\n      <td>0.000000</td>\n      <td>0.000000</td>\n      <td>0.000000</td>\n      <td>0.000000</td>\n      <td>0.00</td>\n      <td>...</td>\n      <td>0.000000</td>\n      <td>0.000</td>\n      <td>0.000000</td>\n      <td>0.000000</td>\n      <td>0.000000</td>\n      <td>0.000000</td>\n      <td>0.000000</td>\n      <td>0.000000</td>\n      <td>0.000000</td>\n      <td>0.000000</td>\n    </tr>\n    <tr>\n      <th>15</th>\n      <td>Usaqu\u00e9n</td>\n      <td>0.000000</td>\n      <td>0.000000</td>\n      <td>0.000000</td>\n      <td>0.000000</td>\n      <td>0.000000</td>\n      <td>0.000000</td>\n      <td>0.000000</td>\n      <td>0.090909</td>\n      <td>0.00</td>\n      <td>...</td>\n      <td>0.000000</td>\n      <td>0.000</td>\n      <td>0.000000</td>\n      <td>0.000000</td>\n      <td>0.060606</td>\n      <td>0.030303</td>\n      <td>0.000000</td>\n      <td>0.000000</td>\n      <td>0.000000</td>\n      <td>0.000000</td>\n    </tr>\n  </tbody>\n</table>\n<p>16 rows \u00d7 97 columns</p>\n</div>"
                    },
                    "metadata": {}
                }
            ]
        },
        {
            "metadata": {
                "id": "tjyW795DJmNH",
                "colab_type": "code",
                "colab": {},
                "executionInfo": {
                    "status": "ok",
                    "timestamp": 1597726466911,
                    "user_tz": -330,
                    "elapsed": 971,
                    "user": {
                        "displayName": "Thomas George Thomas",
                        "photoUrl": "https://lh3.googleusercontent.com/a-/AOh14GhRjmtno5yCmJOUjYiFNGHi_xP5YZBJ1ZpWGKsZ=s64",
                        "userId": "09561174857978505545"
                    }
                }
            },
            "cell_type": "code",
            "source": "def common_venues(row, num_top_venues):\n    row_categories = row.iloc[1:]\n    row_categories_sorted = row_categories.sort_values(ascending=False)\n    \n    return row_categories_sorted.index.values[0:num_top_venues]",
            "execution_count": 32,
            "outputs": []
        },
        {
            "metadata": {
                "id": "-eXzEokNJ0KS",
                "colab_type": "text"
            },
            "cell_type": "markdown",
            "source": "There are way too many venue categories, we can take the top 10 to clusters."
        },
        {
            "metadata": {
                "id": "nQTjBbIzJmEy",
                "colab_type": "code",
                "colab": {},
                "executionInfo": {
                    "status": "ok",
                    "timestamp": 1597726469730,
                    "user_tz": -330,
                    "elapsed": 927,
                    "user": {
                        "displayName": "Thomas George Thomas",
                        "photoUrl": "https://lh3.googleusercontent.com/a-/AOh14GhRjmtno5yCmJOUjYiFNGHi_xP5YZBJ1ZpWGKsZ=s64",
                        "userId": "09561174857978505545"
                    }
                }
            },
            "cell_type": "code",
            "source": "indicators = ['st', 'nd', 'rd']\n\ncolumns = ['Localities']\nfor ind in np.arange(10):\n    try:\n        columns.append('{}{} Most Common Venue'.format(ind+1, indicators[ind]))\n    except:\n        columns.append('{}th Most Common Venue'.format(ind+1))\n",
            "execution_count": 33,
            "outputs": []
        },
        {
            "metadata": {
                "id": "XM1h20YeKL7h",
                "colab_type": "text"
            },
            "cell_type": "markdown",
            "source": "### Top venues in Bogota"
        },
        {
            "metadata": {
                "id": "Qzo3lzicKCwy",
                "colab_type": "code",
                "colab": {
                    "base_uri": "https://localhost:8080/",
                    "height": 323
                },
                "executionInfo": {
                    "status": "ok",
                    "timestamp": 1597726538270,
                    "user_tz": -330,
                    "elapsed": 1070,
                    "user": {
                        "displayName": "Thomas George Thomas",
                        "photoUrl": "https://lh3.googleusercontent.com/a-/AOh14GhRjmtno5yCmJOUjYiFNGHi_xP5YZBJ1ZpWGKsZ=s64",
                        "userId": "09561174857978505545"
                    }
                },
                "outputId": "2bc00dff-91b4-4209-8682-3fea840a165d"
            },
            "cell_type": "code",
            "source": "bogota_localities_venues = pd.DataFrame(columns=columns)\nbogota_localities_venues['Localities'] = bogota_gp['Localities']\n\nfor ind in np.arange(bogota_gp.shape[0]):\n    bogota_localities_venues.iloc[ind, 1:] = common_venues(bogota_gp.iloc[ind, :], 10)\n\nbogota_localities_venues",
            "execution_count": 34,
            "outputs": [
                {
                    "output_type": "execute_result",
                    "execution_count": 34,
                    "data": {
                        "text/plain": "            Localities 1st Most Common Venue          2nd Most Common Venue  \\\n0       Antonio Nari\u00f1o      Department Store                 Clothing Store   \n1       Barrios Unidos    Mexican Restaurant      Latin American Restaurant   \n2                 Bosa         Movie Theater                 Ice Cream Shop   \n3            Chapinero              Mountain  Vegetarian / Vegan Restaurant   \n4       Ciudad Bol\u00edvar                  Park           Fast Food Restaurant   \n5             Engativ\u00e1           Pizza Place                      Multiplex   \n6             Fontib\u00f3n        Airport Lounge                    Coffee Shop   \n7              Kennedy          Burger Joint              Health Food Store   \n8        La Candelaria                  Caf\u00e9             Italian Restaurant   \n9         Los M\u00e1rtires         Shopping Mall                     Restaurant   \n10       Puente Aranda             BBQ Joint                Motorcycle Shop   \n11  Rafael Uribe Uribe          Neighborhood                   Burger Joint   \n12                Suba           Coffee Shop                     Restaurant   \n13         Teusaquillo               Brewery                           Caf\u00e9   \n14          Tunjuelito            Restaurant                            Gym   \n15             Usaqu\u00e9n                 Hotel              French Restaurant   \n\n            3rd Most Common Venue          4th Most Common Venue  \\\n0                      Restaurant                 Sandwich Place   \n1   Vegetarian / Vegan Restaurant                 Clothing Store   \n2                   Shopping Mall                       Pharmacy   \n3                       Gastropub                   Cocktail Bar   \n4                     Auto Garage             Seafood Restaurant   \n5            Gym / Fitness Center                           Park   \n6                            Caf\u00e9                    Pizza Place   \n7                   Shopping Mall                    Beer Garden   \n8                  History Museum                   Cocktail Bar   \n9               Mobile Phone Shop                       Boutique   \n10             Seafood Restaurant                         Bakery   \n11             Mexican Restaurant                       Pharmacy   \n12                      Gastropub           Fast Food Restaurant   \n13                     Restaurant                   Cocktail Bar   \n14      Latin American Restaurant  Vegetarian / Vegan Restaurant   \n15                           Caf\u00e9               Asian Restaurant   \n\n            5th Most Common Venue    6th Most Common Venue  \\\n0                   Deli / Bodega                 Pie Shop   \n1                     Coffee Shop  Comfort Food Restaurant   \n2                  Clothing Store             Cocktail Bar   \n3                     Coffee Shop  Comfort Food Restaurant   \n4   Vegetarian / Vegan Restaurant            Deli / Bodega   \n5                             Bar                   Bakery   \n6                  Duty-free Shop               Donut Shop   \n7   Vegetarian / Vegan Restaurant         Department Store   \n8                          Hostel               Restaurant   \n9                Department Store           Clothing Store   \n10  Vegetarian / Vegan Restaurant         Department Store   \n11                   Cupcake Shop             Cocktail Bar   \n12                           Park       Seafood Restaurant   \n13                   Burger Joint  New American Restaurant   \n14                   Cocktail Bar              Coffee Shop   \n15                            Pub               Steakhouse   \n\n      7th Most Common Venue    8th Most Common Venue    9th Most Common Venue  \\\n0               Pizza Place        Mobile Phone Shop                BBQ Joint   \n1              Concert Hall        Convenience Store           Cosmetics Shop   \n2               Coffee Shop  Comfort Food Restaurant             Concert Hall   \n3              Concert Hall        Convenience Store           Cosmetics Shop   \n4              Cocktail Bar              Coffee Shop  Comfort Food Restaurant   \n5        Seafood Restaurant           Shop & Service                      Pub   \n6            Cosmetics Shop                Gift Shop      Fried Chicken Joint   \n7               Coffee Shop  Comfort Food Restaurant             Concert Hall   \n8                      Food  Comfort Food Restaurant                    Hotel   \n9            Duty-free Shop                Drugstore             Cocktail Bar   \n10              Coffee Shop  Comfort Food Restaurant             Concert Hall   \n11              Coffee Shop  Comfort Food Restaurant             Concert Hall   \n12           Ice Cream Shop                      Pub             Cupcake Shop   \n13                Bookstore                     Park    Performing Arts Venue   \n14  Comfort Food Restaurant             Concert Hall        Convenience Store   \n15                      Bar               Restaurant                   Lounge   \n\n   10th Most Common Venue  \n0      Salon / Barbershop  \n1         Cultural Center  \n2       Convenience Store  \n3         Cultural Center  \n4            Concert Hall  \n5        Toy / Game Store  \n6               Cafeteria  \n7       Convenience Store  \n8            Burger Joint  \n9             Coffee Shop  \n10      Convenience Store  \n11      Convenience Store  \n12           Cocktail Bar  \n13    Peruvian Restaurant  \n14         Cosmetics Shop  \n15              Nightclub  ",
                        "text/html": "<div>\n<style scoped>\n    .dataframe tbody tr th:only-of-type {\n        vertical-align: middle;\n    }\n\n    .dataframe tbody tr th {\n        vertical-align: top;\n    }\n\n    .dataframe thead th {\n        text-align: right;\n    }\n</style>\n<table border=\"1\" class=\"dataframe\">\n  <thead>\n    <tr style=\"text-align: right;\">\n      <th></th>\n      <th>Localities</th>\n      <th>1st Most Common Venue</th>\n      <th>2nd Most Common Venue</th>\n      <th>3rd Most Common Venue</th>\n      <th>4th Most Common Venue</th>\n      <th>5th Most Common Venue</th>\n      <th>6th Most Common Venue</th>\n      <th>7th Most Common Venue</th>\n      <th>8th Most Common Venue</th>\n      <th>9th Most Common Venue</th>\n      <th>10th Most Common Venue</th>\n    </tr>\n  </thead>\n  <tbody>\n    <tr>\n      <th>0</th>\n      <td>Antonio Nari\u00f1o</td>\n      <td>Department Store</td>\n      <td>Clothing Store</td>\n      <td>Restaurant</td>\n      <td>Sandwich Place</td>\n      <td>Deli / Bodega</td>\n      <td>Pie Shop</td>\n      <td>Pizza Place</td>\n      <td>Mobile Phone Shop</td>\n      <td>BBQ Joint</td>\n      <td>Salon / Barbershop</td>\n    </tr>\n    <tr>\n      <th>1</th>\n      <td>Barrios Unidos</td>\n      <td>Mexican Restaurant</td>\n      <td>Latin American Restaurant</td>\n      <td>Vegetarian / Vegan Restaurant</td>\n      <td>Clothing Store</td>\n      <td>Coffee Shop</td>\n      <td>Comfort Food Restaurant</td>\n      <td>Concert Hall</td>\n      <td>Convenience Store</td>\n      <td>Cosmetics Shop</td>\n      <td>Cultural Center</td>\n    </tr>\n    <tr>\n      <th>2</th>\n      <td>Bosa</td>\n      <td>Movie Theater</td>\n      <td>Ice Cream Shop</td>\n      <td>Shopping Mall</td>\n      <td>Pharmacy</td>\n      <td>Clothing Store</td>\n      <td>Cocktail Bar</td>\n      <td>Coffee Shop</td>\n      <td>Comfort Food Restaurant</td>\n      <td>Concert Hall</td>\n      <td>Convenience Store</td>\n    </tr>\n    <tr>\n      <th>3</th>\n      <td>Chapinero</td>\n      <td>Mountain</td>\n      <td>Vegetarian / Vegan Restaurant</td>\n      <td>Gastropub</td>\n      <td>Cocktail Bar</td>\n      <td>Coffee Shop</td>\n      <td>Comfort Food Restaurant</td>\n      <td>Concert Hall</td>\n      <td>Convenience Store</td>\n      <td>Cosmetics Shop</td>\n      <td>Cultural Center</td>\n    </tr>\n    <tr>\n      <th>4</th>\n      <td>Ciudad Bol\u00edvar</td>\n      <td>Park</td>\n      <td>Fast Food Restaurant</td>\n      <td>Auto Garage</td>\n      <td>Seafood Restaurant</td>\n      <td>Vegetarian / Vegan Restaurant</td>\n      <td>Deli / Bodega</td>\n      <td>Cocktail Bar</td>\n      <td>Coffee Shop</td>\n      <td>Comfort Food Restaurant</td>\n      <td>Concert Hall</td>\n    </tr>\n    <tr>\n      <th>5</th>\n      <td>Engativ\u00e1</td>\n      <td>Pizza Place</td>\n      <td>Multiplex</td>\n      <td>Gym / Fitness Center</td>\n      <td>Park</td>\n      <td>Bar</td>\n      <td>Bakery</td>\n      <td>Seafood Restaurant</td>\n      <td>Shop &amp; Service</td>\n      <td>Pub</td>\n      <td>Toy / Game Store</td>\n    </tr>\n    <tr>\n      <th>6</th>\n      <td>Fontib\u00f3n</td>\n      <td>Airport Lounge</td>\n      <td>Coffee Shop</td>\n      <td>Caf\u00e9</td>\n      <td>Pizza Place</td>\n      <td>Duty-free Shop</td>\n      <td>Donut Shop</td>\n      <td>Cosmetics Shop</td>\n      <td>Gift Shop</td>\n      <td>Fried Chicken Joint</td>\n      <td>Cafeteria</td>\n    </tr>\n    <tr>\n      <th>7</th>\n      <td>Kennedy</td>\n      <td>Burger Joint</td>\n      <td>Health Food Store</td>\n      <td>Shopping Mall</td>\n      <td>Beer Garden</td>\n      <td>Vegetarian / Vegan Restaurant</td>\n      <td>Department Store</td>\n      <td>Coffee Shop</td>\n      <td>Comfort Food Restaurant</td>\n      <td>Concert Hall</td>\n      <td>Convenience Store</td>\n    </tr>\n    <tr>\n      <th>8</th>\n      <td>La Candelaria</td>\n      <td>Caf\u00e9</td>\n      <td>Italian Restaurant</td>\n      <td>History Museum</td>\n      <td>Cocktail Bar</td>\n      <td>Hostel</td>\n      <td>Restaurant</td>\n      <td>Food</td>\n      <td>Comfort Food Restaurant</td>\n      <td>Hotel</td>\n      <td>Burger Joint</td>\n    </tr>\n    <tr>\n      <th>9</th>\n      <td>Los M\u00e1rtires</td>\n      <td>Shopping Mall</td>\n      <td>Restaurant</td>\n      <td>Mobile Phone Shop</td>\n      <td>Boutique</td>\n      <td>Department Store</td>\n      <td>Clothing Store</td>\n      <td>Duty-free Shop</td>\n      <td>Drugstore</td>\n      <td>Cocktail Bar</td>\n      <td>Coffee Shop</td>\n    </tr>\n    <tr>\n      <th>10</th>\n      <td>Puente Aranda</td>\n      <td>BBQ Joint</td>\n      <td>Motorcycle Shop</td>\n      <td>Seafood Restaurant</td>\n      <td>Bakery</td>\n      <td>Vegetarian / Vegan Restaurant</td>\n      <td>Department Store</td>\n      <td>Coffee Shop</td>\n      <td>Comfort Food Restaurant</td>\n      <td>Concert Hall</td>\n      <td>Convenience Store</td>\n    </tr>\n    <tr>\n      <th>11</th>\n      <td>Rafael Uribe Uribe</td>\n      <td>Neighborhood</td>\n      <td>Burger Joint</td>\n      <td>Mexican Restaurant</td>\n      <td>Pharmacy</td>\n      <td>Cupcake Shop</td>\n      <td>Cocktail Bar</td>\n      <td>Coffee Shop</td>\n      <td>Comfort Food Restaurant</td>\n      <td>Concert Hall</td>\n      <td>Convenience Store</td>\n    </tr>\n    <tr>\n      <th>12</th>\n      <td>Suba</td>\n      <td>Coffee Shop</td>\n      <td>Restaurant</td>\n      <td>Gastropub</td>\n      <td>Fast Food Restaurant</td>\n      <td>Park</td>\n      <td>Seafood Restaurant</td>\n      <td>Ice Cream Shop</td>\n      <td>Pub</td>\n      <td>Cupcake Shop</td>\n      <td>Cocktail Bar</td>\n    </tr>\n    <tr>\n      <th>13</th>\n      <td>Teusaquillo</td>\n      <td>Brewery</td>\n      <td>Caf\u00e9</td>\n      <td>Restaurant</td>\n      <td>Cocktail Bar</td>\n      <td>Burger Joint</td>\n      <td>New American Restaurant</td>\n      <td>Bookstore</td>\n      <td>Park</td>\n      <td>Performing Arts Venue</td>\n      <td>Peruvian Restaurant</td>\n    </tr>\n    <tr>\n      <th>14</th>\n      <td>Tunjuelito</td>\n      <td>Restaurant</td>\n      <td>Gym</td>\n      <td>Latin American Restaurant</td>\n      <td>Vegetarian / Vegan Restaurant</td>\n      <td>Cocktail Bar</td>\n      <td>Coffee Shop</td>\n      <td>Comfort Food Restaurant</td>\n      <td>Concert Hall</td>\n      <td>Convenience Store</td>\n      <td>Cosmetics Shop</td>\n    </tr>\n    <tr>\n      <th>15</th>\n      <td>Usaqu\u00e9n</td>\n      <td>Hotel</td>\n      <td>French Restaurant</td>\n      <td>Caf\u00e9</td>\n      <td>Asian Restaurant</td>\n      <td>Pub</td>\n      <td>Steakhouse</td>\n      <td>Bar</td>\n      <td>Restaurant</td>\n      <td>Lounge</td>\n      <td>Nightclub</td>\n    </tr>\n  </tbody>\n</table>\n</div>"
                    },
                    "metadata": {}
                }
            ]
        },
        {
            "metadata": {
                "id": "-XXzLZegLdVa",
                "colab_type": "text"
            },
            "cell_type": "markdown",
            "source": "##  KMeans Model Building"
        },
        {
            "metadata": {
                "id": "T08O5L6wLf-6",
                "colab_type": "code",
                "colab": {
                    "base_uri": "https://localhost:8080/",
                    "height": 68
                },
                "executionInfo": {
                    "status": "ok",
                    "timestamp": 1597726544374,
                    "user_tz": -330,
                    "elapsed": 979,
                    "user": {
                        "displayName": "Thomas George Thomas",
                        "photoUrl": "https://lh3.googleusercontent.com/a-/AOh14GhRjmtno5yCmJOUjYiFNGHi_xP5YZBJ1ZpWGKsZ=s64",
                        "userId": "09561174857978505545"
                    }
                },
                "outputId": "847dff50-5c4b-4422-f024-7edd4dcd3e76"
            },
            "cell_type": "code",
            "source": "clusters = 5\n\nbogota_gp_clustering = bogota_gp.drop('Localities', 1)\n\nkmeans_bogota = KMeans(n_clusters=clusters, random_state=0).fit(bogota_gp_clustering)\nkmeans_bogota",
            "execution_count": 35,
            "outputs": [
                {
                    "output_type": "execute_result",
                    "execution_count": 35,
                    "data": {
                        "text/plain": "KMeans(n_clusters=5, random_state=0)"
                    },
                    "metadata": {}
                }
            ]
        },
        {
            "metadata": {
                "id": "_7s2PWbvZxyW",
                "colab_type": "text"
            },
            "cell_type": "markdown",
            "source": "### Labelling Clustered Data"
        },
        {
            "metadata": {
                "id": "CGbB56rxMJYt",
                "colab_type": "code",
                "colab": {
                    "base_uri": "https://localhost:8080/",
                    "height": 34
                },
                "executionInfo": {
                    "status": "ok",
                    "timestamp": 1597726548169,
                    "user_tz": -330,
                    "elapsed": 964,
                    "user": {
                        "displayName": "Thomas George Thomas",
                        "photoUrl": "https://lh3.googleusercontent.com/a-/AOh14GhRjmtno5yCmJOUjYiFNGHi_xP5YZBJ1ZpWGKsZ=s64",
                        "userId": "09561174857978505545"
                    }
                },
                "outputId": "96c45f75-63f6-413a-96cf-1536eb3d0d29"
            },
            "cell_type": "code",
            "source": "kmeans_bogota.labels_",
            "execution_count": 36,
            "outputs": [
                {
                    "output_type": "execute_result",
                    "execution_count": 36,
                    "data": {
                        "text/plain": "array([0, 2, 0, 1, 0, 0, 0, 0, 0, 0, 4, 0, 0, 0, 3, 0], dtype=int32)"
                    },
                    "metadata": {}
                }
            ]
        },
        {
            "metadata": {
                "id": "YugUnQhbMLdu",
                "colab_type": "code",
                "colab": {},
                "executionInfo": {
                    "status": "ok",
                    "timestamp": 1597726550641,
                    "user_tz": -330,
                    "elapsed": 873,
                    "user": {
                        "displayName": "Thomas George Thomas",
                        "photoUrl": "https://lh3.googleusercontent.com/a-/AOh14GhRjmtno5yCmJOUjYiFNGHi_xP5YZBJ1ZpWGKsZ=s64",
                        "userId": "09561174857978505545"
                    }
                }
            },
            "cell_type": "code",
            "source": "bogota_localities_venues.insert(0, 'Cluster Labels', kmeans_bogota.labels_ +1)",
            "execution_count": 37,
            "outputs": []
        },
        {
            "metadata": {
                "id": "QNmiw0VpMkTH",
                "colab_type": "text"
            },
            "cell_type": "markdown",
            "source": "Join the dataframe \"bogota\" with our localities venues sorted to add latitude & longitude for each of the localitie to prepare it for plotting"
        },
        {
            "metadata": {
                "id": "Ldt_rQ3mMj_e",
                "colab_type": "code",
                "colab": {
                    "base_uri": "https://localhost:8080/",
                    "height": 411
                },
                "executionInfo": {
                    "status": "ok",
                    "timestamp": 1597726556008,
                    "user_tz": -330,
                    "elapsed": 1077,
                    "user": {
                        "displayName": "Thomas George Thomas",
                        "photoUrl": "https://lh3.googleusercontent.com/a-/AOh14GhRjmtno5yCmJOUjYiFNGHi_xP5YZBJ1ZpWGKsZ=s64",
                        "userId": "09561174857978505545"
                    }
                },
                "outputId": "b3f79bf3-87ec-401c-fbf9-bf40b0fd23f1"
            },
            "cell_type": "code",
            "source": "bogota_data = bogota\n\nbogota_data = bogota_data.join(bogota_localities_venues.set_index('Localities'), on='town')\n\nbogota_data",
            "execution_count": 38,
            "outputs": [
                {
                    "output_type": "execute_result",
                    "execution_count": 38,
                    "data": {
                        "text/plain": "                  town post_code  latitude  longitude  Cluster Labels  \\\n0              Usaqu\u00e9n    110111  4.691000 -74.033448             1.0   \n1            Chapinero    110211  4.667800 -74.025910             2.0   \n2             Santa Fe    110311  4.590255 -74.025630             NaN   \n3        San Crist\u00f3bal    110411  4.560310 -74.053523             NaN   \n4                 Usme    110511  4.496341 -74.130810             NaN   \n5           Tunjuelito    110611  4.584725 -74.141170             4.0   \n6                 Bosa    110711  4.638727 -74.189920             1.0   \n7              Kennedy    110811  4.652555 -74.155299             1.0   \n8             Fontib\u00f3n    110911  4.695895 -74.144576             1.0   \n9             Engativ\u00e1    111011  4.724539 -74.115505             1.0   \n10                Suba    111111  4.708096 -74.063170             1.0   \n11      Barrios Unidos    111211  4.677830 -74.071605             3.0   \n12         Teusaquillo    111311  4.633320 -74.072908             1.0   \n13        Los M\u00e1rtires    111411  4.604256 -74.089915             1.0   \n14      Antonio Nari\u00f1o    111511  4.587130 -74.096930             1.0   \n15       Puente Aranda    111611  4.624250 -74.103724             5.0   \n16       La Candelaria    111711  4.599095 -74.071979             1.0   \n17  Rafael Uribe Uribe    111811  4.579730 -74.116825             1.0   \n18      Ciudad Bol\u00edvar    111911  4.577028 -74.151465             1.0   \n19             Sumapaz    112011  4.223150 -74.185031             NaN   \n\n   1st Most Common Venue          2nd Most Common Venue  \\\n0                  Hotel              French Restaurant   \n1               Mountain  Vegetarian / Vegan Restaurant   \n2                    NaN                            NaN   \n3                    NaN                            NaN   \n4                    NaN                            NaN   \n5             Restaurant                            Gym   \n6          Movie Theater                 Ice Cream Shop   \n7           Burger Joint              Health Food Store   \n8         Airport Lounge                    Coffee Shop   \n9            Pizza Place                      Multiplex   \n10           Coffee Shop                     Restaurant   \n11    Mexican Restaurant      Latin American Restaurant   \n12               Brewery                           Caf\u00e9   \n13         Shopping Mall                     Restaurant   \n14      Department Store                 Clothing Store   \n15             BBQ Joint                Motorcycle Shop   \n16                  Caf\u00e9             Italian Restaurant   \n17          Neighborhood                   Burger Joint   \n18                  Park           Fast Food Restaurant   \n19                   NaN                            NaN   \n\n            3rd Most Common Venue          4th Most Common Venue  \\\n0                            Caf\u00e9               Asian Restaurant   \n1                       Gastropub                   Cocktail Bar   \n2                             NaN                            NaN   \n3                             NaN                            NaN   \n4                             NaN                            NaN   \n5       Latin American Restaurant  Vegetarian / Vegan Restaurant   \n6                   Shopping Mall                       Pharmacy   \n7                   Shopping Mall                    Beer Garden   \n8                            Caf\u00e9                    Pizza Place   \n9            Gym / Fitness Center                           Park   \n10                      Gastropub           Fast Food Restaurant   \n11  Vegetarian / Vegan Restaurant                 Clothing Store   \n12                     Restaurant                   Cocktail Bar   \n13              Mobile Phone Shop                       Boutique   \n14                     Restaurant                 Sandwich Place   \n15             Seafood Restaurant                         Bakery   \n16                 History Museum                   Cocktail Bar   \n17             Mexican Restaurant                       Pharmacy   \n18                    Auto Garage             Seafood Restaurant   \n19                            NaN                            NaN   \n\n            5th Most Common Venue    6th Most Common Venue  \\\n0                             Pub               Steakhouse   \n1                     Coffee Shop  Comfort Food Restaurant   \n2                             NaN                      NaN   \n3                             NaN                      NaN   \n4                             NaN                      NaN   \n5                    Cocktail Bar              Coffee Shop   \n6                  Clothing Store             Cocktail Bar   \n7   Vegetarian / Vegan Restaurant         Department Store   \n8                  Duty-free Shop               Donut Shop   \n9                             Bar                   Bakery   \n10                           Park       Seafood Restaurant   \n11                    Coffee Shop  Comfort Food Restaurant   \n12                   Burger Joint  New American Restaurant   \n13               Department Store           Clothing Store   \n14                  Deli / Bodega                 Pie Shop   \n15  Vegetarian / Vegan Restaurant         Department Store   \n16                         Hostel               Restaurant   \n17                   Cupcake Shop             Cocktail Bar   \n18  Vegetarian / Vegan Restaurant            Deli / Bodega   \n19                            NaN                      NaN   \n\n      7th Most Common Venue    8th Most Common Venue    9th Most Common Venue  \\\n0                       Bar               Restaurant                   Lounge   \n1              Concert Hall        Convenience Store           Cosmetics Shop   \n2                       NaN                      NaN                      NaN   \n3                       NaN                      NaN                      NaN   \n4                       NaN                      NaN                      NaN   \n5   Comfort Food Restaurant             Concert Hall        Convenience Store   \n6               Coffee Shop  Comfort Food Restaurant             Concert Hall   \n7               Coffee Shop  Comfort Food Restaurant             Concert Hall   \n8            Cosmetics Shop                Gift Shop      Fried Chicken Joint   \n9        Seafood Restaurant           Shop & Service                      Pub   \n10           Ice Cream Shop                      Pub             Cupcake Shop   \n11             Concert Hall        Convenience Store           Cosmetics Shop   \n12                Bookstore                     Park    Performing Arts Venue   \n13           Duty-free Shop                Drugstore             Cocktail Bar   \n14              Pizza Place        Mobile Phone Shop                BBQ Joint   \n15              Coffee Shop  Comfort Food Restaurant             Concert Hall   \n16                     Food  Comfort Food Restaurant                    Hotel   \n17              Coffee Shop  Comfort Food Restaurant             Concert Hall   \n18             Cocktail Bar              Coffee Shop  Comfort Food Restaurant   \n19                      NaN                      NaN                      NaN   \n\n   10th Most Common Venue  \n0               Nightclub  \n1         Cultural Center  \n2                     NaN  \n3                     NaN  \n4                     NaN  \n5          Cosmetics Shop  \n6       Convenience Store  \n7       Convenience Store  \n8               Cafeteria  \n9        Toy / Game Store  \n10           Cocktail Bar  \n11        Cultural Center  \n12    Peruvian Restaurant  \n13            Coffee Shop  \n14     Salon / Barbershop  \n15      Convenience Store  \n16           Burger Joint  \n17      Convenience Store  \n18           Concert Hall  \n19                    NaN  ",
                        "text/html": "<div>\n<style scoped>\n    .dataframe tbody tr th:only-of-type {\n        vertical-align: middle;\n    }\n\n    .dataframe tbody tr th {\n        vertical-align: top;\n    }\n\n    .dataframe thead th {\n        text-align: right;\n    }\n</style>\n<table border=\"1\" class=\"dataframe\">\n  <thead>\n    <tr style=\"text-align: right;\">\n      <th></th>\n      <th>town</th>\n      <th>post_code</th>\n      <th>latitude</th>\n      <th>longitude</th>\n      <th>Cluster Labels</th>\n      <th>1st Most Common Venue</th>\n      <th>2nd Most Common Venue</th>\n      <th>3rd Most Common Venue</th>\n      <th>4th Most Common Venue</th>\n      <th>5th Most Common Venue</th>\n      <th>6th Most Common Venue</th>\n      <th>7th Most Common Venue</th>\n      <th>8th Most Common Venue</th>\n      <th>9th Most Common Venue</th>\n      <th>10th Most Common Venue</th>\n    </tr>\n  </thead>\n  <tbody>\n    <tr>\n      <th>0</th>\n      <td>Usaqu\u00e9n</td>\n      <td>110111</td>\n      <td>4.691000</td>\n      <td>-74.033448</td>\n      <td>1.0</td>\n      <td>Hotel</td>\n      <td>French Restaurant</td>\n      <td>Caf\u00e9</td>\n      <td>Asian Restaurant</td>\n      <td>Pub</td>\n      <td>Steakhouse</td>\n      <td>Bar</td>\n      <td>Restaurant</td>\n      <td>Lounge</td>\n      <td>Nightclub</td>\n    </tr>\n    <tr>\n      <th>1</th>\n      <td>Chapinero</td>\n      <td>110211</td>\n      <td>4.667800</td>\n      <td>-74.025910</td>\n      <td>2.0</td>\n      <td>Mountain</td>\n      <td>Vegetarian / Vegan Restaurant</td>\n      <td>Gastropub</td>\n      <td>Cocktail Bar</td>\n      <td>Coffee Shop</td>\n      <td>Comfort Food Restaurant</td>\n      <td>Concert Hall</td>\n      <td>Convenience Store</td>\n      <td>Cosmetics Shop</td>\n      <td>Cultural Center</td>\n    </tr>\n    <tr>\n      <th>2</th>\n      <td>Santa Fe</td>\n      <td>110311</td>\n      <td>4.590255</td>\n      <td>-74.025630</td>\n      <td>NaN</td>\n      <td>NaN</td>\n      <td>NaN</td>\n      <td>NaN</td>\n      <td>NaN</td>\n      <td>NaN</td>\n      <td>NaN</td>\n      <td>NaN</td>\n      <td>NaN</td>\n      <td>NaN</td>\n      <td>NaN</td>\n    </tr>\n    <tr>\n      <th>3</th>\n      <td>San Crist\u00f3bal</td>\n      <td>110411</td>\n      <td>4.560310</td>\n      <td>-74.053523</td>\n      <td>NaN</td>\n      <td>NaN</td>\n      <td>NaN</td>\n      <td>NaN</td>\n      <td>NaN</td>\n      <td>NaN</td>\n      <td>NaN</td>\n      <td>NaN</td>\n      <td>NaN</td>\n      <td>NaN</td>\n      <td>NaN</td>\n    </tr>\n    <tr>\n      <th>4</th>\n      <td>Usme</td>\n      <td>110511</td>\n      <td>4.496341</td>\n      <td>-74.130810</td>\n      <td>NaN</td>\n      <td>NaN</td>\n      <td>NaN</td>\n      <td>NaN</td>\n      <td>NaN</td>\n      <td>NaN</td>\n      <td>NaN</td>\n      <td>NaN</td>\n      <td>NaN</td>\n      <td>NaN</td>\n      <td>NaN</td>\n    </tr>\n    <tr>\n      <th>5</th>\n      <td>Tunjuelito</td>\n      <td>110611</td>\n      <td>4.584725</td>\n      <td>-74.141170</td>\n      <td>4.0</td>\n      <td>Restaurant</td>\n      <td>Gym</td>\n      <td>Latin American Restaurant</td>\n      <td>Vegetarian / Vegan Restaurant</td>\n      <td>Cocktail Bar</td>\n      <td>Coffee Shop</td>\n      <td>Comfort Food Restaurant</td>\n      <td>Concert Hall</td>\n      <td>Convenience Store</td>\n      <td>Cosmetics Shop</td>\n    </tr>\n    <tr>\n      <th>6</th>\n      <td>Bosa</td>\n      <td>110711</td>\n      <td>4.638727</td>\n      <td>-74.189920</td>\n      <td>1.0</td>\n      <td>Movie Theater</td>\n      <td>Ice Cream Shop</td>\n      <td>Shopping Mall</td>\n      <td>Pharmacy</td>\n      <td>Clothing Store</td>\n      <td>Cocktail Bar</td>\n      <td>Coffee Shop</td>\n      <td>Comfort Food Restaurant</td>\n      <td>Concert Hall</td>\n      <td>Convenience Store</td>\n    </tr>\n    <tr>\n      <th>7</th>\n      <td>Kennedy</td>\n      <td>110811</td>\n      <td>4.652555</td>\n      <td>-74.155299</td>\n      <td>1.0</td>\n      <td>Burger Joint</td>\n      <td>Health Food Store</td>\n      <td>Shopping Mall</td>\n      <td>Beer Garden</td>\n      <td>Vegetarian / Vegan Restaurant</td>\n      <td>Department Store</td>\n      <td>Coffee Shop</td>\n      <td>Comfort Food Restaurant</td>\n      <td>Concert Hall</td>\n      <td>Convenience Store</td>\n    </tr>\n    <tr>\n      <th>8</th>\n      <td>Fontib\u00f3n</td>\n      <td>110911</td>\n      <td>4.695895</td>\n      <td>-74.144576</td>\n      <td>1.0</td>\n      <td>Airport Lounge</td>\n      <td>Coffee Shop</td>\n      <td>Caf\u00e9</td>\n      <td>Pizza Place</td>\n      <td>Duty-free Shop</td>\n      <td>Donut Shop</td>\n      <td>Cosmetics Shop</td>\n      <td>Gift Shop</td>\n      <td>Fried Chicken Joint</td>\n      <td>Cafeteria</td>\n    </tr>\n    <tr>\n      <th>9</th>\n      <td>Engativ\u00e1</td>\n      <td>111011</td>\n      <td>4.724539</td>\n      <td>-74.115505</td>\n      <td>1.0</td>\n      <td>Pizza Place</td>\n      <td>Multiplex</td>\n      <td>Gym / Fitness Center</td>\n      <td>Park</td>\n      <td>Bar</td>\n      <td>Bakery</td>\n      <td>Seafood Restaurant</td>\n      <td>Shop &amp; Service</td>\n      <td>Pub</td>\n      <td>Toy / Game Store</td>\n    </tr>\n    <tr>\n      <th>10</th>\n      <td>Suba</td>\n      <td>111111</td>\n      <td>4.708096</td>\n      <td>-74.063170</td>\n      <td>1.0</td>\n      <td>Coffee Shop</td>\n      <td>Restaurant</td>\n      <td>Gastropub</td>\n      <td>Fast Food Restaurant</td>\n      <td>Park</td>\n      <td>Seafood Restaurant</td>\n      <td>Ice Cream Shop</td>\n      <td>Pub</td>\n      <td>Cupcake Shop</td>\n      <td>Cocktail Bar</td>\n    </tr>\n    <tr>\n      <th>11</th>\n      <td>Barrios Unidos</td>\n      <td>111211</td>\n      <td>4.677830</td>\n      <td>-74.071605</td>\n      <td>3.0</td>\n      <td>Mexican Restaurant</td>\n      <td>Latin American Restaurant</td>\n      <td>Vegetarian / Vegan Restaurant</td>\n      <td>Clothing Store</td>\n      <td>Coffee Shop</td>\n      <td>Comfort Food Restaurant</td>\n      <td>Concert Hall</td>\n      <td>Convenience Store</td>\n      <td>Cosmetics Shop</td>\n      <td>Cultural Center</td>\n    </tr>\n    <tr>\n      <th>12</th>\n      <td>Teusaquillo</td>\n      <td>111311</td>\n      <td>4.633320</td>\n      <td>-74.072908</td>\n      <td>1.0</td>\n      <td>Brewery</td>\n      <td>Caf\u00e9</td>\n      <td>Restaurant</td>\n      <td>Cocktail Bar</td>\n      <td>Burger Joint</td>\n      <td>New American Restaurant</td>\n      <td>Bookstore</td>\n      <td>Park</td>\n      <td>Performing Arts Venue</td>\n      <td>Peruvian Restaurant</td>\n    </tr>\n    <tr>\n      <th>13</th>\n      <td>Los M\u00e1rtires</td>\n      <td>111411</td>\n      <td>4.604256</td>\n      <td>-74.089915</td>\n      <td>1.0</td>\n      <td>Shopping Mall</td>\n      <td>Restaurant</td>\n      <td>Mobile Phone Shop</td>\n      <td>Boutique</td>\n      <td>Department Store</td>\n      <td>Clothing Store</td>\n      <td>Duty-free Shop</td>\n      <td>Drugstore</td>\n      <td>Cocktail Bar</td>\n      <td>Coffee Shop</td>\n    </tr>\n    <tr>\n      <th>14</th>\n      <td>Antonio Nari\u00f1o</td>\n      <td>111511</td>\n      <td>4.587130</td>\n      <td>-74.096930</td>\n      <td>1.0</td>\n      <td>Department Store</td>\n      <td>Clothing Store</td>\n      <td>Restaurant</td>\n      <td>Sandwich Place</td>\n      <td>Deli / Bodega</td>\n      <td>Pie Shop</td>\n      <td>Pizza Place</td>\n      <td>Mobile Phone Shop</td>\n      <td>BBQ Joint</td>\n      <td>Salon / Barbershop</td>\n    </tr>\n    <tr>\n      <th>15</th>\n      <td>Puente Aranda</td>\n      <td>111611</td>\n      <td>4.624250</td>\n      <td>-74.103724</td>\n      <td>5.0</td>\n      <td>BBQ Joint</td>\n      <td>Motorcycle Shop</td>\n      <td>Seafood Restaurant</td>\n      <td>Bakery</td>\n      <td>Vegetarian / Vegan Restaurant</td>\n      <td>Department Store</td>\n      <td>Coffee Shop</td>\n      <td>Comfort Food Restaurant</td>\n      <td>Concert Hall</td>\n      <td>Convenience Store</td>\n    </tr>\n    <tr>\n      <th>16</th>\n      <td>La Candelaria</td>\n      <td>111711</td>\n      <td>4.599095</td>\n      <td>-74.071979</td>\n      <td>1.0</td>\n      <td>Caf\u00e9</td>\n      <td>Italian Restaurant</td>\n      <td>History Museum</td>\n      <td>Cocktail Bar</td>\n      <td>Hostel</td>\n      <td>Restaurant</td>\n      <td>Food</td>\n      <td>Comfort Food Restaurant</td>\n      <td>Hotel</td>\n      <td>Burger Joint</td>\n    </tr>\n    <tr>\n      <th>17</th>\n      <td>Rafael Uribe Uribe</td>\n      <td>111811</td>\n      <td>4.579730</td>\n      <td>-74.116825</td>\n      <td>1.0</td>\n      <td>Neighborhood</td>\n      <td>Burger Joint</td>\n      <td>Mexican Restaurant</td>\n      <td>Pharmacy</td>\n      <td>Cupcake Shop</td>\n      <td>Cocktail Bar</td>\n      <td>Coffee Shop</td>\n      <td>Comfort Food Restaurant</td>\n      <td>Concert Hall</td>\n      <td>Convenience Store</td>\n    </tr>\n    <tr>\n      <th>18</th>\n      <td>Ciudad Bol\u00edvar</td>\n      <td>111911</td>\n      <td>4.577028</td>\n      <td>-74.151465</td>\n      <td>1.0</td>\n      <td>Park</td>\n      <td>Fast Food Restaurant</td>\n      <td>Auto Garage</td>\n      <td>Seafood Restaurant</td>\n      <td>Vegetarian / Vegan Restaurant</td>\n      <td>Deli / Bodega</td>\n      <td>Cocktail Bar</td>\n      <td>Coffee Shop</td>\n      <td>Comfort Food Restaurant</td>\n      <td>Concert Hall</td>\n    </tr>\n    <tr>\n      <th>19</th>\n      <td>Sumapaz</td>\n      <td>112011</td>\n      <td>4.223150</td>\n      <td>-74.185031</td>\n      <td>NaN</td>\n      <td>NaN</td>\n      <td>NaN</td>\n      <td>NaN</td>\n      <td>NaN</td>\n      <td>NaN</td>\n      <td>NaN</td>\n      <td>NaN</td>\n      <td>NaN</td>\n      <td>NaN</td>\n      <td>NaN</td>\n    </tr>\n  </tbody>\n</table>\n</div>"
                    },
                    "metadata": {}
                }
            ]
        },
        {
            "metadata": {
                "id": "gD30G-AoNk8N",
                "colab_type": "text"
            },
            "cell_type": "markdown",
            "source": "\nDrop all the NaN values."
        },
        {
            "metadata": {
                "id": "_4ZtK94ZMiuj",
                "colab_type": "code",
                "colab": {},
                "executionInfo": {
                    "status": "ok",
                    "timestamp": 1597726562692,
                    "user_tz": -330,
                    "elapsed": 940,
                    "user": {
                        "displayName": "Thomas George Thomas",
                        "photoUrl": "https://lh3.googleusercontent.com/a-/AOh14GhRjmtno5yCmJOUjYiFNGHi_xP5YZBJ1ZpWGKsZ=s64",
                        "userId": "09561174857978505545"
                    }
                }
            },
            "cell_type": "code",
            "source": "bogota_data_wo_nan = bogota_data.dropna(subset=['Cluster Labels'])\nbogota_data = bogota_data_wo_nan\nbogota_data",
            "execution_count": 39,
            "outputs": [
                {
                    "output_type": "execute_result",
                    "execution_count": 39,
                    "data": {
                        "text/plain": "                  town post_code  latitude  longitude  Cluster Labels  \\\n0              Usaqu\u00e9n    110111  4.691000 -74.033448             1.0   \n1            Chapinero    110211  4.667800 -74.025910             2.0   \n5           Tunjuelito    110611  4.584725 -74.141170             4.0   \n6                 Bosa    110711  4.638727 -74.189920             1.0   \n7              Kennedy    110811  4.652555 -74.155299             1.0   \n8             Fontib\u00f3n    110911  4.695895 -74.144576             1.0   \n9             Engativ\u00e1    111011  4.724539 -74.115505             1.0   \n10                Suba    111111  4.708096 -74.063170             1.0   \n11      Barrios Unidos    111211  4.677830 -74.071605             3.0   \n12         Teusaquillo    111311  4.633320 -74.072908             1.0   \n13        Los M\u00e1rtires    111411  4.604256 -74.089915             1.0   \n14      Antonio Nari\u00f1o    111511  4.587130 -74.096930             1.0   \n15       Puente Aranda    111611  4.624250 -74.103724             5.0   \n16       La Candelaria    111711  4.599095 -74.071979             1.0   \n17  Rafael Uribe Uribe    111811  4.579730 -74.116825             1.0   \n18      Ciudad Bol\u00edvar    111911  4.577028 -74.151465             1.0   \n\n   1st Most Common Venue          2nd Most Common Venue  \\\n0                  Hotel              French Restaurant   \n1               Mountain  Vegetarian / Vegan Restaurant   \n5             Restaurant                            Gym   \n6          Movie Theater                 Ice Cream Shop   \n7           Burger Joint              Health Food Store   \n8         Airport Lounge                    Coffee Shop   \n9            Pizza Place                      Multiplex   \n10           Coffee Shop                     Restaurant   \n11    Mexican Restaurant      Latin American Restaurant   \n12               Brewery                           Caf\u00e9   \n13         Shopping Mall                     Restaurant   \n14      Department Store                 Clothing Store   \n15             BBQ Joint                Motorcycle Shop   \n16                  Caf\u00e9             Italian Restaurant   \n17          Neighborhood                   Burger Joint   \n18                  Park           Fast Food Restaurant   \n\n            3rd Most Common Venue          4th Most Common Venue  \\\n0                            Caf\u00e9               Asian Restaurant   \n1                       Gastropub                   Cocktail Bar   \n5       Latin American Restaurant  Vegetarian / Vegan Restaurant   \n6                   Shopping Mall                       Pharmacy   \n7                   Shopping Mall                    Beer Garden   \n8                            Caf\u00e9                    Pizza Place   \n9            Gym / Fitness Center                           Park   \n10                      Gastropub           Fast Food Restaurant   \n11  Vegetarian / Vegan Restaurant                 Clothing Store   \n12                     Restaurant                   Cocktail Bar   \n13              Mobile Phone Shop                       Boutique   \n14                     Restaurant                 Sandwich Place   \n15             Seafood Restaurant                         Bakery   \n16                 History Museum                   Cocktail Bar   \n17             Mexican Restaurant                       Pharmacy   \n18                    Auto Garage             Seafood Restaurant   \n\n            5th Most Common Venue    6th Most Common Venue  \\\n0                             Pub               Steakhouse   \n1                     Coffee Shop  Comfort Food Restaurant   \n5                    Cocktail Bar              Coffee Shop   \n6                  Clothing Store             Cocktail Bar   \n7   Vegetarian / Vegan Restaurant         Department Store   \n8                  Duty-free Shop               Donut Shop   \n9                             Bar                   Bakery   \n10                           Park       Seafood Restaurant   \n11                    Coffee Shop  Comfort Food Restaurant   \n12                   Burger Joint  New American Restaurant   \n13               Department Store           Clothing Store   \n14                  Deli / Bodega                 Pie Shop   \n15  Vegetarian / Vegan Restaurant         Department Store   \n16                         Hostel               Restaurant   \n17                   Cupcake Shop             Cocktail Bar   \n18  Vegetarian / Vegan Restaurant            Deli / Bodega   \n\n      7th Most Common Venue    8th Most Common Venue    9th Most Common Venue  \\\n0                       Bar               Restaurant                   Lounge   \n1              Concert Hall        Convenience Store           Cosmetics Shop   \n5   Comfort Food Restaurant             Concert Hall        Convenience Store   \n6               Coffee Shop  Comfort Food Restaurant             Concert Hall   \n7               Coffee Shop  Comfort Food Restaurant             Concert Hall   \n8            Cosmetics Shop                Gift Shop      Fried Chicken Joint   \n9        Seafood Restaurant           Shop & Service                      Pub   \n10           Ice Cream Shop                      Pub             Cupcake Shop   \n11             Concert Hall        Convenience Store           Cosmetics Shop   \n12                Bookstore                     Park    Performing Arts Venue   \n13           Duty-free Shop                Drugstore             Cocktail Bar   \n14              Pizza Place        Mobile Phone Shop                BBQ Joint   \n15              Coffee Shop  Comfort Food Restaurant             Concert Hall   \n16                     Food  Comfort Food Restaurant                    Hotel   \n17              Coffee Shop  Comfort Food Restaurant             Concert Hall   \n18             Cocktail Bar              Coffee Shop  Comfort Food Restaurant   \n\n   10th Most Common Venue  \n0               Nightclub  \n1         Cultural Center  \n5          Cosmetics Shop  \n6       Convenience Store  \n7       Convenience Store  \n8               Cafeteria  \n9        Toy / Game Store  \n10           Cocktail Bar  \n11        Cultural Center  \n12    Peruvian Restaurant  \n13            Coffee Shop  \n14     Salon / Barbershop  \n15      Convenience Store  \n16           Burger Joint  \n17      Convenience Store  \n18           Concert Hall  ",
                        "text/html": "<div>\n<style scoped>\n    .dataframe tbody tr th:only-of-type {\n        vertical-align: middle;\n    }\n\n    .dataframe tbody tr th {\n        vertical-align: top;\n    }\n\n    .dataframe thead th {\n        text-align: right;\n    }\n</style>\n<table border=\"1\" class=\"dataframe\">\n  <thead>\n    <tr style=\"text-align: right;\">\n      <th></th>\n      <th>town</th>\n      <th>post_code</th>\n      <th>latitude</th>\n      <th>longitude</th>\n      <th>Cluster Labels</th>\n      <th>1st Most Common Venue</th>\n      <th>2nd Most Common Venue</th>\n      <th>3rd Most Common Venue</th>\n      <th>4th Most Common Venue</th>\n      <th>5th Most Common Venue</th>\n      <th>6th Most Common Venue</th>\n      <th>7th Most Common Venue</th>\n      <th>8th Most Common Venue</th>\n      <th>9th Most Common Venue</th>\n      <th>10th Most Common Venue</th>\n    </tr>\n  </thead>\n  <tbody>\n    <tr>\n      <th>0</th>\n      <td>Usaqu\u00e9n</td>\n      <td>110111</td>\n      <td>4.691000</td>\n      <td>-74.033448</td>\n      <td>1.0</td>\n      <td>Hotel</td>\n      <td>French Restaurant</td>\n      <td>Caf\u00e9</td>\n      <td>Asian Restaurant</td>\n      <td>Pub</td>\n      <td>Steakhouse</td>\n      <td>Bar</td>\n      <td>Restaurant</td>\n      <td>Lounge</td>\n      <td>Nightclub</td>\n    </tr>\n    <tr>\n      <th>1</th>\n      <td>Chapinero</td>\n      <td>110211</td>\n      <td>4.667800</td>\n      <td>-74.025910</td>\n      <td>2.0</td>\n      <td>Mountain</td>\n      <td>Vegetarian / Vegan Restaurant</td>\n      <td>Gastropub</td>\n      <td>Cocktail Bar</td>\n      <td>Coffee Shop</td>\n      <td>Comfort Food Restaurant</td>\n      <td>Concert Hall</td>\n      <td>Convenience Store</td>\n      <td>Cosmetics Shop</td>\n      <td>Cultural Center</td>\n    </tr>\n    <tr>\n      <th>5</th>\n      <td>Tunjuelito</td>\n      <td>110611</td>\n      <td>4.584725</td>\n      <td>-74.141170</td>\n      <td>4.0</td>\n      <td>Restaurant</td>\n      <td>Gym</td>\n      <td>Latin American Restaurant</td>\n      <td>Vegetarian / Vegan Restaurant</td>\n      <td>Cocktail Bar</td>\n      <td>Coffee Shop</td>\n      <td>Comfort Food Restaurant</td>\n      <td>Concert Hall</td>\n      <td>Convenience Store</td>\n      <td>Cosmetics Shop</td>\n    </tr>\n    <tr>\n      <th>6</th>\n      <td>Bosa</td>\n      <td>110711</td>\n      <td>4.638727</td>\n      <td>-74.189920</td>\n      <td>1.0</td>\n      <td>Movie Theater</td>\n      <td>Ice Cream Shop</td>\n      <td>Shopping Mall</td>\n      <td>Pharmacy</td>\n      <td>Clothing Store</td>\n      <td>Cocktail Bar</td>\n      <td>Coffee Shop</td>\n      <td>Comfort Food Restaurant</td>\n      <td>Concert Hall</td>\n      <td>Convenience Store</td>\n    </tr>\n    <tr>\n      <th>7</th>\n      <td>Kennedy</td>\n      <td>110811</td>\n      <td>4.652555</td>\n      <td>-74.155299</td>\n      <td>1.0</td>\n      <td>Burger Joint</td>\n      <td>Health Food Store</td>\n      <td>Shopping Mall</td>\n      <td>Beer Garden</td>\n      <td>Vegetarian / Vegan Restaurant</td>\n      <td>Department Store</td>\n      <td>Coffee Shop</td>\n      <td>Comfort Food Restaurant</td>\n      <td>Concert Hall</td>\n      <td>Convenience Store</td>\n    </tr>\n    <tr>\n      <th>8</th>\n      <td>Fontib\u00f3n</td>\n      <td>110911</td>\n      <td>4.695895</td>\n      <td>-74.144576</td>\n      <td>1.0</td>\n      <td>Airport Lounge</td>\n      <td>Coffee Shop</td>\n      <td>Caf\u00e9</td>\n      <td>Pizza Place</td>\n      <td>Duty-free Shop</td>\n      <td>Donut Shop</td>\n      <td>Cosmetics Shop</td>\n      <td>Gift Shop</td>\n      <td>Fried Chicken Joint</td>\n      <td>Cafeteria</td>\n    </tr>\n    <tr>\n      <th>9</th>\n      <td>Engativ\u00e1</td>\n      <td>111011</td>\n      <td>4.724539</td>\n      <td>-74.115505</td>\n      <td>1.0</td>\n      <td>Pizza Place</td>\n      <td>Multiplex</td>\n      <td>Gym / Fitness Center</td>\n      <td>Park</td>\n      <td>Bar</td>\n      <td>Bakery</td>\n      <td>Seafood Restaurant</td>\n      <td>Shop &amp; Service</td>\n      <td>Pub</td>\n      <td>Toy / Game Store</td>\n    </tr>\n    <tr>\n      <th>10</th>\n      <td>Suba</td>\n      <td>111111</td>\n      <td>4.708096</td>\n      <td>-74.063170</td>\n      <td>1.0</td>\n      <td>Coffee Shop</td>\n      <td>Restaurant</td>\n      <td>Gastropub</td>\n      <td>Fast Food Restaurant</td>\n      <td>Park</td>\n      <td>Seafood Restaurant</td>\n      <td>Ice Cream Shop</td>\n      <td>Pub</td>\n      <td>Cupcake Shop</td>\n      <td>Cocktail Bar</td>\n    </tr>\n    <tr>\n      <th>11</th>\n      <td>Barrios Unidos</td>\n      <td>111211</td>\n      <td>4.677830</td>\n      <td>-74.071605</td>\n      <td>3.0</td>\n      <td>Mexican Restaurant</td>\n      <td>Latin American Restaurant</td>\n      <td>Vegetarian / Vegan Restaurant</td>\n      <td>Clothing Store</td>\n      <td>Coffee Shop</td>\n      <td>Comfort Food Restaurant</td>\n      <td>Concert Hall</td>\n      <td>Convenience Store</td>\n      <td>Cosmetics Shop</td>\n      <td>Cultural Center</td>\n    </tr>\n    <tr>\n      <th>12</th>\n      <td>Teusaquillo</td>\n      <td>111311</td>\n      <td>4.633320</td>\n      <td>-74.072908</td>\n      <td>1.0</td>\n      <td>Brewery</td>\n      <td>Caf\u00e9</td>\n      <td>Restaurant</td>\n      <td>Cocktail Bar</td>\n      <td>Burger Joint</td>\n      <td>New American Restaurant</td>\n      <td>Bookstore</td>\n      <td>Park</td>\n      <td>Performing Arts Venue</td>\n      <td>Peruvian Restaurant</td>\n    </tr>\n    <tr>\n      <th>13</th>\n      <td>Los M\u00e1rtires</td>\n      <td>111411</td>\n      <td>4.604256</td>\n      <td>-74.089915</td>\n      <td>1.0</td>\n      <td>Shopping Mall</td>\n      <td>Restaurant</td>\n      <td>Mobile Phone Shop</td>\n      <td>Boutique</td>\n      <td>Department Store</td>\n      <td>Clothing Store</td>\n      <td>Duty-free Shop</td>\n      <td>Drugstore</td>\n      <td>Cocktail Bar</td>\n      <td>Coffee Shop</td>\n    </tr>\n    <tr>\n      <th>14</th>\n      <td>Antonio Nari\u00f1o</td>\n      <td>111511</td>\n      <td>4.587130</td>\n      <td>-74.096930</td>\n      <td>1.0</td>\n      <td>Department Store</td>\n      <td>Clothing Store</td>\n      <td>Restaurant</td>\n      <td>Sandwich Place</td>\n      <td>Deli / Bodega</td>\n      <td>Pie Shop</td>\n      <td>Pizza Place</td>\n      <td>Mobile Phone Shop</td>\n      <td>BBQ Joint</td>\n      <td>Salon / Barbershop</td>\n    </tr>\n    <tr>\n      <th>15</th>\n      <td>Puente Aranda</td>\n      <td>111611</td>\n      <td>4.624250</td>\n      <td>-74.103724</td>\n      <td>5.0</td>\n      <td>BBQ Joint</td>\n      <td>Motorcycle Shop</td>\n      <td>Seafood Restaurant</td>\n      <td>Bakery</td>\n      <td>Vegetarian / Vegan Restaurant</td>\n      <td>Department Store</td>\n      <td>Coffee Shop</td>\n      <td>Comfort Food Restaurant</td>\n      <td>Concert Hall</td>\n      <td>Convenience Store</td>\n    </tr>\n    <tr>\n      <th>16</th>\n      <td>La Candelaria</td>\n      <td>111711</td>\n      <td>4.599095</td>\n      <td>-74.071979</td>\n      <td>1.0</td>\n      <td>Caf\u00e9</td>\n      <td>Italian Restaurant</td>\n      <td>History Museum</td>\n      <td>Cocktail Bar</td>\n      <td>Hostel</td>\n      <td>Restaurant</td>\n      <td>Food</td>\n      <td>Comfort Food Restaurant</td>\n      <td>Hotel</td>\n      <td>Burger Joint</td>\n    </tr>\n    <tr>\n      <th>17</th>\n      <td>Rafael Uribe Uribe</td>\n      <td>111811</td>\n      <td>4.579730</td>\n      <td>-74.116825</td>\n      <td>1.0</td>\n      <td>Neighborhood</td>\n      <td>Burger Joint</td>\n      <td>Mexican Restaurant</td>\n      <td>Pharmacy</td>\n      <td>Cupcake Shop</td>\n      <td>Cocktail Bar</td>\n      <td>Coffee Shop</td>\n      <td>Comfort Food Restaurant</td>\n      <td>Concert Hall</td>\n      <td>Convenience Store</td>\n    </tr>\n    <tr>\n      <th>18</th>\n      <td>Ciudad Bol\u00edvar</td>\n      <td>111911</td>\n      <td>4.577028</td>\n      <td>-74.151465</td>\n      <td>1.0</td>\n      <td>Park</td>\n      <td>Fast Food Restaurant</td>\n      <td>Auto Garage</td>\n      <td>Seafood Restaurant</td>\n      <td>Vegetarian / Vegan Restaurant</td>\n      <td>Deli / Bodega</td>\n      <td>Cocktail Bar</td>\n      <td>Coffee Shop</td>\n      <td>Comfort Food Restaurant</td>\n      <td>Concert Hall</td>\n    </tr>\n  </tbody>\n</table>\n</div>"
                    },
                    "metadata": {}
                }
            ]
        },
        {
            "metadata": {
                "id": "h5IAN7aYOljr",
                "colab_type": "text"
            },
            "cell_type": "markdown",
            "source": "### Visualizing the clusters"
        },
        {
            "metadata": {
                "id": "EEv8cac3Okdg",
                "colab_type": "code",
                "colab": {
                    "base_uri": "https://localhost:8080/",
                    "height": 743
                },
                "executionInfo": {
                    "status": "ok",
                    "timestamp": 1597726567580,
                    "user_tz": -330,
                    "elapsed": 1800,
                    "user": {
                        "displayName": "Thomas George Thomas",
                        "photoUrl": "https://lh3.googleusercontent.com/a-/AOh14GhRjmtno5yCmJOUjYiFNGHi_xP5YZBJ1ZpWGKsZ=s64",
                        "userId": "09561174857978505545"
                    }
                },
                "outputId": "32fcb958-2ee1-4089-9b21-294c69f2762b",
                "scrolled": true
            },
            "cell_type": "code",
            "source": "map_clusters = folium.Map(location=[bogota_lat_coords, bogota_lng_coords], zoom_start=12)\n\nx = np.arange(clusters)\nys = [i + x + (i*x)**2 for i in range(clusters)]\ncolors_array = cm.rainbow(np.linspace(0, 1, len(ys)))\nrainbow = [colors.rgb2hex(i) for i in colors_array]\n\nmarkers_colors = []\nfor lat, lon, poi, cluster in zip(bogota_data['latitude'], bogota_data['longitude'], bogota_data['town'], bogota_data['Cluster Labels']):\n    label = folium.Popup('Cluster ' + str(int(cluster)) + '\\n' + str(poi) , parse_html=True)\n    folium.CircleMarker(\n        [lat, lon],\n        radius=20,\n        popup=label,\n        color=rainbow[int(cluster-1)],\n        fill=True,\n        fill_color=rainbow[int(cluster-1)]\n        ).add_to(map_clusters)\n        \nmap_clusters",
            "execution_count": 40,
            "outputs": [
                {
                    "output_type": "execute_result",
                    "execution_count": 40,
                    "data": {
                        "text/plain": "<folium.folium.Map at 0x7f79204c5350>",
                        "text/html": "<div style=\"width:100%;\"><div style=\"position:relative;width:100%;height:0;padding-bottom:60%;\"><span style=\"color:#565656\">Make this Notebook Trusted to load map: File -> Trust Notebook</span><iframe src=\"about:blank\" style=\"position:absolute;width:100%;height:100%;left:0;top:0;border:none !important;\" data-html=%3C%21DOCTYPE%20html%3E%0A%3Chead%3E%20%20%20%20%0A%20%20%20%20%3Cmeta%20http-equiv%3D%22content-type%22%20content%3D%22text/html%3B%20charset%3DUTF-8%22%20/%3E%0A%20%20%20%20%0A%20%20%20%20%20%20%20%20%3Cscript%3E%0A%20%20%20%20%20%20%20%20%20%20%20%20L_NO_TOUCH%20%3D%20false%3B%0A%20%20%20%20%20%20%20%20%20%20%20%20L_DISABLE_3D%20%3D%20false%3B%0A%20%20%20%20%20%20%20%20%3C/script%3E%0A%20%20%20%20%0A%20%20%20%20%3Cstyle%3Ehtml%2C%20body%20%7Bwidth%3A%20100%25%3Bheight%3A%20100%25%3Bmargin%3A%200%3Bpadding%3A%200%3B%7D%3C/style%3E%0A%20%20%20%20%3Cstyle%3E%23map%20%7Bposition%3Aabsolute%3Btop%3A0%3Bbottom%3A0%3Bright%3A0%3Bleft%3A0%3B%7D%3C/style%3E%0A%20%20%20%20%3Cscript%20src%3D%22https%3A//cdn.jsdelivr.net/npm/leaflet%401.6.0/dist/leaflet.js%22%3E%3C/script%3E%0A%20%20%20%20%3Cscript%20src%3D%22https%3A//code.jquery.com/jquery-1.12.4.min.js%22%3E%3C/script%3E%0A%20%20%20%20%3Cscript%20src%3D%22https%3A//maxcdn.bootstrapcdn.com/bootstrap/3.2.0/js/bootstrap.min.js%22%3E%3C/script%3E%0A%20%20%20%20%3Cscript%20src%3D%22https%3A//cdnjs.cloudflare.com/ajax/libs/Leaflet.awesome-markers/2.0.2/leaflet.awesome-markers.js%22%3E%3C/script%3E%0A%20%20%20%20%3Clink%20rel%3D%22stylesheet%22%20href%3D%22https%3A//cdn.jsdelivr.net/npm/leaflet%401.6.0/dist/leaflet.css%22/%3E%0A%20%20%20%20%3Clink%20rel%3D%22stylesheet%22%20href%3D%22https%3A//maxcdn.bootstrapcdn.com/bootstrap/3.2.0/css/bootstrap.min.css%22/%3E%0A%20%20%20%20%3Clink%20rel%3D%22stylesheet%22%20href%3D%22https%3A//maxcdn.bootstrapcdn.com/bootstrap/3.2.0/css/bootstrap-theme.min.css%22/%3E%0A%20%20%20%20%3Clink%20rel%3D%22stylesheet%22%20href%3D%22https%3A//maxcdn.bootstrapcdn.com/font-awesome/4.6.3/css/font-awesome.min.css%22/%3E%0A%20%20%20%20%3Clink%20rel%3D%22stylesheet%22%20href%3D%22https%3A//cdnjs.cloudflare.com/ajax/libs/Leaflet.awesome-markers/2.0.2/leaflet.awesome-markers.css%22/%3E%0A%20%20%20%20%3Clink%20rel%3D%22stylesheet%22%20href%3D%22https%3A//cdn.jsdelivr.net/gh/python-visualization/folium/folium/templates/leaflet.awesome.rotate.min.css%22/%3E%0A%20%20%20%20%0A%20%20%20%20%20%20%20%20%20%20%20%20%3Cmeta%20name%3D%22viewport%22%20content%3D%22width%3Ddevice-width%2C%0A%20%20%20%20%20%20%20%20%20%20%20%20%20%20%20%20initial-scale%3D1.0%2C%20maximum-scale%3D1.0%2C%20user-scalable%3Dno%22%20/%3E%0A%20%20%20%20%20%20%20%20%20%20%20%20%3Cstyle%3E%0A%20%20%20%20%20%20%20%20%20%20%20%20%20%20%20%20%23map_799e5e77755e45ad8ca61a48848ef010%20%7B%0A%20%20%20%20%20%20%20%20%20%20%20%20%20%20%20%20%20%20%20%20position%3A%20relative%3B%0A%20%20%20%20%20%20%20%20%20%20%20%20%20%20%20%20%20%20%20%20width%3A%20100.0%25%3B%0A%20%20%20%20%20%20%20%20%20%20%20%20%20%20%20%20%20%20%20%20height%3A%20100.0%25%3B%0A%20%20%20%20%20%20%20%20%20%20%20%20%20%20%20%20%20%20%20%20left%3A%200.0%25%3B%0A%20%20%20%20%20%20%20%20%20%20%20%20%20%20%20%20%20%20%20%20top%3A%200.0%25%3B%0A%20%20%20%20%20%20%20%20%20%20%20%20%20%20%20%20%7D%0A%20%20%20%20%20%20%20%20%20%20%20%20%3C/style%3E%0A%20%20%20%20%20%20%20%20%0A%3C/head%3E%0A%3Cbody%3E%20%20%20%20%0A%20%20%20%20%0A%20%20%20%20%20%20%20%20%20%20%20%20%3Cdiv%20class%3D%22folium-map%22%20id%3D%22map_799e5e77755e45ad8ca61a48848ef010%22%20%3E%3C/div%3E%0A%20%20%20%20%20%20%20%20%0A%3C/body%3E%0A%3Cscript%3E%20%20%20%20%0A%20%20%20%20%0A%20%20%20%20%20%20%20%20%20%20%20%20var%20map_799e5e77755e45ad8ca61a48848ef010%20%3D%20L.map%28%0A%20%20%20%20%20%20%20%20%20%20%20%20%20%20%20%20%22map_799e5e77755e45ad8ca61a48848ef010%22%2C%0A%20%20%20%20%20%20%20%20%20%20%20%20%20%20%20%20%7B%0A%20%20%20%20%20%20%20%20%20%20%20%20%20%20%20%20%20%20%20%20center%3A%20%5B4.614960000000053%2C%20-74.06940999999995%5D%2C%0A%20%20%20%20%20%20%20%20%20%20%20%20%20%20%20%20%20%20%20%20crs%3A%20L.CRS.EPSG3857%2C%0A%20%20%20%20%20%20%20%20%20%20%20%20%20%20%20%20%20%20%20%20zoom%3A%2012%2C%0A%20%20%20%20%20%20%20%20%20%20%20%20%20%20%20%20%20%20%20%20zoomControl%3A%20true%2C%0A%20%20%20%20%20%20%20%20%20%20%20%20%20%20%20%20%20%20%20%20preferCanvas%3A%20false%2C%0A%20%20%20%20%20%20%20%20%20%20%20%20%20%20%20%20%7D%0A%20%20%20%20%20%20%20%20%20%20%20%20%29%3B%0A%0A%20%20%20%20%20%20%20%20%20%20%20%20%0A%0A%20%20%20%20%20%20%20%20%0A%20%20%20%20%0A%20%20%20%20%20%20%20%20%20%20%20%20var%20tile_layer_cfbf406ffa144d6697cd90ca20b287e9%20%3D%20L.tileLayer%28%0A%20%20%20%20%20%20%20%20%20%20%20%20%20%20%20%20%22https%3A//%7Bs%7D.tile.openstreetmap.org/%7Bz%7D/%7Bx%7D/%7By%7D.png%22%2C%0A%20%20%20%20%20%20%20%20%20%20%20%20%20%20%20%20%7B%22attribution%22%3A%20%22Data%20by%20%5Cu0026copy%3B%20%5Cu003ca%20href%3D%5C%22http%3A//openstreetmap.org%5C%22%5Cu003eOpenStreetMap%5Cu003c/a%5Cu003e%2C%20under%20%5Cu003ca%20href%3D%5C%22http%3A//www.openstreetmap.org/copyright%5C%22%5Cu003eODbL%5Cu003c/a%5Cu003e.%22%2C%20%22detectRetina%22%3A%20false%2C%20%22maxNativeZoom%22%3A%2018%2C%20%22maxZoom%22%3A%2018%2C%20%22minZoom%22%3A%200%2C%20%22noWrap%22%3A%20false%2C%20%22opacity%22%3A%201%2C%20%22subdomains%22%3A%20%22abc%22%2C%20%22tms%22%3A%20false%7D%0A%20%20%20%20%20%20%20%20%20%20%20%20%29.addTo%28map_799e5e77755e45ad8ca61a48848ef010%29%3B%0A%20%20%20%20%20%20%20%20%0A%20%20%20%20%0A%20%20%20%20%20%20%20%20%20%20%20%20var%20circle_marker_39dfec2daa164ed49fc29d69b40eb918%20%3D%20L.circleMarker%28%0A%20%20%20%20%20%20%20%20%20%20%20%20%20%20%20%20%5B4.691000000000031%2C%20-74.03344796899995%5D%2C%0A%20%20%20%20%20%20%20%20%20%20%20%20%20%20%20%20%7B%22bubblingMouseEvents%22%3A%20true%2C%20%22color%22%3A%20%22%238000ff%22%2C%20%22dashArray%22%3A%20null%2C%20%22dashOffset%22%3A%20null%2C%20%22fill%22%3A%20true%2C%20%22fillColor%22%3A%20%22%238000ff%22%2C%20%22fillOpacity%22%3A%200.2%2C%20%22fillRule%22%3A%20%22evenodd%22%2C%20%22lineCap%22%3A%20%22round%22%2C%20%22lineJoin%22%3A%20%22round%22%2C%20%22opacity%22%3A%201.0%2C%20%22radius%22%3A%2020%2C%20%22stroke%22%3A%20true%2C%20%22weight%22%3A%203%7D%0A%20%20%20%20%20%20%20%20%20%20%20%20%29.addTo%28map_799e5e77755e45ad8ca61a48848ef010%29%3B%0A%20%20%20%20%20%20%20%20%0A%20%20%20%20%0A%20%20%20%20%20%20%20%20var%20popup_84b8f1ae2a314b9ab43bb2cf70a101c9%20%3D%20L.popup%28%7B%22maxWidth%22%3A%20%22100%25%22%7D%29%3B%0A%0A%20%20%20%20%20%20%20%20%0A%20%20%20%20%20%20%20%20%20%20%20%20var%20html_2eb00e0d21bb4937a34e95da6bd09ddc%20%3D%20%24%28%60%3Cdiv%20id%3D%22html_2eb00e0d21bb4937a34e95da6bd09ddc%22%20style%3D%22width%3A%20100.0%25%3B%20height%3A%20100.0%25%3B%22%3ECluster%201%20Usaqu%C3%A9n%3C/div%3E%60%29%5B0%5D%3B%0A%20%20%20%20%20%20%20%20%20%20%20%20popup_84b8f1ae2a314b9ab43bb2cf70a101c9.setContent%28html_2eb00e0d21bb4937a34e95da6bd09ddc%29%3B%0A%20%20%20%20%20%20%20%20%0A%0A%20%20%20%20%20%20%20%20circle_marker_39dfec2daa164ed49fc29d69b40eb918.bindPopup%28popup_84b8f1ae2a314b9ab43bb2cf70a101c9%29%0A%20%20%20%20%20%20%20%20%3B%0A%0A%20%20%20%20%20%20%20%20%0A%20%20%20%20%0A%20%20%20%20%0A%20%20%20%20%20%20%20%20%20%20%20%20var%20circle_marker_54a220c3fa9244b89b86439b58fc3f31%20%3D%20L.circleMarker%28%0A%20%20%20%20%20%20%20%20%20%20%20%20%20%20%20%20%5B4.667800000000057%2C%20-74.02591031199995%5D%2C%0A%20%20%20%20%20%20%20%20%20%20%20%20%20%20%20%20%7B%22bubblingMouseEvents%22%3A%20true%2C%20%22color%22%3A%20%22%2300b5eb%22%2C%20%22dashArray%22%3A%20null%2C%20%22dashOffset%22%3A%20null%2C%20%22fill%22%3A%20true%2C%20%22fillColor%22%3A%20%22%2300b5eb%22%2C%20%22fillOpacity%22%3A%200.2%2C%20%22fillRule%22%3A%20%22evenodd%22%2C%20%22lineCap%22%3A%20%22round%22%2C%20%22lineJoin%22%3A%20%22round%22%2C%20%22opacity%22%3A%201.0%2C%20%22radius%22%3A%2020%2C%20%22stroke%22%3A%20true%2C%20%22weight%22%3A%203%7D%0A%20%20%20%20%20%20%20%20%20%20%20%20%29.addTo%28map_799e5e77755e45ad8ca61a48848ef010%29%3B%0A%20%20%20%20%20%20%20%20%0A%20%20%20%20%0A%20%20%20%20%20%20%20%20var%20popup_38b421c1ecd94cc4a0aff00d91dcb146%20%3D%20L.popup%28%7B%22maxWidth%22%3A%20%22100%25%22%7D%29%3B%0A%0A%20%20%20%20%20%20%20%20%0A%20%20%20%20%20%20%20%20%20%20%20%20var%20html_1cb53a85a53446999232508a44a2c959%20%3D%20%24%28%60%3Cdiv%20id%3D%22html_1cb53a85a53446999232508a44a2c959%22%20style%3D%22width%3A%20100.0%25%3B%20height%3A%20100.0%25%3B%22%3ECluster%202%20Chapinero%3C/div%3E%60%29%5B0%5D%3B%0A%20%20%20%20%20%20%20%20%20%20%20%20popup_38b421c1ecd94cc4a0aff00d91dcb146.setContent%28html_1cb53a85a53446999232508a44a2c959%29%3B%0A%20%20%20%20%20%20%20%20%0A%0A%20%20%20%20%20%20%20%20circle_marker_54a220c3fa9244b89b86439b58fc3f31.bindPopup%28popup_38b421c1ecd94cc4a0aff00d91dcb146%29%0A%20%20%20%20%20%20%20%20%3B%0A%0A%20%20%20%20%20%20%20%20%0A%20%20%20%20%0A%20%20%20%20%0A%20%20%20%20%20%20%20%20%20%20%20%20var%20circle_marker_0fc9b3511de9426b8acb19f59106fbd1%20%3D%20L.circleMarker%28%0A%20%20%20%20%20%20%20%20%20%20%20%20%20%20%20%20%5B4.584725000000049%2C%20-74.14117047199994%5D%2C%0A%20%20%20%20%20%20%20%20%20%20%20%20%20%20%20%20%7B%22bubblingMouseEvents%22%3A%20true%2C%20%22color%22%3A%20%22%23ffb360%22%2C%20%22dashArray%22%3A%20null%2C%20%22dashOffset%22%3A%20null%2C%20%22fill%22%3A%20true%2C%20%22fillColor%22%3A%20%22%23ffb360%22%2C%20%22fillOpacity%22%3A%200.2%2C%20%22fillRule%22%3A%20%22evenodd%22%2C%20%22lineCap%22%3A%20%22round%22%2C%20%22lineJoin%22%3A%20%22round%22%2C%20%22opacity%22%3A%201.0%2C%20%22radius%22%3A%2020%2C%20%22stroke%22%3A%20true%2C%20%22weight%22%3A%203%7D%0A%20%20%20%20%20%20%20%20%20%20%20%20%29.addTo%28map_799e5e77755e45ad8ca61a48848ef010%29%3B%0A%20%20%20%20%20%20%20%20%0A%20%20%20%20%0A%20%20%20%20%20%20%20%20var%20popup_185ff32b36f1485d8e109698e058153c%20%3D%20L.popup%28%7B%22maxWidth%22%3A%20%22100%25%22%7D%29%3B%0A%0A%20%20%20%20%20%20%20%20%0A%20%20%20%20%20%20%20%20%20%20%20%20var%20html_a8d04d6571084206ab9aeca9b5a787a6%20%3D%20%24%28%60%3Cdiv%20id%3D%22html_a8d04d6571084206ab9aeca9b5a787a6%22%20style%3D%22width%3A%20100.0%25%3B%20height%3A%20100.0%25%3B%22%3ECluster%204%20Tunjuelito%3C/div%3E%60%29%5B0%5D%3B%0A%20%20%20%20%20%20%20%20%20%20%20%20popup_185ff32b36f1485d8e109698e058153c.setContent%28html_a8d04d6571084206ab9aeca9b5a787a6%29%3B%0A%20%20%20%20%20%20%20%20%0A%0A%20%20%20%20%20%20%20%20circle_marker_0fc9b3511de9426b8acb19f59106fbd1.bindPopup%28popup_185ff32b36f1485d8e109698e058153c%29%0A%20%20%20%20%20%20%20%20%3B%0A%0A%20%20%20%20%20%20%20%20%0A%20%20%20%20%0A%20%20%20%20%0A%20%20%20%20%20%20%20%20%20%20%20%20var%20circle_marker_ce73524df2f94927984a8ee3ab0b6622%20%3D%20L.circleMarker%28%0A%20%20%20%20%20%20%20%20%20%20%20%20%20%20%20%20%5B4.638727325000048%2C%20-74.18991999999997%5D%2C%0A%20%20%20%20%20%20%20%20%20%20%20%20%20%20%20%20%7B%22bubblingMouseEvents%22%3A%20true%2C%20%22color%22%3A%20%22%238000ff%22%2C%20%22dashArray%22%3A%20null%2C%20%22dashOffset%22%3A%20null%2C%20%22fill%22%3A%20true%2C%20%22fillColor%22%3A%20%22%238000ff%22%2C%20%22fillOpacity%22%3A%200.2%2C%20%22fillRule%22%3A%20%22evenodd%22%2C%20%22lineCap%22%3A%20%22round%22%2C%20%22lineJoin%22%3A%20%22round%22%2C%20%22opacity%22%3A%201.0%2C%20%22radius%22%3A%2020%2C%20%22stroke%22%3A%20true%2C%20%22weight%22%3A%203%7D%0A%20%20%20%20%20%20%20%20%20%20%20%20%29.addTo%28map_799e5e77755e45ad8ca61a48848ef010%29%3B%0A%20%20%20%20%20%20%20%20%0A%20%20%20%20%0A%20%20%20%20%20%20%20%20var%20popup_a0f490c93fe04167b368173be23a696d%20%3D%20L.popup%28%7B%22maxWidth%22%3A%20%22100%25%22%7D%29%3B%0A%0A%20%20%20%20%20%20%20%20%0A%20%20%20%20%20%20%20%20%20%20%20%20var%20html_a0f19010251a48719457c039bd365ebb%20%3D%20%24%28%60%3Cdiv%20id%3D%22html_a0f19010251a48719457c039bd365ebb%22%20style%3D%22width%3A%20100.0%25%3B%20height%3A%20100.0%25%3B%22%3ECluster%201%20Bosa%3C/div%3E%60%29%5B0%5D%3B%0A%20%20%20%20%20%20%20%20%20%20%20%20popup_a0f490c93fe04167b368173be23a696d.setContent%28html_a0f19010251a48719457c039bd365ebb%29%3B%0A%20%20%20%20%20%20%20%20%0A%0A%20%20%20%20%20%20%20%20circle_marker_ce73524df2f94927984a8ee3ab0b6622.bindPopup%28popup_a0f490c93fe04167b368173be23a696d%29%0A%20%20%20%20%20%20%20%20%3B%0A%0A%20%20%20%20%20%20%20%20%0A%20%20%20%20%0A%20%20%20%20%0A%20%20%20%20%20%20%20%20%20%20%20%20var%20circle_marker_d183c1b219cb4d3d8d1ca34bbadfc293%20%3D%20L.circleMarker%28%0A%20%20%20%20%20%20%20%20%20%20%20%20%20%20%20%20%5B4.6525550000000635%2C%20-74.15529871899997%5D%2C%0A%20%20%20%20%20%20%20%20%20%20%20%20%20%20%20%20%7B%22bubblingMouseEvents%22%3A%20true%2C%20%22color%22%3A%20%22%238000ff%22%2C%20%22dashArray%22%3A%20null%2C%20%22dashOffset%22%3A%20null%2C%20%22fill%22%3A%20true%2C%20%22fillColor%22%3A%20%22%238000ff%22%2C%20%22fillOpacity%22%3A%200.2%2C%20%22fillRule%22%3A%20%22evenodd%22%2C%20%22lineCap%22%3A%20%22round%22%2C%20%22lineJoin%22%3A%20%22round%22%2C%20%22opacity%22%3A%201.0%2C%20%22radius%22%3A%2020%2C%20%22stroke%22%3A%20true%2C%20%22weight%22%3A%203%7D%0A%20%20%20%20%20%20%20%20%20%20%20%20%29.addTo%28map_799e5e77755e45ad8ca61a48848ef010%29%3B%0A%20%20%20%20%20%20%20%20%0A%20%20%20%20%0A%20%20%20%20%20%20%20%20var%20popup_119ce21737df4f548a8853424435764b%20%3D%20L.popup%28%7B%22maxWidth%22%3A%20%22100%25%22%7D%29%3B%0A%0A%20%20%20%20%20%20%20%20%0A%20%20%20%20%20%20%20%20%20%20%20%20var%20html_7a2a31c9624243ea9f5c5fc8afefd32a%20%3D%20%24%28%60%3Cdiv%20id%3D%22html_7a2a31c9624243ea9f5c5fc8afefd32a%22%20style%3D%22width%3A%20100.0%25%3B%20height%3A%20100.0%25%3B%22%3ECluster%201%20Kennedy%3C/div%3E%60%29%5B0%5D%3B%0A%20%20%20%20%20%20%20%20%20%20%20%20popup_119ce21737df4f548a8853424435764b.setContent%28html_7a2a31c9624243ea9f5c5fc8afefd32a%29%3B%0A%20%20%20%20%20%20%20%20%0A%0A%20%20%20%20%20%20%20%20circle_marker_d183c1b219cb4d3d8d1ca34bbadfc293.bindPopup%28popup_119ce21737df4f548a8853424435764b%29%0A%20%20%20%20%20%20%20%20%3B%0A%0A%20%20%20%20%20%20%20%20%0A%20%20%20%20%0A%20%20%20%20%0A%20%20%20%20%20%20%20%20%20%20%20%20var%20circle_marker_84ec8484d68d4d70a037f88d31eaca16%20%3D%20L.circleMarker%28%0A%20%20%20%20%20%20%20%20%20%20%20%20%20%20%20%20%5B4.695895000000064%2C%20-74.14457572699996%5D%2C%0A%20%20%20%20%20%20%20%20%20%20%20%20%20%20%20%20%7B%22bubblingMouseEvents%22%3A%20true%2C%20%22color%22%3A%20%22%238000ff%22%2C%20%22dashArray%22%3A%20null%2C%20%22dashOffset%22%3A%20null%2C%20%22fill%22%3A%20true%2C%20%22fillColor%22%3A%20%22%238000ff%22%2C%20%22fillOpacity%22%3A%200.2%2C%20%22fillRule%22%3A%20%22evenodd%22%2C%20%22lineCap%22%3A%20%22round%22%2C%20%22lineJoin%22%3A%20%22round%22%2C%20%22opacity%22%3A%201.0%2C%20%22radius%22%3A%2020%2C%20%22stroke%22%3A%20true%2C%20%22weight%22%3A%203%7D%0A%20%20%20%20%20%20%20%20%20%20%20%20%29.addTo%28map_799e5e77755e45ad8ca61a48848ef010%29%3B%0A%20%20%20%20%20%20%20%20%0A%20%20%20%20%0A%20%20%20%20%20%20%20%20var%20popup_3263fe1dd1ef49038797655ef32a1166%20%3D%20L.popup%28%7B%22maxWidth%22%3A%20%22100%25%22%7D%29%3B%0A%0A%20%20%20%20%20%20%20%20%0A%20%20%20%20%20%20%20%20%20%20%20%20var%20html_8246b03ade884157a2bb2db97987ca42%20%3D%20%24%28%60%3Cdiv%20id%3D%22html_8246b03ade884157a2bb2db97987ca42%22%20style%3D%22width%3A%20100.0%25%3B%20height%3A%20100.0%25%3B%22%3ECluster%201%20Fontib%C3%B3n%3C/div%3E%60%29%5B0%5D%3B%0A%20%20%20%20%20%20%20%20%20%20%20%20popup_3263fe1dd1ef49038797655ef32a1166.setContent%28html_8246b03ade884157a2bb2db97987ca42%29%3B%0A%20%20%20%20%20%20%20%20%0A%0A%20%20%20%20%20%20%20%20circle_marker_84ec8484d68d4d70a037f88d31eaca16.bindPopup%28popup_3263fe1dd1ef49038797655ef32a1166%29%0A%20%20%20%20%20%20%20%20%3B%0A%0A%20%20%20%20%20%20%20%20%0A%20%20%20%20%0A%20%20%20%20%0A%20%20%20%20%20%20%20%20%20%20%20%20var%20circle_marker_69c8239215df4ee391163db8ac20710a%20%3D%20L.circleMarker%28%0A%20%20%20%20%20%20%20%20%20%20%20%20%20%20%20%20%5B4.724539094000022%2C%20-74.11550499999998%5D%2C%0A%20%20%20%20%20%20%20%20%20%20%20%20%20%20%20%20%7B%22bubblingMouseEvents%22%3A%20true%2C%20%22color%22%3A%20%22%238000ff%22%2C%20%22dashArray%22%3A%20null%2C%20%22dashOffset%22%3A%20null%2C%20%22fill%22%3A%20true%2C%20%22fillColor%22%3A%20%22%238000ff%22%2C%20%22fillOpacity%22%3A%200.2%2C%20%22fillRule%22%3A%20%22evenodd%22%2C%20%22lineCap%22%3A%20%22round%22%2C%20%22lineJoin%22%3A%20%22round%22%2C%20%22opacity%22%3A%201.0%2C%20%22radius%22%3A%2020%2C%20%22stroke%22%3A%20true%2C%20%22weight%22%3A%203%7D%0A%20%20%20%20%20%20%20%20%20%20%20%20%29.addTo%28map_799e5e77755e45ad8ca61a48848ef010%29%3B%0A%20%20%20%20%20%20%20%20%0A%20%20%20%20%0A%20%20%20%20%20%20%20%20var%20popup_9f4a1d327d284ce7905a666768333f0e%20%3D%20L.popup%28%7B%22maxWidth%22%3A%20%22100%25%22%7D%29%3B%0A%0A%20%20%20%20%20%20%20%20%0A%20%20%20%20%20%20%20%20%20%20%20%20var%20html_4cbfbf3e50cb4432a64d59a631fe7c0e%20%3D%20%24%28%60%3Cdiv%20id%3D%22html_4cbfbf3e50cb4432a64d59a631fe7c0e%22%20style%3D%22width%3A%20100.0%25%3B%20height%3A%20100.0%25%3B%22%3ECluster%201%20Engativ%C3%A1%3C/div%3E%60%29%5B0%5D%3B%0A%20%20%20%20%20%20%20%20%20%20%20%20popup_9f4a1d327d284ce7905a666768333f0e.setContent%28html_4cbfbf3e50cb4432a64d59a631fe7c0e%29%3B%0A%20%20%20%20%20%20%20%20%0A%0A%20%20%20%20%20%20%20%20circle_marker_69c8239215df4ee391163db8ac20710a.bindPopup%28popup_9f4a1d327d284ce7905a666768333f0e%29%0A%20%20%20%20%20%20%20%20%3B%0A%0A%20%20%20%20%20%20%20%20%0A%20%20%20%20%0A%20%20%20%20%0A%20%20%20%20%20%20%20%20%20%20%20%20var%20circle_marker_fade069519e84eac8ba52c615785b957%20%3D%20L.circleMarker%28%0A%20%20%20%20%20%20%20%20%20%20%20%20%20%20%20%20%5B4.7080964370000515%2C%20-74.06316999999996%5D%2C%0A%20%20%20%20%20%20%20%20%20%20%20%20%20%20%20%20%7B%22bubblingMouseEvents%22%3A%20true%2C%20%22color%22%3A%20%22%238000ff%22%2C%20%22dashArray%22%3A%20null%2C%20%22dashOffset%22%3A%20null%2C%20%22fill%22%3A%20true%2C%20%22fillColor%22%3A%20%22%238000ff%22%2C%20%22fillOpacity%22%3A%200.2%2C%20%22fillRule%22%3A%20%22evenodd%22%2C%20%22lineCap%22%3A%20%22round%22%2C%20%22lineJoin%22%3A%20%22round%22%2C%20%22opacity%22%3A%201.0%2C%20%22radius%22%3A%2020%2C%20%22stroke%22%3A%20true%2C%20%22weight%22%3A%203%7D%0A%20%20%20%20%20%20%20%20%20%20%20%20%29.addTo%28map_799e5e77755e45ad8ca61a48848ef010%29%3B%0A%20%20%20%20%20%20%20%20%0A%20%20%20%20%0A%20%20%20%20%20%20%20%20var%20popup_6b76d4f3dac34ae786033d2c0751b510%20%3D%20L.popup%28%7B%22maxWidth%22%3A%20%22100%25%22%7D%29%3B%0A%0A%20%20%20%20%20%20%20%20%0A%20%20%20%20%20%20%20%20%20%20%20%20var%20html_cdae2085432d439193f020036f090a48%20%3D%20%24%28%60%3Cdiv%20id%3D%22html_cdae2085432d439193f020036f090a48%22%20style%3D%22width%3A%20100.0%25%3B%20height%3A%20100.0%25%3B%22%3ECluster%201%20Suba%3C/div%3E%60%29%5B0%5D%3B%0A%20%20%20%20%20%20%20%20%20%20%20%20popup_6b76d4f3dac34ae786033d2c0751b510.setContent%28html_cdae2085432d439193f020036f090a48%29%3B%0A%20%20%20%20%20%20%20%20%0A%0A%20%20%20%20%20%20%20%20circle_marker_fade069519e84eac8ba52c615785b957.bindPopup%28popup_6b76d4f3dac34ae786033d2c0751b510%29%0A%20%20%20%20%20%20%20%20%3B%0A%0A%20%20%20%20%20%20%20%20%0A%20%20%20%20%0A%20%20%20%20%0A%20%20%20%20%20%20%20%20%20%20%20%20var%20circle_marker_25bb44ecbc084b6988aa721a329dc5b0%20%3D%20L.circleMarker%28%0A%20%20%20%20%20%20%20%20%20%20%20%20%20%20%20%20%5B4.67783038400006%2C%20-74.07160499999998%5D%2C%0A%20%20%20%20%20%20%20%20%20%20%20%20%20%20%20%20%7B%22bubblingMouseEvents%22%3A%20true%2C%20%22color%22%3A%20%22%2380ffb4%22%2C%20%22dashArray%22%3A%20null%2C%20%22dashOffset%22%3A%20null%2C%20%22fill%22%3A%20true%2C%20%22fillColor%22%3A%20%22%2380ffb4%22%2C%20%22fillOpacity%22%3A%200.2%2C%20%22fillRule%22%3A%20%22evenodd%22%2C%20%22lineCap%22%3A%20%22round%22%2C%20%22lineJoin%22%3A%20%22round%22%2C%20%22opacity%22%3A%201.0%2C%20%22radius%22%3A%2020%2C%20%22stroke%22%3A%20true%2C%20%22weight%22%3A%203%7D%0A%20%20%20%20%20%20%20%20%20%20%20%20%29.addTo%28map_799e5e77755e45ad8ca61a48848ef010%29%3B%0A%20%20%20%20%20%20%20%20%0A%20%20%20%20%0A%20%20%20%20%20%20%20%20var%20popup_ab087a1a565d45f49f81cc27dfae83cd%20%3D%20L.popup%28%7B%22maxWidth%22%3A%20%22100%25%22%7D%29%3B%0A%0A%20%20%20%20%20%20%20%20%0A%20%20%20%20%20%20%20%20%20%20%20%20var%20html_fc6b6d65828a492a872f122dafdc11a6%20%3D%20%24%28%60%3Cdiv%20id%3D%22html_fc6b6d65828a492a872f122dafdc11a6%22%20style%3D%22width%3A%20100.0%25%3B%20height%3A%20100.0%25%3B%22%3ECluster%203%20Barrios%20Unidos%3C/div%3E%60%29%5B0%5D%3B%0A%20%20%20%20%20%20%20%20%20%20%20%20popup_ab087a1a565d45f49f81cc27dfae83cd.setContent%28html_fc6b6d65828a492a872f122dafdc11a6%29%3B%0A%20%20%20%20%20%20%20%20%0A%0A%20%20%20%20%20%20%20%20circle_marker_25bb44ecbc084b6988aa721a329dc5b0.bindPopup%28popup_ab087a1a565d45f49f81cc27dfae83cd%29%0A%20%20%20%20%20%20%20%20%3B%0A%0A%20%20%20%20%20%20%20%20%0A%20%20%20%20%0A%20%20%20%20%0A%20%20%20%20%20%20%20%20%20%20%20%20var%20circle_marker_47f06ae41ad54af1a64047aa07658161%20%3D%20L.circleMarker%28%0A%20%20%20%20%20%20%20%20%20%20%20%20%20%20%20%20%5B4.633319682000035%2C%20-74.07290770799995%5D%2C%0A%20%20%20%20%20%20%20%20%20%20%20%20%20%20%20%20%7B%22bubblingMouseEvents%22%3A%20true%2C%20%22color%22%3A%20%22%238000ff%22%2C%20%22dashArray%22%3A%20null%2C%20%22dashOffset%22%3A%20null%2C%20%22fill%22%3A%20true%2C%20%22fillColor%22%3A%20%22%238000ff%22%2C%20%22fillOpacity%22%3A%200.2%2C%20%22fillRule%22%3A%20%22evenodd%22%2C%20%22lineCap%22%3A%20%22round%22%2C%20%22lineJoin%22%3A%20%22round%22%2C%20%22opacity%22%3A%201.0%2C%20%22radius%22%3A%2020%2C%20%22stroke%22%3A%20true%2C%20%22weight%22%3A%203%7D%0A%20%20%20%20%20%20%20%20%20%20%20%20%29.addTo%28map_799e5e77755e45ad8ca61a48848ef010%29%3B%0A%20%20%20%20%20%20%20%20%0A%20%20%20%20%0A%20%20%20%20%20%20%20%20var%20popup_6c11de9b92dd455bb6297bce67f31180%20%3D%20L.popup%28%7B%22maxWidth%22%3A%20%22100%25%22%7D%29%3B%0A%0A%20%20%20%20%20%20%20%20%0A%20%20%20%20%20%20%20%20%20%20%20%20var%20html_d289d7b0f8734910a07c864ab7948d29%20%3D%20%24%28%60%3Cdiv%20id%3D%22html_d289d7b0f8734910a07c864ab7948d29%22%20style%3D%22width%3A%20100.0%25%3B%20height%3A%20100.0%25%3B%22%3ECluster%201%20Teusaquillo%3C/div%3E%60%29%5B0%5D%3B%0A%20%20%20%20%20%20%20%20%20%20%20%20popup_6c11de9b92dd455bb6297bce67f31180.setContent%28html_d289d7b0f8734910a07c864ab7948d29%29%3B%0A%20%20%20%20%20%20%20%20%0A%0A%20%20%20%20%20%20%20%20circle_marker_47f06ae41ad54af1a64047aa07658161.bindPopup%28popup_6c11de9b92dd455bb6297bce67f31180%29%0A%20%20%20%20%20%20%20%20%3B%0A%0A%20%20%20%20%20%20%20%20%0A%20%20%20%20%0A%20%20%20%20%0A%20%20%20%20%20%20%20%20%20%20%20%20var%20circle_marker_f485b1cfd4ca4a6e9f76f007a1a3dd21%20%3D%20L.circleMarker%28%0A%20%20%20%20%20%20%20%20%20%20%20%20%20%20%20%20%5B4.604255667000075%2C%20-74.08991499999996%5D%2C%0A%20%20%20%20%20%20%20%20%20%20%20%20%20%20%20%20%7B%22bubblingMouseEvents%22%3A%20true%2C%20%22color%22%3A%20%22%238000ff%22%2C%20%22dashArray%22%3A%20null%2C%20%22dashOffset%22%3A%20null%2C%20%22fill%22%3A%20true%2C%20%22fillColor%22%3A%20%22%238000ff%22%2C%20%22fillOpacity%22%3A%200.2%2C%20%22fillRule%22%3A%20%22evenodd%22%2C%20%22lineCap%22%3A%20%22round%22%2C%20%22lineJoin%22%3A%20%22round%22%2C%20%22opacity%22%3A%201.0%2C%20%22radius%22%3A%2020%2C%20%22stroke%22%3A%20true%2C%20%22weight%22%3A%203%7D%0A%20%20%20%20%20%20%20%20%20%20%20%20%29.addTo%28map_799e5e77755e45ad8ca61a48848ef010%29%3B%0A%20%20%20%20%20%20%20%20%0A%20%20%20%20%0A%20%20%20%20%20%20%20%20var%20popup_d608f53008774a229d490ced4043b84e%20%3D%20L.popup%28%7B%22maxWidth%22%3A%20%22100%25%22%7D%29%3B%0A%0A%20%20%20%20%20%20%20%20%0A%20%20%20%20%20%20%20%20%20%20%20%20var%20html_2fb7c3e92da3431894074b7205b645a1%20%3D%20%24%28%60%3Cdiv%20id%3D%22html_2fb7c3e92da3431894074b7205b645a1%22%20style%3D%22width%3A%20100.0%25%3B%20height%3A%20100.0%25%3B%22%3ECluster%201%20Los%20M%C3%A1rtires%3C/div%3E%60%29%5B0%5D%3B%0A%20%20%20%20%20%20%20%20%20%20%20%20popup_d608f53008774a229d490ced4043b84e.setContent%28html_2fb7c3e92da3431894074b7205b645a1%29%3B%0A%20%20%20%20%20%20%20%20%0A%0A%20%20%20%20%20%20%20%20circle_marker_f485b1cfd4ca4a6e9f76f007a1a3dd21.bindPopup%28popup_d608f53008774a229d490ced4043b84e%29%0A%20%20%20%20%20%20%20%20%3B%0A%0A%20%20%20%20%20%20%20%20%0A%20%20%20%20%0A%20%20%20%20%0A%20%20%20%20%20%20%20%20%20%20%20%20var%20circle_marker_2ba56d2717474943ac72db26d26320aa%20%3D%20L.circleMarker%28%0A%20%20%20%20%20%20%20%20%20%20%20%20%20%20%20%20%5B4.587130000000059%2C%20-74.09692978299995%5D%2C%0A%20%20%20%20%20%20%20%20%20%20%20%20%20%20%20%20%7B%22bubblingMouseEvents%22%3A%20true%2C%20%22color%22%3A%20%22%238000ff%22%2C%20%22dashArray%22%3A%20null%2C%20%22dashOffset%22%3A%20null%2C%20%22fill%22%3A%20true%2C%20%22fillColor%22%3A%20%22%238000ff%22%2C%20%22fillOpacity%22%3A%200.2%2C%20%22fillRule%22%3A%20%22evenodd%22%2C%20%22lineCap%22%3A%20%22round%22%2C%20%22lineJoin%22%3A%20%22round%22%2C%20%22opacity%22%3A%201.0%2C%20%22radius%22%3A%2020%2C%20%22stroke%22%3A%20true%2C%20%22weight%22%3A%203%7D%0A%20%20%20%20%20%20%20%20%20%20%20%20%29.addTo%28map_799e5e77755e45ad8ca61a48848ef010%29%3B%0A%20%20%20%20%20%20%20%20%0A%20%20%20%20%0A%20%20%20%20%20%20%20%20var%20popup_34b4aec7b154452bbaa7b19939d9aaff%20%3D%20L.popup%28%7B%22maxWidth%22%3A%20%22100%25%22%7D%29%3B%0A%0A%20%20%20%20%20%20%20%20%0A%20%20%20%20%20%20%20%20%20%20%20%20var%20html_29f2a60fb1f34961bf531925443ceea4%20%3D%20%24%28%60%3Cdiv%20id%3D%22html_29f2a60fb1f34961bf531925443ceea4%22%20style%3D%22width%3A%20100.0%25%3B%20height%3A%20100.0%25%3B%22%3ECluster%201%20Antonio%20Nari%C3%B1o%3C/div%3E%60%29%5B0%5D%3B%0A%20%20%20%20%20%20%20%20%20%20%20%20popup_34b4aec7b154452bbaa7b19939d9aaff.setContent%28html_29f2a60fb1f34961bf531925443ceea4%29%3B%0A%20%20%20%20%20%20%20%20%0A%0A%20%20%20%20%20%20%20%20circle_marker_2ba56d2717474943ac72db26d26320aa.bindPopup%28popup_34b4aec7b154452bbaa7b19939d9aaff%29%0A%20%20%20%20%20%20%20%20%3B%0A%0A%20%20%20%20%20%20%20%20%0A%20%20%20%20%0A%20%20%20%20%0A%20%20%20%20%20%20%20%20%20%20%20%20var%20circle_marker_830dc98f598549318b5307055d840ed0%20%3D%20L.circleMarker%28%0A%20%20%20%20%20%20%20%20%20%20%20%20%20%20%20%20%5B4.624250000000075%2C%20-74.10372384099998%5D%2C%0A%20%20%20%20%20%20%20%20%20%20%20%20%20%20%20%20%7B%22bubblingMouseEvents%22%3A%20true%2C%20%22color%22%3A%20%22%23ff0000%22%2C%20%22dashArray%22%3A%20null%2C%20%22dashOffset%22%3A%20null%2C%20%22fill%22%3A%20true%2C%20%22fillColor%22%3A%20%22%23ff0000%22%2C%20%22fillOpacity%22%3A%200.2%2C%20%22fillRule%22%3A%20%22evenodd%22%2C%20%22lineCap%22%3A%20%22round%22%2C%20%22lineJoin%22%3A%20%22round%22%2C%20%22opacity%22%3A%201.0%2C%20%22radius%22%3A%2020%2C%20%22stroke%22%3A%20true%2C%20%22weight%22%3A%203%7D%0A%20%20%20%20%20%20%20%20%20%20%20%20%29.addTo%28map_799e5e77755e45ad8ca61a48848ef010%29%3B%0A%20%20%20%20%20%20%20%20%0A%20%20%20%20%0A%20%20%20%20%20%20%20%20var%20popup_daa0376b74c84debaa40db780a1455d6%20%3D%20L.popup%28%7B%22maxWidth%22%3A%20%22100%25%22%7D%29%3B%0A%0A%20%20%20%20%20%20%20%20%0A%20%20%20%20%20%20%20%20%20%20%20%20var%20html_fb6ef1fdc1934051b177cc99815d09e0%20%3D%20%24%28%60%3Cdiv%20id%3D%22html_fb6ef1fdc1934051b177cc99815d09e0%22%20style%3D%22width%3A%20100.0%25%3B%20height%3A%20100.0%25%3B%22%3ECluster%205%20Puente%20Aranda%3C/div%3E%60%29%5B0%5D%3B%0A%20%20%20%20%20%20%20%20%20%20%20%20popup_daa0376b74c84debaa40db780a1455d6.setContent%28html_fb6ef1fdc1934051b177cc99815d09e0%29%3B%0A%20%20%20%20%20%20%20%20%0A%0A%20%20%20%20%20%20%20%20circle_marker_830dc98f598549318b5307055d840ed0.bindPopup%28popup_daa0376b74c84debaa40db780a1455d6%29%0A%20%20%20%20%20%20%20%20%3B%0A%0A%20%20%20%20%20%20%20%20%0A%20%20%20%20%0A%20%20%20%20%0A%20%20%20%20%20%20%20%20%20%20%20%20var%20circle_marker_bd57b9ad7d224197b9355db83aa821bd%20%3D%20L.circleMarker%28%0A%20%20%20%20%20%20%20%20%20%20%20%20%20%20%20%20%5B4.599095000000034%2C%20-74.07197925799994%5D%2C%0A%20%20%20%20%20%20%20%20%20%20%20%20%20%20%20%20%7B%22bubblingMouseEvents%22%3A%20true%2C%20%22color%22%3A%20%22%238000ff%22%2C%20%22dashArray%22%3A%20null%2C%20%22dashOffset%22%3A%20null%2C%20%22fill%22%3A%20true%2C%20%22fillColor%22%3A%20%22%238000ff%22%2C%20%22fillOpacity%22%3A%200.2%2C%20%22fillRule%22%3A%20%22evenodd%22%2C%20%22lineCap%22%3A%20%22round%22%2C%20%22lineJoin%22%3A%20%22round%22%2C%20%22opacity%22%3A%201.0%2C%20%22radius%22%3A%2020%2C%20%22stroke%22%3A%20true%2C%20%22weight%22%3A%203%7D%0A%20%20%20%20%20%20%20%20%20%20%20%20%29.addTo%28map_799e5e77755e45ad8ca61a48848ef010%29%3B%0A%20%20%20%20%20%20%20%20%0A%20%20%20%20%0A%20%20%20%20%20%20%20%20var%20popup_e710e918fc4e446589d432039d89fa41%20%3D%20L.popup%28%7B%22maxWidth%22%3A%20%22100%25%22%7D%29%3B%0A%0A%20%20%20%20%20%20%20%20%0A%20%20%20%20%20%20%20%20%20%20%20%20var%20html_2d07b2c63a224ab78a5b6e10787da8fe%20%3D%20%24%28%60%3Cdiv%20id%3D%22html_2d07b2c63a224ab78a5b6e10787da8fe%22%20style%3D%22width%3A%20100.0%25%3B%20height%3A%20100.0%25%3B%22%3ECluster%201%20La%20Candelaria%3C/div%3E%60%29%5B0%5D%3B%0A%20%20%20%20%20%20%20%20%20%20%20%20popup_e710e918fc4e446589d432039d89fa41.setContent%28html_2d07b2c63a224ab78a5b6e10787da8fe%29%3B%0A%20%20%20%20%20%20%20%20%0A%0A%20%20%20%20%20%20%20%20circle_marker_bd57b9ad7d224197b9355db83aa821bd.bindPopup%28popup_e710e918fc4e446589d432039d89fa41%29%0A%20%20%20%20%20%20%20%20%3B%0A%0A%20%20%20%20%20%20%20%20%0A%20%20%20%20%0A%20%20%20%20%0A%20%20%20%20%20%20%20%20%20%20%20%20var%20circle_marker_b71803813651482ba883cc1111b00109%20%3D%20L.circleMarker%28%0A%20%20%20%20%20%20%20%20%20%20%20%20%20%20%20%20%5B4.5797300000000405%2C%20-74.11682462899995%5D%2C%0A%20%20%20%20%20%20%20%20%20%20%20%20%20%20%20%20%7B%22bubblingMouseEvents%22%3A%20true%2C%20%22color%22%3A%20%22%238000ff%22%2C%20%22dashArray%22%3A%20null%2C%20%22dashOffset%22%3A%20null%2C%20%22fill%22%3A%20true%2C%20%22fillColor%22%3A%20%22%238000ff%22%2C%20%22fillOpacity%22%3A%200.2%2C%20%22fillRule%22%3A%20%22evenodd%22%2C%20%22lineCap%22%3A%20%22round%22%2C%20%22lineJoin%22%3A%20%22round%22%2C%20%22opacity%22%3A%201.0%2C%20%22radius%22%3A%2020%2C%20%22stroke%22%3A%20true%2C%20%22weight%22%3A%203%7D%0A%20%20%20%20%20%20%20%20%20%20%20%20%29.addTo%28map_799e5e77755e45ad8ca61a48848ef010%29%3B%0A%20%20%20%20%20%20%20%20%0A%20%20%20%20%0A%20%20%20%20%20%20%20%20var%20popup_0a78dac662a34c78836e63194ce78a25%20%3D%20L.popup%28%7B%22maxWidth%22%3A%20%22100%25%22%7D%29%3B%0A%0A%20%20%20%20%20%20%20%20%0A%20%20%20%20%20%20%20%20%20%20%20%20var%20html_43fb6b6c781b43abb79499d652c31d6a%20%3D%20%24%28%60%3Cdiv%20id%3D%22html_43fb6b6c781b43abb79499d652c31d6a%22%20style%3D%22width%3A%20100.0%25%3B%20height%3A%20100.0%25%3B%22%3ECluster%201%20Rafael%20Uribe%20Uribe%3C/div%3E%60%29%5B0%5D%3B%0A%20%20%20%20%20%20%20%20%20%20%20%20popup_0a78dac662a34c78836e63194ce78a25.setContent%28html_43fb6b6c781b43abb79499d652c31d6a%29%3B%0A%20%20%20%20%20%20%20%20%0A%0A%20%20%20%20%20%20%20%20circle_marker_b71803813651482ba883cc1111b00109.bindPopup%28popup_0a78dac662a34c78836e63194ce78a25%29%0A%20%20%20%20%20%20%20%20%3B%0A%0A%20%20%20%20%20%20%20%20%0A%20%20%20%20%0A%20%20%20%20%0A%20%20%20%20%20%20%20%20%20%20%20%20var%20circle_marker_1b8902c90a9f4ac489fb1e993925fd4b%20%3D%20L.circleMarker%28%0A%20%20%20%20%20%20%20%20%20%20%20%20%20%20%20%20%5B4.577027933000068%2C%20-74.15146499999997%5D%2C%0A%20%20%20%20%20%20%20%20%20%20%20%20%20%20%20%20%7B%22bubblingMouseEvents%22%3A%20true%2C%20%22color%22%3A%20%22%238000ff%22%2C%20%22dashArray%22%3A%20null%2C%20%22dashOffset%22%3A%20null%2C%20%22fill%22%3A%20true%2C%20%22fillColor%22%3A%20%22%238000ff%22%2C%20%22fillOpacity%22%3A%200.2%2C%20%22fillRule%22%3A%20%22evenodd%22%2C%20%22lineCap%22%3A%20%22round%22%2C%20%22lineJoin%22%3A%20%22round%22%2C%20%22opacity%22%3A%201.0%2C%20%22radius%22%3A%2020%2C%20%22stroke%22%3A%20true%2C%20%22weight%22%3A%203%7D%0A%20%20%20%20%20%20%20%20%20%20%20%20%29.addTo%28map_799e5e77755e45ad8ca61a48848ef010%29%3B%0A%20%20%20%20%20%20%20%20%0A%20%20%20%20%0A%20%20%20%20%20%20%20%20var%20popup_629a3be188584c7aa085dd0c0a609ffa%20%3D%20L.popup%28%7B%22maxWidth%22%3A%20%22100%25%22%7D%29%3B%0A%0A%20%20%20%20%20%20%20%20%0A%20%20%20%20%20%20%20%20%20%20%20%20var%20html_8469240b592040be8685e60a3adc2449%20%3D%20%24%28%60%3Cdiv%20id%3D%22html_8469240b592040be8685e60a3adc2449%22%20style%3D%22width%3A%20100.0%25%3B%20height%3A%20100.0%25%3B%22%3ECluster%201%20Ciudad%20Bol%C3%ADvar%3C/div%3E%60%29%5B0%5D%3B%0A%20%20%20%20%20%20%20%20%20%20%20%20popup_629a3be188584c7aa085dd0c0a609ffa.setContent%28html_8469240b592040be8685e60a3adc2449%29%3B%0A%20%20%20%20%20%20%20%20%0A%0A%20%20%20%20%20%20%20%20circle_marker_1b8902c90a9f4ac489fb1e993925fd4b.bindPopup%28popup_629a3be188584c7aa085dd0c0a609ffa%29%0A%20%20%20%20%20%20%20%20%3B%0A%0A%20%20%20%20%20%20%20%20%0A%20%20%20%20%0A%3C/script%3E onload=\"this.contentDocument.open();this.contentDocument.write(    decodeURIComponent(this.getAttribute('data-html')));this.contentDocument.close();\" allowfullscreen webkitallowfullscreen mozallowfullscreen></iframe></div></div>"
                    },
                    "metadata": {}
                }
            ]
        },
        {
            "metadata": {
                "id": "2p6Ndn18Pj2m",
                "colab_type": "text"
            },
            "cell_type": "markdown",
            "source": "## Examining our Clusters"
        },
        {
            "metadata": {
                "id": "Jx9KwrZ3P6Uf",
                "colab_type": "text"
            },
            "cell_type": "markdown",
            "source": "### Cluster 1"
        },
        {
            "metadata": {
                "id": "IIRvkQZuPjNM",
                "colab_type": "code",
                "colab": {
                    "base_uri": "https://localhost:8080/",
                    "height": 227
                },
                "executionInfo": {
                    "status": "ok",
                    "timestamp": 1597726606178,
                    "user_tz": -330,
                    "elapsed": 1050,
                    "user": {
                        "displayName": "Thomas George Thomas",
                        "photoUrl": "https://lh3.googleusercontent.com/a-/AOh14GhRjmtno5yCmJOUjYiFNGHi_xP5YZBJ1ZpWGKsZ=s64",
                        "userId": "09561174857978505545"
                    }
                },
                "outputId": "e4a7c639-7d36-48fe-9d78-874b9d0579c8"
            },
            "cell_type": "code",
            "source": "bogota_data.loc[bogota_data['Cluster Labels'] == 1, bogota_data.columns[[1] + list(range(5, bogota_data.shape[1]))]]",
            "execution_count": 41,
            "outputs": [
                {
                    "output_type": "execute_result",
                    "execution_count": 41,
                    "data": {
                        "text/plain": "   post_code 1st Most Common Venue 2nd Most Common Venue  \\\n0     110111                 Hotel     French Restaurant   \n6     110711         Movie Theater        Ice Cream Shop   \n7     110811          Burger Joint     Health Food Store   \n8     110911        Airport Lounge           Coffee Shop   \n9     111011           Pizza Place             Multiplex   \n10    111111           Coffee Shop            Restaurant   \n12    111311               Brewery                  Caf\u00e9   \n13    111411         Shopping Mall            Restaurant   \n14    111511      Department Store        Clothing Store   \n16    111711                  Caf\u00e9    Italian Restaurant   \n17    111811          Neighborhood          Burger Joint   \n18    111911                  Park  Fast Food Restaurant   \n\n   3rd Most Common Venue 4th Most Common Venue          5th Most Common Venue  \\\n0                   Caf\u00e9      Asian Restaurant                            Pub   \n6          Shopping Mall              Pharmacy                 Clothing Store   \n7          Shopping Mall           Beer Garden  Vegetarian / Vegan Restaurant   \n8                   Caf\u00e9           Pizza Place                 Duty-free Shop   \n9   Gym / Fitness Center                  Park                            Bar   \n10             Gastropub  Fast Food Restaurant                           Park   \n12            Restaurant          Cocktail Bar                   Burger Joint   \n13     Mobile Phone Shop              Boutique               Department Store   \n14            Restaurant        Sandwich Place                  Deli / Bodega   \n16        History Museum          Cocktail Bar                         Hostel   \n17    Mexican Restaurant              Pharmacy                   Cupcake Shop   \n18           Auto Garage    Seafood Restaurant  Vegetarian / Vegan Restaurant   \n\n      6th Most Common Venue 7th Most Common Venue    8th Most Common Venue  \\\n0                Steakhouse                   Bar               Restaurant   \n6              Cocktail Bar           Coffee Shop  Comfort Food Restaurant   \n7          Department Store           Coffee Shop  Comfort Food Restaurant   \n8                Donut Shop        Cosmetics Shop                Gift Shop   \n9                    Bakery    Seafood Restaurant           Shop & Service   \n10       Seafood Restaurant        Ice Cream Shop                      Pub   \n12  New American Restaurant             Bookstore                     Park   \n13           Clothing Store        Duty-free Shop                Drugstore   \n14                 Pie Shop           Pizza Place        Mobile Phone Shop   \n16               Restaurant                  Food  Comfort Food Restaurant   \n17             Cocktail Bar           Coffee Shop  Comfort Food Restaurant   \n18            Deli / Bodega          Cocktail Bar              Coffee Shop   \n\n      9th Most Common Venue 10th Most Common Venue  \n0                    Lounge              Nightclub  \n6              Concert Hall      Convenience Store  \n7              Concert Hall      Convenience Store  \n8       Fried Chicken Joint              Cafeteria  \n9                       Pub       Toy / Game Store  \n10             Cupcake Shop           Cocktail Bar  \n12    Performing Arts Venue    Peruvian Restaurant  \n13             Cocktail Bar            Coffee Shop  \n14                BBQ Joint     Salon / Barbershop  \n16                    Hotel           Burger Joint  \n17             Concert Hall      Convenience Store  \n18  Comfort Food Restaurant           Concert Hall  ",
                        "text/html": "<div>\n<style scoped>\n    .dataframe tbody tr th:only-of-type {\n        vertical-align: middle;\n    }\n\n    .dataframe tbody tr th {\n        vertical-align: top;\n    }\n\n    .dataframe thead th {\n        text-align: right;\n    }\n</style>\n<table border=\"1\" class=\"dataframe\">\n  <thead>\n    <tr style=\"text-align: right;\">\n      <th></th>\n      <th>post_code</th>\n      <th>1st Most Common Venue</th>\n      <th>2nd Most Common Venue</th>\n      <th>3rd Most Common Venue</th>\n      <th>4th Most Common Venue</th>\n      <th>5th Most Common Venue</th>\n      <th>6th Most Common Venue</th>\n      <th>7th Most Common Venue</th>\n      <th>8th Most Common Venue</th>\n      <th>9th Most Common Venue</th>\n      <th>10th Most Common Venue</th>\n    </tr>\n  </thead>\n  <tbody>\n    <tr>\n      <th>0</th>\n      <td>110111</td>\n      <td>Hotel</td>\n      <td>French Restaurant</td>\n      <td>Caf\u00e9</td>\n      <td>Asian Restaurant</td>\n      <td>Pub</td>\n      <td>Steakhouse</td>\n      <td>Bar</td>\n      <td>Restaurant</td>\n      <td>Lounge</td>\n      <td>Nightclub</td>\n    </tr>\n    <tr>\n      <th>6</th>\n      <td>110711</td>\n      <td>Movie Theater</td>\n      <td>Ice Cream Shop</td>\n      <td>Shopping Mall</td>\n      <td>Pharmacy</td>\n      <td>Clothing Store</td>\n      <td>Cocktail Bar</td>\n      <td>Coffee Shop</td>\n      <td>Comfort Food Restaurant</td>\n      <td>Concert Hall</td>\n      <td>Convenience Store</td>\n    </tr>\n    <tr>\n      <th>7</th>\n      <td>110811</td>\n      <td>Burger Joint</td>\n      <td>Health Food Store</td>\n      <td>Shopping Mall</td>\n      <td>Beer Garden</td>\n      <td>Vegetarian / Vegan Restaurant</td>\n      <td>Department Store</td>\n      <td>Coffee Shop</td>\n      <td>Comfort Food Restaurant</td>\n      <td>Concert Hall</td>\n      <td>Convenience Store</td>\n    </tr>\n    <tr>\n      <th>8</th>\n      <td>110911</td>\n      <td>Airport Lounge</td>\n      <td>Coffee Shop</td>\n      <td>Caf\u00e9</td>\n      <td>Pizza Place</td>\n      <td>Duty-free Shop</td>\n      <td>Donut Shop</td>\n      <td>Cosmetics Shop</td>\n      <td>Gift Shop</td>\n      <td>Fried Chicken Joint</td>\n      <td>Cafeteria</td>\n    </tr>\n    <tr>\n      <th>9</th>\n      <td>111011</td>\n      <td>Pizza Place</td>\n      <td>Multiplex</td>\n      <td>Gym / Fitness Center</td>\n      <td>Park</td>\n      <td>Bar</td>\n      <td>Bakery</td>\n      <td>Seafood Restaurant</td>\n      <td>Shop &amp; Service</td>\n      <td>Pub</td>\n      <td>Toy / Game Store</td>\n    </tr>\n    <tr>\n      <th>10</th>\n      <td>111111</td>\n      <td>Coffee Shop</td>\n      <td>Restaurant</td>\n      <td>Gastropub</td>\n      <td>Fast Food Restaurant</td>\n      <td>Park</td>\n      <td>Seafood Restaurant</td>\n      <td>Ice Cream Shop</td>\n      <td>Pub</td>\n      <td>Cupcake Shop</td>\n      <td>Cocktail Bar</td>\n    </tr>\n    <tr>\n      <th>12</th>\n      <td>111311</td>\n      <td>Brewery</td>\n      <td>Caf\u00e9</td>\n      <td>Restaurant</td>\n      <td>Cocktail Bar</td>\n      <td>Burger Joint</td>\n      <td>New American Restaurant</td>\n      <td>Bookstore</td>\n      <td>Park</td>\n      <td>Performing Arts Venue</td>\n      <td>Peruvian Restaurant</td>\n    </tr>\n    <tr>\n      <th>13</th>\n      <td>111411</td>\n      <td>Shopping Mall</td>\n      <td>Restaurant</td>\n      <td>Mobile Phone Shop</td>\n      <td>Boutique</td>\n      <td>Department Store</td>\n      <td>Clothing Store</td>\n      <td>Duty-free Shop</td>\n      <td>Drugstore</td>\n      <td>Cocktail Bar</td>\n      <td>Coffee Shop</td>\n    </tr>\n    <tr>\n      <th>14</th>\n      <td>111511</td>\n      <td>Department Store</td>\n      <td>Clothing Store</td>\n      <td>Restaurant</td>\n      <td>Sandwich Place</td>\n      <td>Deli / Bodega</td>\n      <td>Pie Shop</td>\n      <td>Pizza Place</td>\n      <td>Mobile Phone Shop</td>\n      <td>BBQ Joint</td>\n      <td>Salon / Barbershop</td>\n    </tr>\n    <tr>\n      <th>16</th>\n      <td>111711</td>\n      <td>Caf\u00e9</td>\n      <td>Italian Restaurant</td>\n      <td>History Museum</td>\n      <td>Cocktail Bar</td>\n      <td>Hostel</td>\n      <td>Restaurant</td>\n      <td>Food</td>\n      <td>Comfort Food Restaurant</td>\n      <td>Hotel</td>\n      <td>Burger Joint</td>\n    </tr>\n    <tr>\n      <th>17</th>\n      <td>111811</td>\n      <td>Neighborhood</td>\n      <td>Burger Joint</td>\n      <td>Mexican Restaurant</td>\n      <td>Pharmacy</td>\n      <td>Cupcake Shop</td>\n      <td>Cocktail Bar</td>\n      <td>Coffee Shop</td>\n      <td>Comfort Food Restaurant</td>\n      <td>Concert Hall</td>\n      <td>Convenience Store</td>\n    </tr>\n    <tr>\n      <th>18</th>\n      <td>111911</td>\n      <td>Park</td>\n      <td>Fast Food Restaurant</td>\n      <td>Auto Garage</td>\n      <td>Seafood Restaurant</td>\n      <td>Vegetarian / Vegan Restaurant</td>\n      <td>Deli / Bodega</td>\n      <td>Cocktail Bar</td>\n      <td>Coffee Shop</td>\n      <td>Comfort Food Restaurant</td>\n      <td>Concert Hall</td>\n    </tr>\n  </tbody>\n</table>\n</div>"
                    },
                    "metadata": {}
                }
            ]
        },
        {
            "metadata": {
                "id": "n_5zENbHQHDc",
                "colab_type": "text"
            },
            "cell_type": "markdown",
            "source": "### Cluster 2"
        },
        {
            "metadata": {
                "id": "i52C8QyOQIIj",
                "colab_type": "code",
                "colab": {
                    "base_uri": "https://localhost:8080/",
                    "height": 708
                },
                "executionInfo": {
                    "status": "ok",
                    "timestamp": 1597726609697,
                    "user_tz": -330,
                    "elapsed": 926,
                    "user": {
                        "displayName": "Thomas George Thomas",
                        "photoUrl": "https://lh3.googleusercontent.com/a-/AOh14GhRjmtno5yCmJOUjYiFNGHi_xP5YZBJ1ZpWGKsZ=s64",
                        "userId": "09561174857978505545"
                    }
                },
                "outputId": "eed949ed-ba5f-4199-9270-55c8976640a6"
            },
            "cell_type": "code",
            "source": "bogota_data.loc[bogota_data['Cluster Labels'] == 2, bogota_data.columns[[1] + list(range(5, bogota_data.shape[1]))]]",
            "execution_count": 42,
            "outputs": [
                {
                    "output_type": "execute_result",
                    "execution_count": 42,
                    "data": {
                        "text/plain": "  post_code 1st Most Common Venue          2nd Most Common Venue  \\\n1    110211              Mountain  Vegetarian / Vegan Restaurant   \n\n  3rd Most Common Venue 4th Most Common Venue 5th Most Common Venue  \\\n1             Gastropub          Cocktail Bar           Coffee Shop   \n\n     6th Most Common Venue 7th Most Common Venue 8th Most Common Venue  \\\n1  Comfort Food Restaurant          Concert Hall     Convenience Store   \n\n  9th Most Common Venue 10th Most Common Venue  \n1        Cosmetics Shop        Cultural Center  ",
                        "text/html": "<div>\n<style scoped>\n    .dataframe tbody tr th:only-of-type {\n        vertical-align: middle;\n    }\n\n    .dataframe tbody tr th {\n        vertical-align: top;\n    }\n\n    .dataframe thead th {\n        text-align: right;\n    }\n</style>\n<table border=\"1\" class=\"dataframe\">\n  <thead>\n    <tr style=\"text-align: right;\">\n      <th></th>\n      <th>post_code</th>\n      <th>1st Most Common Venue</th>\n      <th>2nd Most Common Venue</th>\n      <th>3rd Most Common Venue</th>\n      <th>4th Most Common Venue</th>\n      <th>5th Most Common Venue</th>\n      <th>6th Most Common Venue</th>\n      <th>7th Most Common Venue</th>\n      <th>8th Most Common Venue</th>\n      <th>9th Most Common Venue</th>\n      <th>10th Most Common Venue</th>\n    </tr>\n  </thead>\n  <tbody>\n    <tr>\n      <th>1</th>\n      <td>110211</td>\n      <td>Mountain</td>\n      <td>Vegetarian / Vegan Restaurant</td>\n      <td>Gastropub</td>\n      <td>Cocktail Bar</td>\n      <td>Coffee Shop</td>\n      <td>Comfort Food Restaurant</td>\n      <td>Concert Hall</td>\n      <td>Convenience Store</td>\n      <td>Cosmetics Shop</td>\n      <td>Cultural Center</td>\n    </tr>\n  </tbody>\n</table>\n</div>"
                    },
                    "metadata": {}
                }
            ]
        },
        {
            "metadata": {
                "id": "v4QPzdbeQrH7",
                "colab_type": "text"
            },
            "cell_type": "markdown",
            "source": "### Cluster 3"
        },
        {
            "metadata": {
                "id": "2rUpGO0rQrwn",
                "colab_type": "code",
                "colab": {
                    "base_uri": "https://localhost:8080/",
                    "height": 148
                },
                "executionInfo": {
                    "status": "ok",
                    "timestamp": 1597726615898,
                    "user_tz": -330,
                    "elapsed": 879,
                    "user": {
                        "displayName": "Thomas George Thomas",
                        "photoUrl": "https://lh3.googleusercontent.com/a-/AOh14GhRjmtno5yCmJOUjYiFNGHi_xP5YZBJ1ZpWGKsZ=s64",
                        "userId": "09561174857978505545"
                    }
                },
                "outputId": "271607d2-250f-4da1-bc6f-c70e2d5a211e"
            },
            "cell_type": "code",
            "source": "bogota_data.loc[bogota_data['Cluster Labels'] == 3, bogota_data.columns[[1] + list(range(5, bogota_data.shape[1]))]]",
            "execution_count": 43,
            "outputs": [
                {
                    "output_type": "execute_result",
                    "execution_count": 43,
                    "data": {
                        "text/plain": "   post_code 1st Most Common Venue      2nd Most Common Venue  \\\n11    111211    Mexican Restaurant  Latin American Restaurant   \n\n            3rd Most Common Venue 4th Most Common Venue 5th Most Common Venue  \\\n11  Vegetarian / Vegan Restaurant        Clothing Store           Coffee Shop   \n\n      6th Most Common Venue 7th Most Common Venue 8th Most Common Venue  \\\n11  Comfort Food Restaurant          Concert Hall     Convenience Store   \n\n   9th Most Common Venue 10th Most Common Venue  \n11        Cosmetics Shop        Cultural Center  ",
                        "text/html": "<div>\n<style scoped>\n    .dataframe tbody tr th:only-of-type {\n        vertical-align: middle;\n    }\n\n    .dataframe tbody tr th {\n        vertical-align: top;\n    }\n\n    .dataframe thead th {\n        text-align: right;\n    }\n</style>\n<table border=\"1\" class=\"dataframe\">\n  <thead>\n    <tr style=\"text-align: right;\">\n      <th></th>\n      <th>post_code</th>\n      <th>1st Most Common Venue</th>\n      <th>2nd Most Common Venue</th>\n      <th>3rd Most Common Venue</th>\n      <th>4th Most Common Venue</th>\n      <th>5th Most Common Venue</th>\n      <th>6th Most Common Venue</th>\n      <th>7th Most Common Venue</th>\n      <th>8th Most Common Venue</th>\n      <th>9th Most Common Venue</th>\n      <th>10th Most Common Venue</th>\n    </tr>\n  </thead>\n  <tbody>\n    <tr>\n      <th>11</th>\n      <td>111211</td>\n      <td>Mexican Restaurant</td>\n      <td>Latin American Restaurant</td>\n      <td>Vegetarian / Vegan Restaurant</td>\n      <td>Clothing Store</td>\n      <td>Coffee Shop</td>\n      <td>Comfort Food Restaurant</td>\n      <td>Concert Hall</td>\n      <td>Convenience Store</td>\n      <td>Cosmetics Shop</td>\n      <td>Cultural Center</td>\n    </tr>\n  </tbody>\n</table>\n</div>"
                    },
                    "metadata": {}
                }
            ]
        },
        {
            "metadata": {
                "id": "vNoT1xCCQvDT",
                "colab_type": "text"
            },
            "cell_type": "markdown",
            "source": "### Cluster 4"
        },
        {
            "metadata": {
                "id": "aOAToKVrQtFl",
                "colab_type": "code",
                "colab": {
                    "base_uri": "https://localhost:8080/",
                    "height": 323
                },
                "executionInfo": {
                    "status": "ok",
                    "timestamp": 1597726618875,
                    "user_tz": -330,
                    "elapsed": 896,
                    "user": {
                        "displayName": "Thomas George Thomas",
                        "photoUrl": "https://lh3.googleusercontent.com/a-/AOh14GhRjmtno5yCmJOUjYiFNGHi_xP5YZBJ1ZpWGKsZ=s64",
                        "userId": "09561174857978505545"
                    }
                },
                "outputId": "c28def20-b1e8-407d-d5ee-d8c297ecb10c"
            },
            "cell_type": "code",
            "source": "bogota_data.loc[bogota_data['Cluster Labels'] == 4, bogota_data.columns[[1] + list(range(5, bogota_data.shape[1]))]]",
            "execution_count": 44,
            "outputs": [
                {
                    "output_type": "execute_result",
                    "execution_count": 44,
                    "data": {
                        "text/plain": "  post_code 1st Most Common Venue 2nd Most Common Venue  \\\n5    110611            Restaurant                   Gym   \n\n       3rd Most Common Venue          4th Most Common Venue  \\\n5  Latin American Restaurant  Vegetarian / Vegan Restaurant   \n\n  5th Most Common Venue 6th Most Common Venue    7th Most Common Venue  \\\n5          Cocktail Bar           Coffee Shop  Comfort Food Restaurant   \n\n  8th Most Common Venue 9th Most Common Venue 10th Most Common Venue  \n5          Concert Hall     Convenience Store         Cosmetics Shop  ",
                        "text/html": "<div>\n<style scoped>\n    .dataframe tbody tr th:only-of-type {\n        vertical-align: middle;\n    }\n\n    .dataframe tbody tr th {\n        vertical-align: top;\n    }\n\n    .dataframe thead th {\n        text-align: right;\n    }\n</style>\n<table border=\"1\" class=\"dataframe\">\n  <thead>\n    <tr style=\"text-align: right;\">\n      <th></th>\n      <th>post_code</th>\n      <th>1st Most Common Venue</th>\n      <th>2nd Most Common Venue</th>\n      <th>3rd Most Common Venue</th>\n      <th>4th Most Common Venue</th>\n      <th>5th Most Common Venue</th>\n      <th>6th Most Common Venue</th>\n      <th>7th Most Common Venue</th>\n      <th>8th Most Common Venue</th>\n      <th>9th Most Common Venue</th>\n      <th>10th Most Common Venue</th>\n    </tr>\n  </thead>\n  <tbody>\n    <tr>\n      <th>5</th>\n      <td>110611</td>\n      <td>Restaurant</td>\n      <td>Gym</td>\n      <td>Latin American Restaurant</td>\n      <td>Vegetarian / Vegan Restaurant</td>\n      <td>Cocktail Bar</td>\n      <td>Coffee Shop</td>\n      <td>Comfort Food Restaurant</td>\n      <td>Concert Hall</td>\n      <td>Convenience Store</td>\n      <td>Cosmetics Shop</td>\n    </tr>\n  </tbody>\n</table>\n</div>"
                    },
                    "metadata": {}
                }
            ]
        },
        {
            "metadata": {
                "id": "ouOfglijQ4QA",
                "colab_type": "text"
            },
            "cell_type": "markdown",
            "source": "### Cluster 5"
        },
        {
            "metadata": {
                "id": "F4xYIT6BQxG_",
                "colab_type": "code",
                "colab": {
                    "base_uri": "https://localhost:8080/",
                    "height": 131
                },
                "executionInfo": {
                    "status": "ok",
                    "timestamp": 1597726622710,
                    "user_tz": -330,
                    "elapsed": 922,
                    "user": {
                        "displayName": "Thomas George Thomas",
                        "photoUrl": "https://lh3.googleusercontent.com/a-/AOh14GhRjmtno5yCmJOUjYiFNGHi_xP5YZBJ1ZpWGKsZ=s64",
                        "userId": "09561174857978505545"
                    }
                },
                "outputId": "feba1e4e-1df5-4d60-9afb-cf628b727c93"
            },
            "cell_type": "code",
            "source": "bogota_data.loc[bogota_data['Cluster Labels'] == 5, bogota_data.columns[[1] + list(range(5, bogota_data.shape[1]))]]",
            "execution_count": 45,
            "outputs": [
                {
                    "output_type": "execute_result",
                    "execution_count": 45,
                    "data": {
                        "text/plain": "   post_code 1st Most Common Venue 2nd Most Common Venue  \\\n15    111611             BBQ Joint       Motorcycle Shop   \n\n   3rd Most Common Venue 4th Most Common Venue          5th Most Common Venue  \\\n15    Seafood Restaurant                Bakery  Vegetarian / Vegan Restaurant   \n\n   6th Most Common Venue 7th Most Common Venue    8th Most Common Venue  \\\n15      Department Store           Coffee Shop  Comfort Food Restaurant   \n\n   9th Most Common Venue 10th Most Common Venue  \n15          Concert Hall      Convenience Store  ",
                        "text/html": "<div>\n<style scoped>\n    .dataframe tbody tr th:only-of-type {\n        vertical-align: middle;\n    }\n\n    .dataframe tbody tr th {\n        vertical-align: top;\n    }\n\n    .dataframe thead th {\n        text-align: right;\n    }\n</style>\n<table border=\"1\" class=\"dataframe\">\n  <thead>\n    <tr style=\"text-align: right;\">\n      <th></th>\n      <th>post_code</th>\n      <th>1st Most Common Venue</th>\n      <th>2nd Most Common Venue</th>\n      <th>3rd Most Common Venue</th>\n      <th>4th Most Common Venue</th>\n      <th>5th Most Common Venue</th>\n      <th>6th Most Common Venue</th>\n      <th>7th Most Common Venue</th>\n      <th>8th Most Common Venue</th>\n      <th>9th Most Common Venue</th>\n      <th>10th Most Common Venue</th>\n    </tr>\n  </thead>\n  <tbody>\n    <tr>\n      <th>15</th>\n      <td>111611</td>\n      <td>BBQ Joint</td>\n      <td>Motorcycle Shop</td>\n      <td>Seafood Restaurant</td>\n      <td>Bakery</td>\n      <td>Vegetarian / Vegan Restaurant</td>\n      <td>Department Store</td>\n      <td>Coffee Shop</td>\n      <td>Comfort Food Restaurant</td>\n      <td>Concert Hall</td>\n      <td>Convenience Store</td>\n    </tr>\n  </tbody>\n</table>\n</div>"
                    },
                    "metadata": {}
                }
            ]
        },
        {
            "metadata": {
                "id": "BrHlnq6_EVSO",
                "colab_type": "text"
            },
            "cell_type": "markdown",
            "source": "# Results and Discussion\n\nThe towns of Bogota have a diverse number of places to which you could go, the number of towns is few, despite the grouping that it can be seen that Bogota is a multicultural area, with few towns but with a great variety of activities that They can be done depending on what the person is looking for, its restaurants are divided mainly into typical Colombian food, French, Chinese, Italian and sometimes thematic restaurants, it has many museums and green areas that people seem to like very much, many bars and for people looking to exercise all towns have at least one gym."
        },
        {
            "metadata": {
                "id": "NuztDbPeH2AN",
                "colab_type": "text"
            },
            "cell_type": "markdown",
            "source": "# Conclusion\n\nThe purpose of this project was to explore the localities of the city of Bogota and see how attractive it is for tourists, people who live and also for people who would like to live in Bogota. We explore the city based on the zip codes of the localities and then we extrapolate the common places present in each of the neighborhoods and finally we conclude with the grouping of similar neighborhoods.\n\nWe were able to see that each of the towns in the city of Bogota has a wide variety of experiences to offer that are unique in their own way. The cultural diversity is quite evident, which also gives the feeling of inclusion thanks to its section on multinational culture.\n\nNot all towns seem to offer a vacation getaway or romantic getaway with many places to explore, beautiful landscapes, and a wide variety of cultures. But if there is a large amount that could end up in a great experience to spend a short vacation with a pleasant memory not only for its museums, restaurants and parks, but also for its culture, tourist sites and the wonderful Colombian coffee."
        },
        {
            "metadata": {},
            "cell_type": "markdown",
            "source": "## References"
        },
        {
            "metadata": {},
            "cell_type": "markdown",
            "source": "1. [The Battle of Neighbourhood \u2014 A Tale of Two Cities by Thomas George](https://medium.com/analytics-vidhya/a-tale-of-two-cities-clustering-neighborhoods-of-london-and-paris-5328f69cd8b6)\n2. [Foursquare API](https://foursquare.com/)\n3. [ArcGIS API](https://www.arcgis.com/index.html)\n4. https://es.wikipedia.org/wiki/Anexo:Localidades_de_Bogot%C3%A1"
        }
    ],
    "metadata": {
        "colab": {
            "name": "Tale of Two Cities.ipynb",
            "provenance": [],
            "collapsed_sections": [],
            "toc_visible": true,
            "authorship_tag": "ABX9TyMBMaFgENmlg1wAYlx6zgev"
        },
        "kernelspec": {
            "name": "python3",
            "display_name": "Python 3.7",
            "language": "python"
        },
        "language_info": {
            "name": "python",
            "version": "3.7.9",
            "mimetype": "text/x-python",
            "codemirror_mode": {
                "name": "ipython",
                "version": 3
            },
            "pygments_lexer": "ipython3",
            "nbconvert_exporter": "python",
            "file_extension": ".py"
        }
    },
    "nbformat": 4,
    "nbformat_minor": 1
}